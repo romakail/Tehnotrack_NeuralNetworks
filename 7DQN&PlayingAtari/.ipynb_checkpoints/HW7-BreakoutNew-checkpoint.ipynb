{
 "cells": [
  {
   "cell_type": "code",
   "execution_count": 1,
   "metadata": {
    "collapsed": true
   },
   "outputs": [],
   "source": [
    "%matplotlib inline"
   ]
  },
  {
   "cell_type": "code",
   "execution_count": 2,
   "metadata": {
    "collapsed": false
   },
   "outputs": [
    {
     "name": "stdout",
     "output_type": "stream",
     "text": [
      "Is python : True\n",
      "Device : cpu\n",
      "Number of actions : 4\n"
     ]
    }
   ],
   "source": [
    "import gym\n",
    "import math\n",
    "import random\n",
    "import tqdm\n",
    "import numpy as np\n",
    "import matplotlib\n",
    "import matplotlib.pyplot as plt\n",
    "from collections import namedtuple\n",
    "from collections import deque\n",
    "from itertools import count\n",
    "from copy import deepcopy\n",
    "from PIL import Image\n",
    "\n",
    "import torch\n",
    "import torch.nn as nn\n",
    "import torch.optim as optim\n",
    "import torch.nn.functional as F\n",
    "import torchvision.transforms as T\n",
    "from torch.distributions import Categorical\n",
    "\n",
    "# создаем энвайронмент с игрой\n",
    "env = gym.make('Breakout-v0').unwrapped\n",
    "\n",
    "# настраиваем matplotlib\n",
    "is_ipython = 'inline' in matplotlib.get_backend()\n",
    "if is_ipython:\n",
    "    from IPython import display    \n",
    "print(\"Is python : {}\".format(is_ipython))\n",
    "\n",
    "# выбираем девайс для игры\n",
    "#device = torch.device(\"cuda: 0\" if torch.cuda.is_available() else \"cpu\")\n",
    "device = torch.device(\"cuda: 0\" if torch.cuda.is_available() else \"cpu\")\n",
    "print(\"Device : {}\".format(device))\n",
    "\n",
    "# запоминаем, сколько действий в игре\n",
    "ACTIONS_NUM = env.action_space.n\n",
    "print(\"Number of actions : {}\".format(ACTIONS_NUM))"
   ]
  },
  {
   "cell_type": "code",
   "execution_count": 3,
   "metadata": {
    "collapsed": false
   },
   "outputs": [],
   "source": [
    "STATE_SIZE = 4\n",
    "STATE_W = 84\n",
    "STATE_H = 84\n",
    "MEMSIZE = 50000\n",
    "\n",
    "# Задание 1. Необходимо реализовать класс для хранения состояния игры. \n",
    "# В качестве последнего мы будем использовать состеканные 4 последовательных кадра игры.\n",
    "# Это необходимо, чтобы агент понимал скорости и ускорения игровых объектов.\n",
    "class StateHolder:\n",
    "\n",
    "    def __init__ (self):\n",
    "        self.state = torch.zeros (4, 1, 84, 84)\n",
    "    \n",
    "    def push (self, screen):\n",
    "        self.state [3] = self.state [2]\n",
    "        self.state [2] = self.state [1]\n",
    "        self.state [1] = self.state [0]\n",
    "        self.state [0] = screen\n",
    "        \n",
    "    def get (self):\n",
    "        return self.state.permute (1, 0, 2, 3)\n",
    "    \n",
    "    def reset (self):\n",
    "        self.state = torch.zeros (4, 1, 84, 84)\n",
    "    \n",
    "        \n",
    "Transition = namedtuple('Transition',\n",
    "                        ('state', 'action', 'next_state', 'reward'))\n",
    "\n",
    "class ReplayMemory:\n",
    "\n",
    "    def __init__(self, capacity = MEMSIZE):\n",
    "        self.capacity = capacity\n",
    "        self.memory = []\n",
    "        self.position = 0\n",
    "\n",
    "    def push(self, *args):\n",
    "        #Положить переход в память\n",
    "        if len(self.memory) < self.capacity:\n",
    "            self.memory.append(None)\n",
    "        self.memory[self.position] = Transition(*args)\n",
    "        self.position = (self.position + 1) % self.capacity\n",
    "\n",
    "    def sample(self, batch_size):\n",
    "        #Получить сэмпл из памяти\n",
    "        return random.sample(self.memory, batch_size)\n",
    "\n",
    "    def __len__(self):\n",
    "        return len(self.memory)"
   ]
  },
  {
   "cell_type": "code",
   "execution_count": 4,
   "metadata": {
    "collapsed": false
   },
   "outputs": [],
   "source": [
    "# Задание 2. Собрать архитектуру сети (DQN).\n",
    "# В качестве примера можно использовать сеть вида:\n",
    "# Conv(4->32) -> Conv(32->64) -> Conv(64->64) -> FC(512) -> FC(ACTIONS_NUM)\n",
    "# В качестве функций активации необходимо использовать ReLU(но совершенно не обязательно ими ограничиваться)\n",
    "# Attention : не забудьте правильно инициализировать веса, это важно для данной задачи!\n",
    "class DQN(nn.Module):\n",
    "    \n",
    "    def __init__ (self):\n",
    "        super(DQN, self).__init__()\n",
    "        self.relu  = nn.ReLU        ()\n",
    "        self.conv1 = nn.Conv2d      (4 , 32, kernel_size = 5, stride = 2)\n",
    "        self.bn1   = nn.BatchNorm2d (32)\n",
    "        self.conv2 = nn.Conv2d      (32, 64, kernel_size = 5, stride = 2)\n",
    "        self.bn2   = nn.BatchNorm2d (64)\n",
    "        self.conv3 = nn.Conv2d      (64, 64, kernel_size = 5, stride = 2)\n",
    "        self.bn3   = nn.BatchNorm2d (64)\n",
    "        self.fc    = nn.Linear      (56 * 56, 4)    #not sure about 512\n",
    "        \n",
    "    def forward  (self, x):\n",
    "        x = self.conv1 (x)\n",
    "        x = self.bn1   (x)\n",
    "        x = self.relu  (x)\n",
    "        \n",
    "        x = self.conv2 (x)\n",
    "        x = self.bn2   (x)\n",
    "        x = self.relu  (x)\n",
    "        \n",
    "        x = self.conv3 (x)\n",
    "        x = self.bn3   (x)\n",
    "        x = self.relu  (x)\n",
    "        \n",
    "        x = x.view     (x.size(0), -1)\n",
    "        x = self.fc    (x)\n",
    "        \n",
    "        return x\n",
    "        \n",
    "        \n",
    "        "
   ]
  },
  {
   "cell_type": "code",
   "execution_count": 5,
   "metadata": {
    "collapsed": false
   },
   "outputs": [
    {
     "data": {
      "image/png": "[encoded data removed]",
      "text/plain": [
       "<Figure size 432x288 with 1 Axes>"
      ]
     },
     "metadata": {
      "needs_background": "light"
     },
     "output_type": "display_data"
    }
   ],
   "source": [
    "# Тут блок с кодом, генерирующим 1 кадр игры\n",
    "# Обратите внимание, что выходным тензора является torch.ByteTensor со значениями 0-255\n",
    "# Это сделанно намеренно для экономии места(4х экономия по сравнению с FloatTensor)\n",
    "# Подумайте, где и как необходимо совершать преобразование ByteTensort -> FloatTensor, чтобы его можно было подавать в сеть. \n",
    "\n",
    "resize = T.Compose([T.ToPILImage(),\n",
    "                    T.Resize( (STATE_W, STATE_H), interpolation=Image.CUBIC),\n",
    "                    T.ToTensor()])\n",
    "\n",
    "def get_screen():\n",
    "    screen = env.render(mode='rgb_array')\n",
    "    screen = np.dot(screen[...,:3], [0.299, 0.587, 0.114])\n",
    "    screen = screen[30:195,:]\n",
    "    screen = np.ascontiguousarray(screen, dtype=np.uint8).reshape(screen.shape[0],screen.shape[1],1)\n",
    "    return resize(screen).mul(255).type(torch.ByteTensor).to(device).detach()\n",
    "\n",
    "env.reset()\n",
    "plt.figure()\n",
    "#print (get_screen().size())\n",
    "plt.imshow(get_screen().cpu().reshape(-1,84).numpy(),\n",
    "           interpolation='none')\n",
    "plt.title('Example extracted screen')\n",
    "plt.show()"
   ]
  },
  {
   "cell_type": "code",
   "execution_count": 6,
   "metadata": {
    "collapsed": false
   },
   "outputs": [],
   "source": [
    "# Далее стандартный метод для выбора нового действия из лекции\n",
    "\n",
    "policy_net = DQN().to(device)\n",
    "target_net = DQN().to(device)\n",
    "target_net.load_state_dict(policy_net.state_dict())\n",
    "target_net.eval()\n",
    "\n",
    "optimizer = optim.Adam(policy_net.parameters(), lr=1e-4)\n",
    "\n",
    "memory = ReplayMemory()\n",
    "state_holder = StateHolder()\n",
    "\n",
    "def select_action(state, eps_threshold):\n",
    "    global steps_done\n",
    "    sample = random.random()\n",
    "    if sample > eps_threshold:\n",
    "        with torch.no_grad():\n",
    "            return policy_net(state).max(1)[1].view(1, 1)\n",
    "    else:\n",
    "        return torch.tensor([[random.randrange(ACTIONS_NUM)]], device=device, dtype=torch.long)\n",
    "\n",
    "train_rewards = []\n",
    "\n",
    "mean_size = 100\n",
    "mean_step = 1\n",
    "\n",
    "def plot_rewards(rewards = train_rewards, name = \"Train\"):\n",
    "    plt.figure(2)\n",
    "    plt.clf()\n",
    "    plt.title(name)\n",
    "    plt.xlabel('Episode')\n",
    "    plt.ylabel('Duration')\n",
    "    plt.plot(rewards)\n",
    "    # Строим график среднего вознаграждения по 100 последним эпизодам\n",
    "    if len(rewards) > mean_size:\n",
    "        means = np.array([rewards[i:i+mean_size:] for i in range(0, len(rewards) - mean_size, mean_step)]).mean(1)\n",
    "        means = np.concatenate((np.zeros(mean_size - 1), means))\n",
    "        plt.plot(means)"
   ]
  },
  {
   "cell_type": "code",
   "execution_count": 7,
   "metadata": {
    "collapsed": true
   },
   "outputs": [],
   "source": [
    "# Еще немного методов из лекции\n",
    "\n",
    "BATCH_SIZE = 32\n",
    "GAMMA = 0.99\n",
    "\n",
    "def optimize_model():\n",
    "    if len(memory) < BATCH_SIZE:\n",
    "        return\n",
    "    # выбираем новый батч\n",
    "    transitions = memory.sample(BATCH_SIZE)\n",
    "    batch = Transition(*zip(*transitions))\n",
    "\n",
    "    # Для всех состояний считаем маску не финальнсти и конкантенируем их\n",
    "    non_final_mask = torch.tensor(tuple(map(lambda s: s is not None,\n",
    "                                          batch.next_state)), device=device, dtype=torch.uint8)\n",
    "\n",
    "    non_final_next_states = torch.cat([s for s in batch.next_state\n",
    "                                                if s is not None])\n",
    "    state_batch = torch.cat(batch.state)\n",
    "    action_batch = torch.cat(batch.action)\n",
    "    reward_batch = torch.cat(batch.reward)\n",
    "\n",
    "    # Считаем Q(s_t, a) - модель дает Q(s_t), затем мы выбираем\n",
    "    # колонки, которые соответствуют нашим действиям на шаге\n",
    "    state_action_values = policy_net(state_batch).gather(1, action_batch)\n",
    "\n",
    "    # Подсчитываем ценность состяония V(s_{t+1}) для всех последующмх состояний.\n",
    "    next_state_values = torch.zeros(BATCH_SIZE, device=device).detach()\n",
    "    next_state_values[non_final_mask] = target_net(non_final_next_states).max(1)[0].detach() # берем значение максимума\n",
    "    \n",
    "    # Считаем ожидаемое значение функции оценки ценности действия  Q-values\n",
    "    expected_state_action_values = (next_state_values * GAMMA) + reward_batch\n",
    "\n",
    "    # Считаем ошибку Huber loss\n",
    "    loss = F.smooth_l1_loss(state_action_values, expected_state_action_values.unsqueeze(1))\n",
    "    \n",
    "    # Оптимизация модели\n",
    "    optimizer.zero_grad()\n",
    "    loss.backward()\n",
    "    for param in policy_net.parameters():\n",
    "        param.grad.data.clamp_(-1, 1)\n",
    "    optimizer.step()\n",
    "    \n",
    "    del non_final_mask\n",
    "    del non_final_next_states\n",
    "    del state_batch\n",
    "    del action_batch\n",
    "    del reward_batch\n",
    "    del state_action_values\n",
    "    del next_state_values\n",
    "    del expected_state_action_values\n",
    "    del loss"
   ]
  },
  {
   "cell_type": "code",
   "execution_count": null,
   "metadata": {
    "collapsed": false,
    "scrolled": true
   },
   "outputs": [
    {
     "name": "stderr",
     "output_type": "stream",
     "text": [
      "  0%|          | 1/100000 [00:00<13:18:04,  2.09it/s]"
     ]
    },
    {
     "name": "stdout",
     "output_type": "stream",
     "text": [
      "Episode score : 1.0\n",
      "Mean score : 1.0\n"
     ]
    },
    {
     "name": "stderr",
     "output_type": "stream",
     "text": [
      "  0%|          | 2/100000 [00:01<15:41:00,  1.77it/s]"
     ]
    },
    {
     "name": "stdout",
     "output_type": "stream",
     "text": [
      "Episode score : 3.0\n",
      "Mean score : 2.0\n"
     ]
    },
    {
     "name": "stderr",
     "output_type": "stream",
     "text": [
      "  0%|          | 3/100000 [00:01<15:48:47,  1.76it/s]"
     ]
    },
    {
     "name": "stdout",
     "output_type": "stream",
     "text": [
      "Episode score : 1.0\n",
      "Mean score : 1.6666666269302368\n"
     ]
    },
    {
     "name": "stderr",
     "output_type": "stream",
     "text": [
      "  0%|          | 4/100000 [00:02<14:40:14,  1.89it/s]"
     ]
    },
    {
     "name": "stdout",
     "output_type": "stream",
     "text": [
      "Episode score : 0.0\n",
      "Mean score : 1.25\n"
     ]
    },
    {
     "name": "stderr",
     "output_type": "stream",
     "text": [
      "  0%|          | 5/100000 [00:03<16:58:06,  1.64it/s]"
     ]
    },
    {
     "name": "stdout",
     "output_type": "stream",
     "text": [
      "Episode score : 3.0\n",
      "Mean score : 1.600000023841858\n"
     ]
    },
    {
     "name": "stderr",
     "output_type": "stream",
     "text": [
      "  0%|          | 6/100000 [00:03<15:28:29,  1.79it/s]"
     ]
    },
    {
     "name": "stdout",
     "output_type": "stream",
     "text": [
      "Episode score : 0.0\n",
      "Mean score : 1.3333333730697632\n"
     ]
    },
    {
     "name": "stderr",
     "output_type": "stream",
     "text": [
      "  0%|          | 7/100000 [00:04<18:15:51,  1.52it/s]"
     ]
    },
    {
     "name": "stdout",
     "output_type": "stream",
     "text": [
      "Episode score : 3.0\n",
      "Mean score : 1.5714285373687744\n"
     ]
    },
    {
     "name": "stderr",
     "output_type": "stream",
     "text": [
      "  0%|          | 8/100000 [00:04<17:34:14,  1.58it/s]"
     ]
    },
    {
     "name": "stdout",
     "output_type": "stream",
     "text": [
      "Episode score : 1.0\n",
      "Mean score : 1.5\n"
     ]
    },
    {
     "name": "stderr",
     "output_type": "stream",
     "text": [
      "  0%|          | 9/100000 [00:05<16:50:32,  1.65it/s]"
     ]
    },
    {
     "name": "stdout",
     "output_type": "stream",
     "text": [
      "Episode score : 1.0\n",
      "Mean score : 1.4444444179534912\n"
     ]
    },
    {
     "name": "stderr",
     "output_type": "stream",
     "text": [
      "  0%|          | 10/100000 [00:06<16:59:44,  1.63it/s]"
     ]
    },
    {
     "name": "stdout",
     "output_type": "stream",
     "text": [
      "Episode score : 1.0\n",
      "Mean score : 1.399999976158142\n"
     ]
    },
    {
     "name": "stderr",
     "output_type": "stream",
     "text": [
      "  0%|          | 11/100000 [00:06<17:53:21,  1.55it/s]"
     ]
    },
    {
     "name": "stdout",
     "output_type": "stream",
     "text": [
      "Episode score : 3.0\n",
      "Mean score : 1.545454502105713\n"
     ]
    },
    {
     "name": "stderr",
     "output_type": "stream",
     "text": [
      "  0%|          | 12/100000 [00:07<17:59:16,  1.54it/s]"
     ]
    },
    {
     "name": "stdout",
     "output_type": "stream",
     "text": [
      "Episode score : 2.0\n",
      "Mean score : 1.5833333730697632\n"
     ]
    },
    {
     "name": "stderr",
     "output_type": "stream",
     "text": [
      "  0%|          | 13/100000 [00:07<16:30:13,  1.68it/s]"
     ]
    },
    {
     "name": "stdout",
     "output_type": "stream",
     "text": [
      "Episode score : 0.0\n",
      "Mean score : 1.4615384340286255\n"
     ]
    },
    {
     "name": "stderr",
     "output_type": "stream",
     "text": [
      "  0%|          | 14/100000 [00:08<18:07:59,  1.53it/s]"
     ]
    },
    {
     "name": "stdout",
     "output_type": "stream",
     "text": [
      "Episode score : 3.0\n",
      "Mean score : 1.5714285373687744\n"
     ]
    },
    {
     "name": "stderr",
     "output_type": "stream",
     "text": [
      "  0%|          | 15/100000 [00:09<16:22:15,  1.70it/s]"
     ]
    },
    {
     "name": "stdout",
     "output_type": "stream",
     "text": [
      "Episode score : 0.0\n",
      "Mean score : 1.4666666984558105\n"
     ]
    },
    {
     "name": "stderr",
     "output_type": "stream",
     "text": [
      "  0%|          | 16/100000 [00:09<16:53:20,  1.64it/s]"
     ]
    },
    {
     "name": "stdout",
     "output_type": "stream",
     "text": [
      "Episode score : 1.0\n",
      "Mean score : 1.4375\n"
     ]
    },
    {
     "name": "stderr",
     "output_type": "stream",
     "text": [
      "  0%|          | 17/100000 [00:10<16:50:03,  1.65it/s]"
     ]
    },
    {
     "name": "stdout",
     "output_type": "stream",
     "text": [
      "Episode score : 2.0\n",
      "Mean score : 1.470588207244873\n"
     ]
    },
    {
     "name": "stderr",
     "output_type": "stream",
     "text": [
      "  0%|          | 18/100000 [00:11<18:00:28,  1.54it/s]"
     ]
    },
    {
     "name": "stdout",
     "output_type": "stream",
     "text": [
      "Episode score : 3.0\n",
      "Mean score : 1.5555555820465088\n"
     ]
    },
    {
     "name": "stderr",
     "output_type": "stream",
     "text": [
      "  0%|          | 19/100000 [00:11<17:22:11,  1.60it/s]"
     ]
    },
    {
     "name": "stdout",
     "output_type": "stream",
     "text": [
      "Episode score : 2.0\n",
      "Mean score : 1.5789474248886108\n"
     ]
    },
    {
     "name": "stderr",
     "output_type": "stream",
     "text": [
      "  0%|          | 20/100000 [00:12<15:48:21,  1.76it/s]"
     ]
    },
    {
     "name": "stdout",
     "output_type": "stream",
     "text": [
      "Episode score : 0.0\n",
      "Mean score : 1.5\n"
     ]
    },
    {
     "name": "stderr",
     "output_type": "stream",
     "text": [
      "  0%|          | 21/100000 [00:12<14:45:43,  1.88it/s]"
     ]
    },
    {
     "name": "stdout",
     "output_type": "stream",
     "text": [
      "Episode score : 0.0\n",
      "Mean score : 1.4285714626312256\n"
     ]
    },
    {
     "name": "stderr",
     "output_type": "stream",
     "text": [
      "  0%|          | 22/100000 [00:13<15:49:41,  1.75it/s]"
     ]
    },
    {
     "name": "stdout",
     "output_type": "stream",
     "text": [
      "Episode score : 2.0\n",
      "Mean score : 1.454545497894287\n"
     ]
    },
    {
     "name": "stderr",
     "output_type": "stream",
     "text": [
      "  0%|          | 23/100000 [00:14<19:10:44,  1.45it/s]"
     ]
    },
    {
     "name": "stdout",
     "output_type": "stream",
     "text": [
      "Episode score : 5.0\n",
      "Mean score : 1.60869562625885\n"
     ]
    },
    {
     "name": "stderr",
     "output_type": "stream",
     "text": [
      "  0%|          | 24/100000 [00:14<16:46:46,  1.66it/s]"
     ]
    },
    {
     "name": "stdout",
     "output_type": "stream",
     "text": [
      "Episode score : 0.0\n",
      "Mean score : 1.5416666269302368\n"
     ]
    },
    {
     "name": "stderr",
     "output_type": "stream",
     "text": [
      "  0%|          | 25/100000 [00:15<16:47:25,  1.65it/s]"
     ]
    },
    {
     "name": "stdout",
     "output_type": "stream",
     "text": [
      "Episode score : 2.0\n",
      "Mean score : 1.559999942779541\n"
     ]
    },
    {
     "name": "stderr",
     "output_type": "stream",
     "text": [
      "  0%|          | 26/100000 [00:15<15:00:45,  1.85it/s]"
     ]
    },
    {
     "name": "stdout",
     "output_type": "stream",
     "text": [
      "Episode score : 0.0\n",
      "Mean score : 1.5\n"
     ]
    },
    {
     "name": "stderr",
     "output_type": "stream",
     "text": [
      "  0%|          | 27/100000 [00:16<15:16:38,  1.82it/s]"
     ]
    },
    {
     "name": "stdout",
     "output_type": "stream",
     "text": [
      "Episode score : 1.0\n",
      "Mean score : 1.4814814329147339\n"
     ]
    },
    {
     "name": "stderr",
     "output_type": "stream",
     "text": [
      "  0%|          | 28/100000 [00:16<16:03:06,  1.73it/s]"
     ]
    },
    {
     "name": "stdout",
     "output_type": "stream",
     "text": [
      "Episode score : 2.0\n",
      "Mean score : 1.5\n"
     ]
    },
    {
     "name": "stderr",
     "output_type": "stream",
     "text": [
      "  0%|          | 29/100000 [00:17<14:52:03,  1.87it/s]"
     ]
    },
    {
     "name": "stdout",
     "output_type": "stream",
     "text": [
      "Episode score : 0.0\n",
      "Mean score : 1.4482758045196533\n"
     ]
    },
    {
     "name": "stderr",
     "output_type": "stream",
     "text": [
      "  0%|          | 30/100000 [00:17<14:10:29,  1.96it/s]"
     ]
    },
    {
     "name": "stdout",
     "output_type": "stream",
     "text": [
      "Episode score : 0.0\n",
      "Mean score : 1.399999976158142\n"
     ]
    },
    {
     "name": "stderr",
     "output_type": "stream",
     "text": [
      "  0%|          | 31/100000 [00:18<15:35:40,  1.78it/s]"
     ]
    },
    {
     "name": "stdout",
     "output_type": "stream",
     "text": [
      "Episode score : 2.0\n",
      "Mean score : 1.419354796409607\n"
     ]
    },
    {
     "name": "stderr",
     "output_type": "stream",
     "text": [
      "  0%|          | 32/100000 [00:18<13:53:47,  2.00it/s]"
     ]
    },
    {
     "name": "stdout",
     "output_type": "stream",
     "text": [
      "Episode score : 0.0\n",
      "Mean score : 1.375\n"
     ]
    },
    {
     "name": "stderr",
     "output_type": "stream",
     "text": [
      "  0%|          | 33/100000 [00:19<13:30:30,  2.06it/s]"
     ]
    },
    {
     "name": "stdout",
     "output_type": "stream",
     "text": [
      "Episode score : 1.0\n",
      "Mean score : 1.3636363744735718\n"
     ]
    },
    {
     "name": "stderr",
     "output_type": "stream",
     "text": [
      "  0%|          | 34/100000 [00:19<14:29:11,  1.92it/s]"
     ]
    },
    {
     "name": "stdout",
     "output_type": "stream",
     "text": [
      "Episode score : 2.0\n",
      "Mean score : 1.3823529481887817\n"
     ]
    },
    {
     "name": "stderr",
     "output_type": "stream",
     "text": [
      "  0%|          | 35/100000 [00:20<13:08:26,  2.11it/s]"
     ]
    },
    {
     "name": "stdout",
     "output_type": "stream",
     "text": [
      "Episode score : 0.0\n",
      "Mean score : 1.3428571224212646\n"
     ]
    },
    {
     "name": "stderr",
     "output_type": "stream",
     "text": [
      "  0%|          | 36/100000 [00:20<12:44:38,  2.18it/s]"
     ]
    },
    {
     "name": "stdout",
     "output_type": "stream",
     "text": [
      "Episode score : 1.0\n",
      "Mean score : 1.3333333730697632\n"
     ]
    },
    {
     "name": "stderr",
     "output_type": "stream",
     "text": [
      "  0%|          | 37/100000 [00:21<13:27:09,  2.06it/s]"
     ]
    },
    {
     "name": "stdout",
     "output_type": "stream",
     "text": [
      "Episode score : 2.0\n",
      "Mean score : 1.3513513803482056\n"
     ]
    },
    {
     "name": "stderr",
     "output_type": "stream",
     "text": [
      "  0%|          | 38/100000 [00:21<13:07:55,  2.11it/s]"
     ]
    },
    {
     "name": "stdout",
     "output_type": "stream",
     "text": [
      "Episode score : 1.0\n",
      "Mean score : 1.3421052694320679\n"
     ]
    },
    {
     "name": "stderr",
     "output_type": "stream",
     "text": [
      "  0%|          | 39/100000 [00:22<12:49:40,  2.16it/s]"
     ]
    },
    {
     "name": "stdout",
     "output_type": "stream",
     "text": [
      "Episode score : 1.0\n",
      "Mean score : 1.3333333730697632\n"
     ]
    },
    {
     "name": "stderr",
     "output_type": "stream",
     "text": [
      "  0%|          | 40/100000 [00:22<12:59:59,  2.14it/s]"
     ]
    },
    {
     "name": "stdout",
     "output_type": "stream",
     "text": [
      "Episode score : 1.0\n",
      "Mean score : 1.3250000476837158\n"
     ]
    },
    {
     "name": "stderr",
     "output_type": "stream",
     "text": [
      "  0%|          | 41/100000 [00:22<12:24:45,  2.24it/s]"
     ]
    },
    {
     "name": "stdout",
     "output_type": "stream",
     "text": [
      "Target net updated!\n",
      "Episode score : 1.0\n",
      "Mean score : 1.3170732259750366\n"
     ]
    },
    {
     "name": "stderr",
     "output_type": "stream",
     "text": [
      "  0%|          | 42/100000 [00:23<15:06:32,  1.84it/s]"
     ]
    },
    {
     "name": "stdout",
     "output_type": "stream",
     "text": [
      "Episode score : 3.0\n",
      "Mean score : 1.3571428060531616\n"
     ]
    },
    {
     "name": "stderr",
     "output_type": "stream",
     "text": [
      "  0%|          | 43/100000 [00:24<16:20:56,  1.70it/s]"
     ]
    },
    {
     "name": "stdout",
     "output_type": "stream",
     "text": [
      "Episode score : 3.0\n",
      "Mean score : 1.3953487873077393\n"
     ]
    },
    {
     "name": "stderr",
     "output_type": "stream",
     "text": [
      "  0%|          | 44/100000 [00:25<16:57:38,  1.64it/s]"
     ]
    },
    {
     "name": "stdout",
     "output_type": "stream",
     "text": [
      "Episode score : 2.0\n",
      "Mean score : 1.4090908765792847\n"
     ]
    },
    {
     "name": "stderr",
     "output_type": "stream",
     "text": [
      "  0%|          | 45/100000 [00:26<19:19:55,  1.44it/s]"
     ]
    },
    {
     "name": "stdout",
     "output_type": "stream",
     "text": [
      "Episode score : 5.0\n",
      "Mean score : 1.4888888597488403\n"
     ]
    },
    {
     "name": "stderr",
     "output_type": "stream",
     "text": [
      "  0%|          | 46/100000 [00:26<17:43:33,  1.57it/s]"
     ]
    },
    {
     "name": "stdout",
     "output_type": "stream",
     "text": [
      "Episode score : 1.0\n",
      "Mean score : 1.47826087474823\n"
     ]
    },
    {
     "name": "stderr",
     "output_type": "stream",
     "text": [
      "  0%|          | 47/100000 [00:26<15:27:25,  1.80it/s]"
     ]
    },
    {
     "name": "stdout",
     "output_type": "stream",
     "text": [
      "Episode score : 0.0\n",
      "Mean score : 1.4468084573745728\n"
     ]
    },
    {
     "name": "stderr",
     "output_type": "stream",
     "text": [
      "  0%|          | 48/100000 [00:27<14:45:14,  1.88it/s]"
     ]
    },
    {
     "name": "stdout",
     "output_type": "stream",
     "text": [
      "Episode score : 1.0\n",
      "Mean score : 1.4375\n"
     ]
    },
    {
     "name": "stderr",
     "output_type": "stream",
     "text": [
      "  0%|          | 49/100000 [00:27<15:00:55,  1.85it/s]"
     ]
    },
    {
     "name": "stdout",
     "output_type": "stream",
     "text": [
      "Episode score : 2.0\n",
      "Mean score : 1.4489796161651611\n"
     ]
    },
    {
     "name": "stderr",
     "output_type": "stream",
     "text": [
      "  0%|          | 50/100000 [00:28<14:54:14,  1.86it/s]"
     ]
    },
    {
     "name": "stdout",
     "output_type": "stream",
     "text": [
      "Episode score : 1.0\n",
      "Mean score : 1.440000057220459\n"
     ]
    },
    {
     "name": "stderr",
     "output_type": "stream",
     "text": [
      "  0%|          | 51/100000 [00:28<14:41:03,  1.89it/s]"
     ]
    },
    {
     "name": "stdout",
     "output_type": "stream",
     "text": [
      "Episode score : 1.0\n",
      "Mean score : 1.4313725233078003\n"
     ]
    },
    {
     "name": "stderr",
     "output_type": "stream",
     "text": [
      "  0%|          | 52/100000 [00:29<13:58:22,  1.99it/s]"
     ]
    },
    {
     "name": "stdout",
     "output_type": "stream",
     "text": [
      "Episode score : 1.0\n",
      "Mean score : 1.423076868057251\n"
     ]
    },
    {
     "name": "stderr",
     "output_type": "stream",
     "text": [
      "  0%|          | 53/100000 [00:29<12:51:13,  2.16it/s]"
     ]
    },
    {
     "name": "stdout",
     "output_type": "stream",
     "text": [
      "Episode score : 0.0\n",
      "Mean score : 1.396226406097412\n"
     ]
    },
    {
     "name": "stderr",
     "output_type": "stream",
     "text": [
      "  0%|          | 54/100000 [00:30<13:02:02,  2.13it/s]"
     ]
    },
    {
     "name": "stdout",
     "output_type": "stream",
     "text": [
      "Episode score : 1.0\n",
      "Mean score : 1.3888888359069824\n"
     ]
    },
    {
     "name": "stderr",
     "output_type": "stream",
     "text": [
      "  0%|          | 55/100000 [00:30<15:18:03,  1.81it/s]"
     ]
    },
    {
     "name": "stdout",
     "output_type": "stream",
     "text": [
      "Episode score : 3.0\n",
      "Mean score : 1.4181817770004272\n"
     ]
    },
    {
     "name": "stderr",
     "output_type": "stream",
     "text": [
      "  0%|          | 56/100000 [00:31<15:11:07,  1.83it/s]"
     ]
    },
    {
     "name": "stdout",
     "output_type": "stream",
     "text": [
      "Episode score : 1.0\n",
      "Mean score : 1.4107142686843872\n"
     ]
    },
    {
     "name": "stderr",
     "output_type": "stream",
     "text": [
      "  0%|          | 57/100000 [00:32<15:44:50,  1.76it/s]"
     ]
    },
    {
     "name": "stdout",
     "output_type": "stream",
     "text": [
      "Episode score : 2.0\n",
      "Mean score : 1.4210525751113892\n"
     ]
    },
    {
     "name": "stderr",
     "output_type": "stream",
     "text": [
      "  0%|          | 58/100000 [00:32<14:07:46,  1.96it/s]"
     ]
    },
    {
     "name": "stdout",
     "output_type": "stream",
     "text": [
      "Episode score : 0.0\n",
      "Mean score : 1.3965517282485962\n"
     ]
    },
    {
     "name": "stderr",
     "output_type": "stream",
     "text": [
      "  0%|          | 59/100000 [00:32<13:13:14,  2.10it/s]"
     ]
    },
    {
     "name": "stdout",
     "output_type": "stream",
     "text": [
      "Episode score : 0.0\n",
      "Mean score : 1.3728814125061035\n"
     ]
    },
    {
     "name": "stderr",
     "output_type": "stream",
     "text": [
      "  0%|          | 60/100000 [00:33<14:36:16,  1.90it/s]"
     ]
    },
    {
     "name": "stdout",
     "output_type": "stream",
     "text": [
      "Episode score : 2.0\n",
      "Mean score : 1.3833333253860474\n"
     ]
    },
    {
     "name": "stderr",
     "output_type": "stream",
     "text": [
      "  0%|          | 61/100000 [00:34<14:43:59,  1.88it/s]"
     ]
    },
    {
     "name": "stdout",
     "output_type": "stream",
     "text": [
      "Episode score : 1.0\n",
      "Mean score : 1.377049207687378\n"
     ]
    },
    {
     "name": "stderr",
     "output_type": "stream",
     "text": [
      "  0%|          | 62/100000 [00:34<14:37:39,  1.90it/s]"
     ]
    },
    {
     "name": "stdout",
     "output_type": "stream",
     "text": [
      "Episode score : 1.0\n",
      "Mean score : 1.3709677457809448\n"
     ]
    },
    {
     "name": "stderr",
     "output_type": "stream",
     "text": [
      "  0%|          | 63/100000 [00:35<13:58:32,  1.99it/s]"
     ]
    },
    {
     "name": "stdout",
     "output_type": "stream",
     "text": [
      "Episode score : 1.0\n",
      "Mean score : 1.365079402923584\n"
     ]
    },
    {
     "name": "stderr",
     "output_type": "stream",
     "text": [
      "  0%|          | 64/100000 [00:35<13:17:05,  2.09it/s]"
     ]
    },
    {
     "name": "stdout",
     "output_type": "stream",
     "text": [
      "Episode score : 0.0\n",
      "Mean score : 1.34375\n"
     ]
    },
    {
     "name": "stderr",
     "output_type": "stream",
     "text": [
      "  0%|          | 65/100000 [00:35<12:51:50,  2.16it/s]"
     ]
    },
    {
     "name": "stdout",
     "output_type": "stream",
     "text": [
      "Episode score : 0.0\n",
      "Mean score : 1.3230769634246826\n"
     ]
    },
    {
     "name": "stderr",
     "output_type": "stream",
     "text": [
      "  0%|          | 66/100000 [00:36<13:11:46,  2.10it/s]"
     ]
    },
    {
     "name": "stdout",
     "output_type": "stream",
     "text": [
      "Episode score : 1.0\n",
      "Mean score : 1.3181818723678589\n"
     ]
    },
    {
     "name": "stderr",
     "output_type": "stream",
     "text": [
      "  0%|          | 67/100000 [00:36<13:30:08,  2.06it/s]"
     ]
    },
    {
     "name": "stdout",
     "output_type": "stream",
     "text": [
      "Episode score : 1.0\n",
      "Mean score : 1.3134328126907349\n"
     ]
    },
    {
     "name": "stderr",
     "output_type": "stream",
     "text": [
      "  0%|          | 68/100000 [00:37<14:26:21,  1.92it/s]"
     ]
    },
    {
     "name": "stdout",
     "output_type": "stream",
     "text": [
      "Episode score : 2.0\n",
      "Mean score : 1.3235293626785278\n"
     ]
    },
    {
     "name": "stderr",
     "output_type": "stream",
     "text": [
      "  0%|          | 69/100000 [00:37<13:27:23,  2.06it/s]"
     ]
    },
    {
     "name": "stdout",
     "output_type": "stream",
     "text": [
      "Episode score : 0.0\n",
      "Mean score : 1.3043478727340698\n"
     ]
    },
    {
     "name": "stderr",
     "output_type": "stream",
     "text": [
      "  0%|          | 70/100000 [00:38<12:46:34,  2.17it/s]"
     ]
    },
    {
     "name": "stdout",
     "output_type": "stream",
     "text": [
      "Episode score : 0.0\n",
      "Mean score : 1.2857142686843872\n"
     ]
    },
    {
     "name": "stderr",
     "output_type": "stream",
     "text": [
      "  0%|          | 71/100000 [00:38<13:24:07,  2.07it/s]"
     ]
    },
    {
     "name": "stdout",
     "output_type": "stream",
     "text": [
      "Episode score : 2.0\n",
      "Mean score : 1.2957746982574463\n"
     ]
    },
    {
     "name": "stderr",
     "output_type": "stream",
     "text": [
      "  0%|          | 72/100000 [00:39<13:56:36,  1.99it/s]"
     ]
    },
    {
     "name": "stdout",
     "output_type": "stream",
     "text": [
      "Episode score : 2.0\n",
      "Mean score : 1.3055555820465088\n"
     ]
    },
    {
     "name": "stderr",
     "output_type": "stream",
     "text": [
      "  0%|          | 73/100000 [00:40<14:58:08,  1.85it/s]"
     ]
    },
    {
     "name": "stdout",
     "output_type": "stream",
     "text": [
      "Episode score : 3.0\n",
      "Mean score : 1.32876718044281\n"
     ]
    },
    {
     "name": "stderr",
     "output_type": "stream",
     "text": [
      "  0%|          | 74/100000 [00:40<13:44:16,  2.02it/s]"
     ]
    },
    {
     "name": "stdout",
     "output_type": "stream",
     "text": [
      "Episode score : 0.0\n",
      "Mean score : 1.3108108043670654\n"
     ]
    },
    {
     "name": "stderr",
     "output_type": "stream",
     "text": [
      "  0%|          | 75/100000 [00:40<12:47:28,  2.17it/s]"
     ]
    },
    {
     "name": "stdout",
     "output_type": "stream",
     "text": [
      "Episode score : 0.0\n",
      "Mean score : 1.2933332920074463\n"
     ]
    },
    {
     "name": "stderr",
     "output_type": "stream",
     "text": [
      "  0%|          | 76/100000 [00:41<13:44:58,  2.02it/s]"
     ]
    },
    {
     "name": "stdout",
     "output_type": "stream",
     "text": [
      "Episode score : 2.0\n",
      "Mean score : 1.3026316165924072\n"
     ]
    },
    {
     "name": "stderr",
     "output_type": "stream",
     "text": [
      "  0%|          | 77/100000 [00:41<13:56:25,  1.99it/s]"
     ]
    },
    {
     "name": "stdout",
     "output_type": "stream",
     "text": [
      "Episode score : 1.0\n",
      "Mean score : 1.298701286315918\n"
     ]
    },
    {
     "name": "stderr",
     "output_type": "stream",
     "text": [
      "  0%|          | 78/100000 [00:42<12:47:44,  2.17it/s]"
     ]
    },
    {
     "name": "stdout",
     "output_type": "stream",
     "text": [
      "Episode score : 0.0\n",
      "Mean score : 1.2820513248443604\n"
     ]
    },
    {
     "name": "stderr",
     "output_type": "stream",
     "text": [
      "  0%|          | 79/100000 [00:42<13:15:21,  2.09it/s]"
     ]
    },
    {
     "name": "stdout",
     "output_type": "stream",
     "text": [
      "Episode score : 1.0\n",
      "Mean score : 1.2784810066223145\n"
     ]
    },
    {
     "name": "stderr",
     "output_type": "stream",
     "text": [
      "  0%|          | 80/100000 [00:43<13:34:04,  2.05it/s]"
     ]
    },
    {
     "name": "stdout",
     "output_type": "stream",
     "text": [
      "Episode score : 1.0\n",
      "Mean score : 1.274999976158142\n"
     ]
    },
    {
     "name": "stderr",
     "output_type": "stream",
     "text": [
      "  0%|          | 81/100000 [00:43<14:21:33,  1.93it/s]"
     ]
    },
    {
     "name": "stdout",
     "output_type": "stream",
     "text": [
      "Episode score : 2.0\n",
      "Mean score : 1.2839505672454834\n"
     ]
    },
    {
     "name": "stderr",
     "output_type": "stream",
     "text": [
      "  0%|          | 82/100000 [00:44<13:13:16,  2.10it/s]"
     ]
    },
    {
     "name": "stdout",
     "output_type": "stream",
     "text": [
      "Episode score : 0.0\n",
      "Mean score : 1.2682926654815674\n",
      "Target net updated!\n"
     ]
    },
    {
     "name": "stderr",
     "output_type": "stream",
     "text": [
      "  0%|          | 83/100000 [00:44<14:14:36,  1.95it/s]"
     ]
    },
    {
     "name": "stdout",
     "output_type": "stream",
     "text": [
      "Episode score : 2.0\n",
      "Mean score : 1.2771084308624268\n"
     ]
    },
    {
     "name": "stderr",
     "output_type": "stream",
     "text": [
      "  0%|          | 84/100000 [00:45<13:28:10,  2.06it/s]"
     ]
    },
    {
     "name": "stdout",
     "output_type": "stream",
     "text": [
      "Episode score : 0.0\n",
      "Mean score : 1.2619047164916992\n"
     ]
    },
    {
     "name": "stderr",
     "output_type": "stream",
     "text": [
      "  0%|          | 85/100000 [00:45<15:03:30,  1.84it/s]"
     ]
    },
    {
     "name": "stdout",
     "output_type": "stream",
     "text": [
      "Episode score : 2.0\n",
      "Mean score : 1.2705882787704468\n"
     ]
    },
    {
     "name": "stderr",
     "output_type": "stream",
     "text": [
      "  0%|          | 86/100000 [00:46<15:15:29,  1.82it/s]"
     ]
    },
    {
     "name": "stdout",
     "output_type": "stream",
     "text": [
      "Episode score : 2.0\n",
      "Mean score : 1.2790697813034058\n"
     ]
    },
    {
     "name": "stderr",
     "output_type": "stream",
     "text": [
      "  0%|          | 87/100000 [00:47<15:05:46,  1.84it/s]"
     ]
    },
    {
     "name": "stdout",
     "output_type": "stream",
     "text": [
      "Episode score : 2.0\n",
      "Mean score : 1.2873563766479492\n"
     ]
    },
    {
     "name": "stderr",
     "output_type": "stream",
     "text": [
      "  0%|          | 88/100000 [00:47<15:09:47,  1.83it/s]"
     ]
    },
    {
     "name": "stdout",
     "output_type": "stream",
     "text": [
      "Episode score : 2.0\n",
      "Mean score : 1.295454502105713\n"
     ]
    },
    {
     "name": "stderr",
     "output_type": "stream",
     "text": [
      "  0%|          | 89/100000 [00:48<13:57:28,  1.99it/s]"
     ]
    },
    {
     "name": "stdout",
     "output_type": "stream",
     "text": [
      "Episode score : 0.0\n",
      "Mean score : 1.280898928642273\n"
     ]
    },
    {
     "name": "stderr",
     "output_type": "stream",
     "text": [
      "  0%|          | 90/100000 [00:48<12:49:17,  2.16it/s]"
     ]
    },
    {
     "name": "stdout",
     "output_type": "stream",
     "text": [
      "Episode score : 0.0\n",
      "Mean score : 1.2666666507720947\n"
     ]
    },
    {
     "name": "stderr",
     "output_type": "stream",
     "text": [
      "  0%|          | 91/100000 [00:48<13:14:03,  2.10it/s]"
     ]
    },
    {
     "name": "stdout",
     "output_type": "stream",
     "text": [
      "Episode score : 1.0\n",
      "Mean score : 1.2637362480163574\n"
     ]
    },
    {
     "name": "stderr",
     "output_type": "stream",
     "text": [
      "  0%|          | 92/100000 [00:49<14:20:28,  1.94it/s]"
     ]
    },
    {
     "name": "stdout",
     "output_type": "stream",
     "text": [
      "Episode score : 2.0\n",
      "Mean score : 1.27173912525177\n"
     ]
    },
    {
     "name": "stderr",
     "output_type": "stream",
     "text": [
      "  0%|          | 93/100000 [00:49<13:27:44,  2.06it/s]"
     ]
    },
    {
     "name": "stdout",
     "output_type": "stream",
     "text": [
      "Episode score : 0.0\n",
      "Mean score : 1.2580645084381104\n"
     ]
    },
    {
     "name": "stderr",
     "output_type": "stream",
     "text": [
      "  0%|          | 94/100000 [00:50<13:55:37,  1.99it/s]"
     ]
    },
    {
     "name": "stdout",
     "output_type": "stream",
     "text": [
      "Episode score : 1.0\n",
      "Mean score : 1.2553191184997559\n"
     ]
    },
    {
     "name": "stderr",
     "output_type": "stream",
     "text": [
      "  0%|          | 95/100000 [00:50<13:08:57,  2.11it/s]"
     ]
    },
    {
     "name": "stdout",
     "output_type": "stream",
     "text": [
      "Episode score : 0.0\n",
      "Mean score : 1.24210524559021\n"
     ]
    },
    {
     "name": "stderr",
     "output_type": "stream",
     "text": [
      "  0%|          | 96/100000 [00:51<14:15:34,  1.95it/s]"
     ]
    },
    {
     "name": "stdout",
     "output_type": "stream",
     "text": [
      "Episode score : 2.0\n",
      "Mean score : 1.25\n"
     ]
    },
    {
     "name": "stderr",
     "output_type": "stream",
     "text": [
      "  0%|          | 97/100000 [00:51<13:26:02,  2.07it/s]"
     ]
    },
    {
     "name": "stdout",
     "output_type": "stream",
     "text": [
      "Episode score : 0.0\n",
      "Mean score : 1.237113356590271\n"
     ]
    },
    {
     "name": "stderr",
     "output_type": "stream",
     "text": [
      "  0%|          | 98/100000 [00:52<13:21:50,  2.08it/s]"
     ]
    },
    {
     "name": "stdout",
     "output_type": "stream",
     "text": [
      "Episode score : 0.0\n",
      "Mean score : 1.2244898080825806\n"
     ]
    },
    {
     "name": "stderr",
     "output_type": "stream",
     "text": [
      "  0%|          | 99/100000 [00:53<14:53:18,  1.86it/s]"
     ]
    },
    {
     "name": "stdout",
     "output_type": "stream",
     "text": [
      "Episode score : 1.0\n",
      "Mean score : 1.2222222089767456\n"
     ]
    },
    {
     "name": "stderr",
     "output_type": "stream",
     "text": [
      "  0%|          | 100/100000 [00:53<13:55:18,  1.99it/s]"
     ]
    },
    {
     "name": "stdout",
     "output_type": "stream",
     "text": [
      "Episode score : 0.0\n",
      "Mean score : 1.2100000381469727\n"
     ]
    },
    {
     "name": "stderr",
     "output_type": "stream",
     "text": [
      "  0%|          | 101/100000 [00:53<13:24:50,  2.07it/s]"
     ]
    },
    {
     "name": "stdout",
     "output_type": "stream",
     "text": [
      "Episode score : 0.0\n",
      "Mean score : 1.2000000476837158\n"
     ]
    },
    {
     "name": "stderr",
     "output_type": "stream",
     "text": [
      "  0%|          | 102/100000 [00:54<15:02:45,  1.84it/s]"
     ]
    },
    {
     "name": "stdout",
     "output_type": "stream",
     "text": [
      "Episode score : 1.0\n",
      "Mean score : 1.1799999475479126\n"
     ]
    },
    {
     "name": "stderr",
     "output_type": "stream",
     "text": [
      "  0%|          | 103/100000 [00:55<16:12:13,  1.71it/s]"
     ]
    },
    {
     "name": "stdout",
     "output_type": "stream",
     "text": [
      "Episode score : 2.0\n",
      "Mean score : 1.190000057220459\n"
     ]
    },
    {
     "name": "stderr",
     "output_type": "stream",
     "text": [
      "  0%|          | 104/100000 [00:55<17:10:10,  1.62it/s]"
     ]
    },
    {
     "name": "stdout",
     "output_type": "stream",
     "text": [
      "Episode score : 2.0\n",
      "Mean score : 1.2100000381469727\n"
     ]
    },
    {
     "name": "stderr",
     "output_type": "stream",
     "text": [
      "  0%|          | 105/100000 [00:56<16:21:00,  1.70it/s]"
     ]
    },
    {
     "name": "stdout",
     "output_type": "stream",
     "text": [
      "Episode score : 1.0\n",
      "Mean score : 1.190000057220459\n"
     ]
    },
    {
     "name": "stderr",
     "output_type": "stream",
     "text": [
      "  0%|          | 106/100000 [00:56<15:43:41,  1.76it/s]"
     ]
    },
    {
     "name": "stdout",
     "output_type": "stream",
     "text": [
      "Episode score : 1.0\n",
      "Mean score : 1.2000000476837158\n"
     ]
    },
    {
     "name": "stderr",
     "output_type": "stream",
     "text": [
      "  0%|          | 107/100000 [00:57<14:56:33,  1.86it/s]"
     ]
    },
    {
     "name": "stdout",
     "output_type": "stream",
     "text": [
      "Episode score : 0.0\n",
      "Mean score : 1.1699999570846558\n"
     ]
    },
    {
     "name": "stderr",
     "output_type": "stream",
     "text": [
      "  0%|          | 108/100000 [00:58<16:01:44,  1.73it/s]"
     ]
    },
    {
     "name": "stdout",
     "output_type": "stream",
     "text": [
      "Episode score : 2.0\n",
      "Mean score : 1.1799999475479126\n"
     ]
    },
    {
     "name": "stderr",
     "output_type": "stream",
     "text": [
      "  0%|          | 109/100000 [00:58<14:37:17,  1.90it/s]"
     ]
    },
    {
     "name": "stdout",
     "output_type": "stream",
     "text": [
      "Episode score : 0.0\n",
      "Mean score : 1.1699999570846558\n"
     ]
    },
    {
     "name": "stderr",
     "output_type": "stream",
     "text": [
      "  0%|          | 110/100000 [00:59<15:15:18,  1.82it/s]"
     ]
    },
    {
     "name": "stdout",
     "output_type": "stream",
     "text": [
      "Episode score : 2.0\n",
      "Mean score : 1.1799999475479126\n"
     ]
    },
    {
     "name": "stderr",
     "output_type": "stream",
     "text": [
      "  0%|          | 111/100000 [00:59<13:51:28,  2.00it/s]"
     ]
    },
    {
     "name": "stdout",
     "output_type": "stream",
     "text": [
      "Episode score : 0.0\n",
      "Mean score : 1.149999976158142\n"
     ]
    },
    {
     "name": "stderr",
     "output_type": "stream",
     "text": [
      "  0%|          | 112/100000 [00:59<12:52:35,  2.15it/s]"
     ]
    },
    {
     "name": "stdout",
     "output_type": "stream",
     "text": [
      "Episode score : 0.0\n",
      "Mean score : 1.1299999952316284\n"
     ]
    },
    {
     "name": "stderr",
     "output_type": "stream",
     "text": [
      "  0%|          | 113/100000 [01:00<13:52:13,  2.00it/s]"
     ]
    },
    {
     "name": "stdout",
     "output_type": "stream",
     "text": [
      "Episode score : 1.0\n",
      "Mean score : 1.1399999856948853\n"
     ]
    },
    {
     "name": "stderr",
     "output_type": "stream",
     "text": [
      "  0%|          | 114/100000 [01:00<12:59:13,  2.14it/s]"
     ]
    },
    {
     "name": "stdout",
     "output_type": "stream",
     "text": [
      "Episode score : 0.0\n",
      "Mean score : 1.1100000143051147\n"
     ]
    },
    {
     "name": "stderr",
     "output_type": "stream",
     "text": [
      "  0%|          | 115/100000 [01:01<17:11:30,  1.61it/s]"
     ]
    },
    {
     "name": "stdout",
     "output_type": "stream",
     "text": [
      "Episode score : 4.0\n",
      "Mean score : 1.149999976158142\n"
     ]
    }
   ],
   "source": [
    "# количество эпизодов, которые играем\n",
    "NUM_EPISODES = 100000\n",
    "\n",
    "# количество кадров, между которыми обучаем модель\n",
    "OPTIMIZE_MODEL_STEP = 5\n",
    "# количество кадров, между которыми обновляем target-модель\n",
    "TARGET_UPDATE=10000\n",
    "\n",
    "# несколько шагов для разогрева модели()\n",
    "STEPS_BEFORE_TRAIN = 50000\n",
    "\n",
    "# параметры для e-greedy стратегии выбора действия\n",
    "EPS_START = 1\n",
    "EPS_END = 0.1\n",
    "EPS_DECAY = 1000000\n",
    "\n",
    "policy_net.train().to(device)\n",
    "target_net.eval().to(device)\n",
    "\n",
    "state_holder = StateHolder()\n",
    "test_rewards = []\n",
    "\n",
    "# Общее число \n",
    "steps_done = 0\n",
    "\n",
    "# Задание 3. Заполнить пропуски в нижеприведенном коде.\n",
    "\n",
    "for e in tqdm.tqdm(range(NUM_EPISODES)):\n",
    "    \n",
    "    # Инициализации разлинычх переменных\n",
    "    # env - среды\n",
    "    # state_holder - хранителя состояния\n",
    "    # lives - количества жизней в начале эпизода игры (Важно!)\n",
    "    \n",
    "    env.reset()\n",
    "    state_holder.reset()\n",
    "    lives = 5\n",
    "    ep_rewards = []\n",
    "    \n",
    "    for t in count():\n",
    "        \n",
    "        # Рассчет eps_threshold'а для e-greedy\n",
    "        \n",
    "        eps_threshold = EPS_END + (EPS_START - EPS_END) * \\\n",
    "            math.exp(-1. * steps_done / EPS_DECAY)\n",
    "        steps_done += 1                                        # возможно стоит сбрасывать steps_done\n",
    "        \n",
    "        # Шаг одного кадра игры \n",
    "        \n",
    "        \n",
    "        state = state_holder.get().to(device)\n",
    "        action = select_action (state, eps_threshold)\n",
    "        \n",
    "        _, reward, done, info = env.step(action.item())\n",
    "        reward = torch.tensor([reward], device=device)\n",
    "        # где:\n",
    "        # reward - награда, полученная в рамках последнего действия\n",
    "        # done - флаг окончания эпизода\n",
    "        # info - важная системная информация\n",
    "        \n",
    "        ep_rewards.append (reward)\n",
    "        \n",
    "        state_holder.push (get_screen ())\n",
    "        if not done:\n",
    "            next_state = state_holder.get()\n",
    "        else:\n",
    "            next_state = None\n",
    "        \n",
    "        \n",
    "        # Код обработки перехода\n",
    "        # Работа с ReplayMemory\n",
    "        \n",
    "        memory.push (state, action, next_state, reward)\n",
    "        \n",
    "        # Задание 3.1. Необходимо дополнить код следующим трюком, который значительно\n",
    "        # улучшает сходимость обучения. В случае, если эпизод не закончился, но агент на \n",
    "        # очередном шаге потерял жизнь, то такой переход надо класть в ReplayMemory как финальный.\n",
    "        # При этом, необходимо далее продолжать эпизод игры, пока не получите done == True\n",
    "        # Тем самым вы научите агента понимать, что терять жизни по дороге - плохо.\n",
    "        \n",
    "        # Шаг оптимизации\n",
    "        if (steps_done > STEPS_BEFORE_TRAIN) and steps_done % OPTIMIZE_MODEL_STEP == 0:\n",
    "            optimize_model()\n",
    "        \n",
    "        # Шаг обновления target'сети\n",
    "        if steps_done % TARGET_UPDATE == 0:\n",
    "            print(\"Target net updated!\")\n",
    "            target_net.load_state_dict(policy_net.state_dict())\n",
    "        \n",
    "        # Код завершающий эпизод игры/обучения\n",
    "        if done:\n",
    "            train_rewards.append(np.sum(ep_rewards))\n",
    "            # Суммарный reward(не дисконтированный) за последний эпизод\n",
    "            print(\"Episode score : {}\".format(train_rewards[-1]))\n",
    "            # Средний reward по последним 100 эпизодам\n",
    "            print(\"Mean score : {}\".format(np.mean(train_rewards[-100:])))\n",
    "            \n",
    "            plot_rewards()\n",
    "            break \n",
    "\n"
   ]
  },
  {
   "cell_type": "code",
   "execution_count": null,
   "metadata": {
    "collapsed": true
   },
   "outputs": [],
   "source": [
    "# Тут код для тестирования.\n",
    "# Задание 4. Просто выполнить данную ячейку и проверить вашего агента, насколько он хорош !?\n",
    "\n",
    "TEST_EPS = 0.05\n",
    "\n",
    "def show_state(env, step=0, info=\"\"):\n",
    "    plt.figure(3)\n",
    "    plt.clf()\n",
    "    plt.imshow(env.render(mode='rgb_array'))\n",
    "    plt.title(\"%s | Step: %d %s\" % (env.spec.id, step, info))\n",
    "    plt.axis('off')\n",
    "\n",
    "    display.clear_output(wait=True)\n",
    "    display.display(plt.gcf())\n",
    "\n",
    "\n",
    "policy_net.eval()\n",
    "env.reset()\n",
    "state_holder.reset()\n",
    "    \n",
    "state_holder.push(get_screen())\n",
    "\n",
    "total_reward = 0\n",
    "\n",
    "for i in count():\n",
    "    # Выбрать и выполнить нове действие\n",
    "    action = select_action(state_holder.get(), TEST_EPS)\n",
    "    _, reward, done, _ = env.step(action.item())\n",
    "    total_reward += reward\n",
    "    # Получаем новое состояние\n",
    "    if not done:\n",
    "        state_holder.push(get_screen())\n",
    "    else:\n",
    "        break\n",
    "    show_state(env, i)\n",
    "    \n",
    "print(\"Total game reward : {}\".format(total_reward))"
   ]
  },
  {
   "cell_type": "code",
   "execution_count": null,
   "metadata": {
    "collapsed": true
   },
   "outputs": [],
   "source": []
  },
  {
   "cell_type": "code",
   "execution_count": null,
   "metadata": {},
   "outputs": [],
   "source": []
  }
 ],
 "metadata": {
  "kernelspec": {
   "display_name": "Python 3",
   "language": "python",
   "name": "python3"
  },
  "language_info": {
   "codemirror_mode": {
    "name": "ipython",
    "version": 3
   },
   "file_extension": ".py",
   "mimetype": "text/x-python",
   "name": "python",
   "nbconvert_exporter": "python",
   "pygments_lexer": "ipython3",
   "version": "3.7.0"
  }
 },
 "nbformat": 4,
 "nbformat_minor": 2
}
