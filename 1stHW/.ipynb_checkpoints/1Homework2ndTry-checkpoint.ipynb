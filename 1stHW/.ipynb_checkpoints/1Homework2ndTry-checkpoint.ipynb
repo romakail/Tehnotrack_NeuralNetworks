{
 "cells": [
  {
   "cell_type": "markdown",
   "metadata": {},
   "source": [
    "Homework1\n",
    "Kail Roman (limpopo)"
   ]
  },
  {
   "cell_type": "code",
   "execution_count": 85,
   "metadata": {},
   "outputs": [],
   "source": [
    "import pickle\n",
    "import numpy as np\n",
    "import PIL.Image\n",
    "import itertools\n",
    "from IPython.core.display import Image, display\n",
    "import scipy.ndimage\n",
    "import random\n",
    "import numpy as np\n",
    "import matplotlib.pylab as plt\n",
    "import tqdm\n",
    "import math\n",
    "%matplotlib inline\n",
    "\n",
    "from sklearn.cross_validation import train_test_split"
   ]
  },
  {
   "cell_type": "code",
   "execution_count": 86,
   "metadata": {},
   "outputs": [],
   "source": [
    "with open('./hw_1_train.pickle', 'rb') as f:\n",
    "    train = pickle.load(f)\n",
    "\n",
    "with open('./hw_1_test_no_lables.pickle', 'rb') as f:\n",
    "    test_no_lables = pickle.load(f)"
   ]
  },
  {
   "cell_type": "code",
   "execution_count": 87,
   "metadata": {},
   "outputs": [
    {
     "data": {
      "text/plain": [
       "<matplotlib.image.AxesImage at 0x7f5cd689e668>"
      ]
     },
     "execution_count": 87,
     "metadata": {},
     "output_type": "execute_result"
    },
    {
     "data": {
      "image/png": "[encoded data removed]",
      "text/plain": [
       "<Figure size 432x288 with 1 Axes>"
      ]
     },
     "metadata": {},
     "output_type": "display_data"
    }
   ],
   "source": [
    "# Пример, как можно визуализировать данные\n",
    "plt.imshow(train['data'][1].reshape(28,28))"
   ]
  },
  {
   "cell_type": "markdown",
   "metadata": {},
   "source": [
    "# Обучаем модель"
   ]
  },
  {
   "cell_type": "code",
   "execution_count": 88,
   "metadata": {},
   "outputs": [
    {
     "name": "stdout",
     "output_type": "stream",
     "text": [
      "yshape = 10000\n",
      "X_train_shape0 = 7500\n",
      "X_train_shape1 = 785\n",
      "X_test _shape0 = 2500\n",
      "X_test _shape1 = 785\n",
      "Y_train_shape0 = 7500\n",
      "Y_test _shape0 = 2500\n"
     ]
    },
    {
     "data": {
      "application/vnd.jupyter.widget-view+json": {
       "model_id": "4f3ba2cdffdd47528b8de09e972b28b3",
       "version_major": 2,
       "version_minor": 0
      },
      "text/plain": [
       "HBox(children=(IntProgress(value=0, max=20), HTML(value='')))"
      ]
     },
     "metadata": {},
     "output_type": "display_data"
    },
    {
     "name": "stdout",
     "output_type": "stream",
     "text": [
      "\n",
      "success : 9849 out of 10000\n"
     ]
    }
   ],
   "source": [
    "# Реализуйте здесь обучение модели\n",
    "\n",
    "\n",
    "# нормировка\n",
    "mean = np.mean(train['data'], axis=1, keepdims = True)\n",
    "std = np.std(train['data'], axis=1, keepdims = True)\n",
    "X = (train['data'] - mean) / (std + 0.000001)\n",
    "y = (train['labels'] - 5.5) * 2\n",
    "\n",
    "print ('yshape = %s' % (y.shape[0]))\n",
    "\n",
    "# добавляем единичную колонку для w0\n",
    "X = np.hstack([ np.ones((X.shape[0], 1)), X])\n",
    "\n",
    "X_train, X_test, y_train, y_test = train_test_split(X, y, random_state=10)\n",
    "\n",
    "print ('X_train_shape0 = %s' % (X_train.shape[0]))\n",
    "print ('X_train_shape1 = %s' % (X_train.shape[1]))\n",
    "\n",
    "print ('X_test _shape0 = %s' % (X_test.shape[0]))\n",
    "print ('X_test _shape1 = %s' % (X_test.shape[1]))\n",
    "\n",
    "print ('Y_train_shape0 = %s' % (y_train.shape[0]))\n",
    "print ('Y_test _shape0 = %s' % (y_test.shape[0]))\n",
    "\n",
    "\n",
    "\n",
    "\n",
    "\n",
    "\n",
    "# Инициализируем веса случайны образом\n",
    "np.random.seed()\n",
    "w = np.random.normal(scale=0.001, size = X.shape[1])\n",
    "\n",
    "\n",
    "vsegoEpochs = 20\n",
    "stepsInEpoch_train = y_train.shape[0]\n",
    "stepsInEpoch_test = y_test.shape[0]\n",
    "L_train = [0]*vsegoEpochs\n",
    "L_test  = [0]*vsegoEpochs\n",
    "Acc_train = [0]*vsegoEpochs\n",
    "Acc_test  = [0]*vsegoEpochs\n",
    "epochNumber = 0\n",
    "for iter in tqdm.tqdm_notebook(range(vsegoEpochs)):\n",
    "    l_train = 0\n",
    "    l_test  = 0\n",
    "    for i in range (stepsInEpoch_train) :     #epoch\n",
    "        #j = np.random.randint(0, X_train.shape[0])\n",
    "        #print ('pokazatel` = %s' % np.dot(w.T, X[i]))\n",
    "        #exponent = math.exp(y_train[i] * np.dot(w.T, X_train[i]))\n",
    "        #print (exponent)\n",
    "        \n",
    "        pok = y_train[i] * np.dot(w.T, X_train[i])\n",
    "        if (pok > 500) :      # если слишком большой показатель у экспоненты то ругается\n",
    "            pok = 500\n",
    "        exponent = math.exp(pok)\n",
    "        \n",
    "        grad = - (y_train[i] * X_train[i]) / (1 + exponent) + 0.005 * w\n",
    "        w = w - 0.001 * grad\n",
    "        l_train = l_train + math.log((1 + exponent) / (exponent))\n",
    "    for i in range (0, stepsInEpoch_test) :\n",
    "        pok = y_test[i] * np.dot(w.T, X_test[i])\n",
    "        if (pok > 500) :      # если слишком большой показатель у экспоненты то ругается\n",
    "            pok = 500\n",
    "        exponent = math.exp(pok)\n",
    "        l_test  = l_test + math.log((1 + exponent) / (exponent))\n",
    "            \n",
    "    for i in range(stepsInEpoch_train) :\n",
    "        if (  ((y_train[i] < 0) and (np.dot(w.T, X_train[i]) < 0)) or ((y_train[i] > 0) and (np.dot(w.T, X_train[i]) > 0))  ):\n",
    "            Acc_train[epochNumber] += 1\n",
    "    for i in range(stepsInEpoch_test) :\n",
    "        if (  ((y_test[i]  < 0) and (np.dot(w.T, X_test [i]) < 0)) or ((y_test [i] > 0) and (np.dot(w.T, X_test [i]) > 0))  ):\n",
    "            Acc_test[epochNumber] += 1\n",
    "    \n",
    "        \n",
    "        \n",
    "    L_train[epochNumber] = l_train / stepsInEpoch_train\n",
    "    L_test [epochNumber] = l_test  / stepsInEpoch_test\n",
    "    Acc_train[epochNumber] /= stepsInEpoch_train\n",
    "    Acc_test [epochNumber] /= stepsInEpoch_test\n",
    "    \n",
    "    epochNumber = epochNumber + 1\n",
    "        \n",
    "#print (L)\n",
    "#plt.scatter(X[:, 1], X[:, 2], c=y, cmap=plt.cm.Set1, edgecolor='k')\n",
    "\n",
    "asixX = np.linspace (0, vsegoEpochs, vsegoEpochs)\n",
    "#plt.title ('lossfunc')\n",
    "#plt.plot(asixX, L_train, 'o', label='train')\n",
    "#plt.plot(asixX, L_test , 'x', label='test ')\n",
    "#plt.legend()\n",
    "        \n",
    "i = 0\n",
    "nTrue = 0\n",
    "for i in range(y.shape[0]) :\n",
    "    if (  ((y[i] < 0) and (np.dot(w.T, X[i]) < 0)) or ((y[i] > 0) and (np.dot(w.T, X[i]) > 0))  ):\n",
    "        nTrue = nTrue + 1\n",
    "\n",
    "print ('success : %s out of 10000' % (nTrue))\n",
    "    \n",
    "\n",
    "    "
   ]
  },
  {
   "cell_type": "markdown",
   "metadata": {},
   "source": [
    "# Оцениваем результат"
   ]
  },
  {
   "cell_type": "markdown",
   "metadata": {},
   "source": [
    "Обязательно отрисуйте 2 графика:\n",
    "- loss на обучающем и тестовом множесте\n",
    "- % правильно классифицированных примеров на тестовом и обучающем множестве"
   ]
  },
  {
   "cell_type": "code",
   "execution_count": 89,
   "metadata": {},
   "outputs": [
    {
     "data": {
      "text/plain": [
       "<matplotlib.legend.Legend at 0x7f5cd6b02470>"
      ]
     },
     "execution_count": 89,
     "metadata": {},
     "output_type": "execute_result"
    },
    {
     "data": {
      "image/png": "[encoded data removed]",
      "text/plain": [
       "<Figure size 432x288 with 1 Axes>"
      ]
     },
     "metadata": {},
     "output_type": "display_data"
    }
   ],
   "source": [
    "asixX = np.linspace (0, vsegoEpochs, vsegoEpochs)\n",
    "plt.title ('lossfunc')\n",
    "plt.plot(asixX, L_train, 'o', label='train')\n",
    "plt.plot(asixX, L_test , 'x', label='test ')\n",
    "plt.legend()"
   ]
  },
  {
   "cell_type": "code",
   "execution_count": 90,
   "metadata": {},
   "outputs": [
    {
     "data": {
      "text/plain": [
       "<matplotlib.legend.Legend at 0x7f5cd6684780>"
      ]
     },
     "execution_count": 90,
     "metadata": {},
     "output_type": "execute_result"
    },
    {
     "data": {
      "image/png": "[encoded data removed]",
      "text/plain": [
       "<Figure size 432x288 with 1 Axes>"
      ]
     },
     "metadata": {},
     "output_type": "display_data"
    }
   ],
   "source": [
    "plt.title('Acc')\n",
    "plt.plot(asixX, Acc_train, 'o', label='train')\n",
    "plt.plot(asixX, Acc_test , 'x', label='test ')\n",
    "plt.legend()"
   ]
  },
  {
   "cell_type": "markdown",
   "metadata": {},
   "source": [
    "# Сохраняем данные для кагла"
   ]
  },
  {
   "cell_type": "markdown",
   "metadata": {},
   "source": [
    "https://www.kaggle.com/t/513ea517806348848dc78c4f41d44528"
   ]
  },
  {
   "cell_type": "markdown",
   "metadata": {},
   "source": [
    "Результат записывается в простой текстовый файл. Первая строчка \"Id,Prediction\", далее для каждого примера из валидационного множества записывается его Id (порядковый номер, с нуля) и вероятность принадлежности к классу '6', например '123,0.12'.\n",
    "\n",
    "Важно соблюдать тот же порядок следования элементов, что и в наборе данных. Нумерация id с 0"
   ]
  },
  {
   "cell_type": "code",
   "execution_count": 91,
   "metadata": {},
   "outputs": [
    {
     "name": "stdout",
     "output_type": "stream",
     "text": [
      "x1size = 3189, x2size = 785\n"
     ]
    },
    {
     "data": {
      "application/vnd.jupyter.widget-view+json": {
       "model_id": "86c499a8391d444489c20196cedd9b8e",
       "version_major": 2,
       "version_minor": 0
      },
      "text/plain": [
       "HBox(children=(IntProgress(value=0, max=3189), HTML(value='')))"
      ]
     },
     "metadata": {},
     "output_type": "display_data"
    },
    {
     "name": "stdout",
     "output_type": "stream",
     "text": [
      "\n"
     ]
    }
   ],
   "source": [
    "#X = test_no_lables['data']\n",
    "\n",
    "mean = np.mean(test_no_lables['data'], axis=1, keepdims = True)\n",
    "std = np.std(test_no_lables['data'], axis=1, keepdims = True)\n",
    "X = (test_no_lables['data'] - mean) / (std + 0.000001)\n",
    "#y = (train['labels'] - 5.5) * 2\n",
    "\n",
    "X = np.hstack([ np.ones((X.shape[0], 1)), X])\n",
    "\n",
    "# compute Y_pred\n",
    "\n",
    "print ('x1size = %s, x2size = %s' % (X.shape[0], X.shape[1]))\n",
    "\n",
    "Y_pred = [0]*X.shape[0]\n",
    "a = 0\n",
    "for iter in tqdm.tqdm_notebook(range(X.shape[0])):\n",
    "    #a = np.dot (w.T, X[i]) \n",
    "    #print (- np.dot (w.T, X[i]))\n",
    "    argument = - np.dot (w.T, X[a])\n",
    "    if (argument > 700) :\n",
    "        argument = 700\n",
    "    #print (argument)\n",
    "    Y_pred[a] = 1 / (1 + math.exp (argument))\n",
    "    a = a + 1\n",
    "\n",
    "\n",
    "with open('solution.csv', 'w') as fout:\n",
    "    print(\"Id,Prediction\", file=fout)\n",
    "    for i in range(X.shape[0]):\n",
    "        print(i, Y_pred[i], sep=',', file=fout)"
   ]
  },
  {
   "cell_type": "markdown",
   "metadata": {},
   "source": [
    "# Сдача"
   ]
  },
  {
   "cell_type": "markdown",
   "metadata": {},
   "source": [
    "1. Регистрируетесь на конкурс https://www.kaggle.com/t/513ea517806348848dc78c4f41d44528 \n",
    "1. Преодолеваете \"Pass level\" baseline\n",
    "1. После того, как вы преодолеете baseline, присылайте ноутбук с решение по адресу voropaev@corp.mail.ru\n",
    "\n",
    "\n",
    "# Внимание\n",
    "- Пишите тему письм в формате \"[МИФИ][1] Фамилия\"\n",
    "- Внутри писма прикрепляете файл ноутбука с именем family.ipynb\n",
    "- Обязательно указывайте ваш ник на kaggle"
   ]
  }
 ],
 "metadata": {
  "kernelspec": {
   "display_name": "Python 3",
   "language": "python",
   "name": "python3"
  },
  "language_info": {
   "codemirror_mode": {
    "name": "ipython",
    "version": 3
   },
   "file_extension": ".py",
   "mimetype": "text/x-python",
   "name": "python",
   "nbconvert_exporter": "python",
   "pygments_lexer": "ipython3",
   "version": "3.6.5"
  }
 },
 "nbformat": 4,
 "nbformat_minor": 2
}
