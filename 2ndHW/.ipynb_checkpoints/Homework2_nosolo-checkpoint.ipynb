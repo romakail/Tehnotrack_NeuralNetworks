{
 "cells": [
  {
   "cell_type": "code",
   "execution_count": 72,
   "metadata": {},
   "outputs": [],
   "source": [
    "import numpy as np\n",
    "import matplotlib.pyplot as plt\n",
    "import pickle\n",
    "import tqdm\n",
    "%matplotlib inline\n",
    "\n",
    "from sklearn.cross_validation import train_test_split"
   ]
  },
  {
   "cell_type": "code",
   "execution_count": 73,
   "metadata": {},
   "outputs": [],
   "source": [
    "# класс one-hot encoder'а для MNIST\n",
    "class OneHotEncoder:\n",
    "    def __init__(self):\n",
    "        self.transform_mapping = np.zeros((10,10))\n",
    "        for i in range(self.transform_mapping.shape[0]):\n",
    "            self.transform_mapping[i][i] = 1.0\n",
    "    def transform(self, y):\n",
    "        return self.transform_mapping[int(y)]"
   ]
  },
  {
   "cell_type": "code",
   "execution_count": 74,
   "metadata": {},
   "outputs": [],
   "source": [
    "def make_submission(X_test, net, fname=\"my_submission.csv\"):\n",
    "    with open(fname,'w') as fout:\n",
    "        fout.write('Id,Category')\n",
    "        for i in range(X_test.shape[0]):\n",
    "            y_h = net.forward(X_test[i])\n",
    "            y = np.argmax(y_h)\n",
    "            fout.write(\"\\n{},{}\".format(i, int(y)))"
   ]
  },
  {
   "cell_type": "code",
   "execution_count": 75,
   "metadata": {},
   "outputs": [],
   "source": [
    "# внимание, тут Y_test в обычном формате(не onehot)\n",
    "def compute_acc(X_test, Y_test, net):\n",
    "    acc = 0.0\n",
    "    for i in range(X_test.shape[0]):\n",
    "        y_h = net.forward(X_test[i])\n",
    "        y = np.argmax(y_h)\n",
    "        if(y == Y_test[i]):\n",
    "            acc += 1.0\n",
    "    return acc / Y_test.shape[0]"
   ]
  },
  {
   "cell_type": "code",
   "execution_count": 76,
   "metadata": {},
   "outputs": [],
   "source": [
    "train_data = None\n",
    "test_data = None\n",
    "encoder = OneHotEncoder()\n",
    "with open('data_train.pickle','rb') as fin:\n",
    "    train_data = pickle.load(fin)\n",
    "with open('data_test_no_labels.pickle','rb') as fin:\n",
    "    test_data = pickle.load(fin)\n",
    "    \n",
    "X = train_data['data']\n",
    "Y = train_data['target']\n",
    "Y = np.array(list(map(lambda x : encoder.transform(x), Y)))\n",
    "\n",
    "#print (X_train [9])\n",
    "#print (Y_train [9])\n",
    "#print (Y_train_oh [9])\n",
    "\n",
    "X_test = test_data['data']"
   ]
  },
  {
   "cell_type": "code",
   "execution_count": 77,
   "metadata": {},
   "outputs": [
    {
     "data": {
      "image/png": "[encoded data removed]",
      "text/plain": [
       "<Figure size 432x288 with 16 Axes>"
      ]
     },
     "metadata": {},
     "output_type": "display_data"
    }
   ],
   "source": [
    "n=4\n",
    "for i in range(n*n):\n",
    "    plt.subplot(n,n,i+1)\n",
    "    I = train_data['data'][np.random.randint(0, X_train.shape[0]),:]\n",
    "    I = I.reshape((28, 28))\n",
    "    plt.imshow(I, cmap='gray')"
   ]
  },
  {
   "cell_type": "code",
   "execution_count": 78,
   "metadata": {},
   "outputs": [
    {
     "name": "stdout",
     "output_type": "stream",
     "text": [
      "x0 = 52500, x1 = 10, x2 = 10\n",
      "X_train_shape0 = 42000\n",
      "X_train_shape1 = 784\n",
      "X_test _shape0 = 10500\n",
      "X_test _shape1 = 784\n",
      "Y_train_shape0 = 42000\n",
      "Y_test _shape0 = 10500\n"
     ]
    }
   ],
   "source": [
    "# Подготовка датасета\n",
    "mean = np.mean(X, axis=1, keepdims = True)\n",
    "std = np.std(X, axis=1, keepdims = True)\n",
    "X = (X - mean) / (std + 0.000001)\n",
    "\n",
    "print ('x0 = %s, x1 = %s, x2 = %s' % (Y.shape[0], Y.shape[1], Y.shape[1]))\n",
    "\n",
    "X_train, X_test, y_train, y_test = train_test_split(X, Y, test_size=0.2, random_state=10)\n",
    "\n",
    "print ('X_train_shape0 = %s' % (X_train.shape[0]))\n",
    "print ('X_train_shape1 = %s' % (X_train.shape[1]))\n",
    "\n",
    "print ('X_test _shape0 = %s' % (X_test.shape[0]))\n",
    "print ('X_test _shape1 = %s' % (X_test.shape[1]))\n",
    "\n",
    "print ('Y_train_shape0 = %s' % (y_train.shape[0]))\n",
    "print ('Y_test _shape0 = %s' % (y_test.shape[0]))"
   ]
  },
  {
   "cell_type": "code",
   "execution_count": 79,
   "metadata": {},
   "outputs": [],
   "source": [
    "# Определение слоев сети\n",
    "class Dense:\n",
    "    def __init__(self, in_size, out_size, rlambda = 0.0):\n",
    "        self.W = np.random.normal(scale=1, size=(out_size, in_size)) * np.sqrt(2/(out_size + in_size))\n",
    "        self.b = np.zeros(out_size)\n",
    "        #как здесь инициализируется лучше запомнить и самому так делать\n",
    "        self.rlambda = rlambda\n",
    "    def forward(self, x):\n",
    "        self.x = x # запоминаем для обратного прохода\n",
    "        return np.dot(self.W, x) + self.b\n",
    "    \n",
    "    def get_reg_loss(self):\n",
    "        return 0.5 * self.rlambda * (np.linalg.norm(self.W, ord='fro') ** 2)\n",
    "    \n",
    "    def backward(self, dz, lr=0.01):\n",
    "        # вычисляем градиенты по параметрам (запоминаем их для отладки)\n",
    "        self.dW = np.outer(dz, self.x)\n",
    "        self.db = dz\n",
    "        # вычисляем производную по входу\n",
    "        self.dx = np.matmul(dz, self.W)\n",
    "        # рассчитываем градиенты от регуляризатора\n",
    "        if(self.rlambda != 0):\n",
    "            self.dW += self.rlambda * self.W\n",
    "        # обновляем веса\n",
    "        self.W = self.W - lr * self.dW\n",
    "        self.b = self.b - lr * self.db\n",
    "        # возвращаем dx для продолжения алгоритма\n",
    "        return self.dx"
   ]
  },
  {
   "cell_type": "code",
   "execution_count": 80,
   "metadata": {},
   "outputs": [],
   "source": [
    "class MaxRelu:\n",
    "    #вычисляется покомпонетно\n",
    "    def forward(self, x):\n",
    "        self.x = x\n",
    "        return np.maximum(0, x)\n",
    "    \n",
    "    def backward(self, dz, lr=0.01):  #lr - для того чтоб интерфейс был унифицирован\n",
    "        dz[self.x < 0] = 0\n",
    "        return dz"
   ]
  },
  {
   "cell_type": "code",
   "execution_count": 81,
   "metadata": {},
   "outputs": [],
   "source": [
    "# нормировка -NPmax\n",
    "\n",
    "class Softmax: # не облаает изменяемыми параметрами\n",
    "    \n",
    "    def forward(self, x):\n",
    "        self.x = x\n",
    "        self.frw = np.exp(x) / sum(np.exp(x))\n",
    "        return self.frw\n",
    "    \n",
    "    def backward(self, dz, lr=0.01):\n",
    "        self.lp  = (np.eye(dz.shape[0]) - self.frw).T\n",
    "        self.lp2 = self.frw * self.lp\n",
    "        self.bcw = np.dot (dz, self.lp2)\n",
    "        return self.bcw"
   ]
  },
  {
   "cell_type": "code",
   "execution_count": 82,
   "metadata": {},
   "outputs": [],
   "source": [
    "class CrossEntropy:\n",
    "    \n",
    "    def forward(self, y_true, y_hat):\n",
    "        self.y_true = y_true\n",
    "        self.y_hat  = y_hat\n",
    "        return - sum(y_true * np.log (y_hat))\n",
    "    \n",
    "    def backward(self, dz, lr=0.01):\n",
    "        return - dz * (self.y_true / self.y_hat)\n"
   ]
  },
  {
   "cell_type": "code",
   "execution_count": 87,
   "metadata": {},
   "outputs": [],
   "source": [
    "class Mnistnet:\n",
    "    \n",
    "    def __init__ (self):\n",
    "        self.D1 = Dense (784, 20)\n",
    "        self.RL = MaxRelu ()\n",
    "        self.D2 = Dense (20, 10)\n",
    "        self.SM = Softmax ()\n",
    "        \n",
    "    def forward (self, x):\n",
    "        x = self.D1.forward(x)\n",
    "        x = self.RL.forward(x)\n",
    "        x = self.D2.forward(x)\n",
    "        x = self.SM.forward(x)\n",
    "        return x\n",
    "    \n",
    "    def backward (self, dz, lr=0.01):\n",
    "        dz = self.SM.backward(dz, lr)\n",
    "        dz = self.D2.backward(dz, lr)\n",
    "        dz = self.RL.backward(dz, lr)\n",
    "        dz = self.D1.backward(dz, lr)\n",
    "        return dz\n",
    "    \n",
    "    "
   ]
  },
  {
   "cell_type": "code",
   "execution_count": 94,
   "metadata": {},
   "outputs": [
    {
     "data": {
      "application/vnd.jupyter.widget-view+json": {
       "model_id": "a5c57d3826c64432a60852d5dbc6bd82",
       "version_major": 2,
       "version_minor": 0
      },
      "text/plain": [
       "HBox(children=(IntProgress(value=0, max=40), HTML(value='')))"
      ]
     },
     "metadata": {},
     "output_type": "display_data"
    },
    {
     "name": "stdout",
     "output_type": "stream",
     "text": [
      "iter =  0 loss_train =  2.318399121723057 loss_test =  2.3037163558824454\n",
      "iter =  1 loss_train =  2.300468298796283 loss_test =  2.302639474466936\n",
      "iter =  2 loss_train =  2.2891556305480503 loss_test =  2.303489244318444\n",
      "iter =  3 loss_train =  2.2726800589157437 loss_test =  2.3254537107632487\n",
      "iter =  4 loss_train =  2.249608047118326 loss_test =  2.3830640710944557\n",
      "iter =  5 loss_train =  2.2226750133926414 loss_test =  2.313508474026137\n",
      "iter =  6 loss_train =  2.1928100908165256 loss_test =  2.3493240722309263\n",
      "iter =  7 loss_train =  2.1572057627969605 loss_test =  2.3054591777905675\n",
      "iter =  8 loss_train =  2.1213045760329106 loss_test =  2.3192659177904718\n",
      "iter =  9 loss_train =  2.0889736820675013 loss_test =  2.3022595229097784\n",
      "iter =  10 loss_train =  2.0551843215420855 loss_test =  2.3155930036702417\n",
      "iter =  11 loss_train =  2.0190861197020684 loss_test =  2.302357383916218\n",
      "iter =  12 loss_train =  1.991471314349827 loss_test =  2.301794413805058\n",
      "iter =  13 loss_train =  1.9667385874091217 loss_test =  2.3017574400789322\n",
      "iter =  14 loss_train =  1.9311772234739886 loss_test =  2.3902019832633066\n",
      "iter =  15 loss_train =  1.9074522668051304 loss_test =  2.3149433276484754\n",
      "iter =  16 loss_train =  1.8788142549654998 loss_test =  2.313550598705678\n",
      "iter =  17 loss_train =  1.84543990686557 loss_test =  2.3130261223144624\n",
      "iter =  18 loss_train =  1.8268485201557352 loss_test =  2.3022142309812703\n",
      "iter =  19 loss_train =  1.8009265986380207 loss_test =  2.479987465105879\n",
      "iter =  20 loss_train =  1.7903313501532796 loss_test =  2.3020951594477608\n",
      "iter =  21 loss_train =  1.7718420575823448 loss_test =  2.302183010102883\n",
      "iter =  22 loss_train =  1.7565406775386008 loss_test =  2.3562195077886803\n",
      "iter =  23 loss_train =  1.7361842224043933 loss_test =  2.302370831470905\n",
      "iter =  24 loss_train =  1.7182640887292606 loss_test =  2.492216236434073\n",
      "iter =  25 loss_train =  1.6950418646286942 loss_test =  2.302547836296181\n",
      "iter =  26 loss_train =  1.6740318583842928 loss_test =  2.30320730190573\n",
      "iter =  27 loss_train =  1.6728424306097298 loss_test =  2.3033616935184558\n",
      "iter =  28 loss_train =  1.653056649180819 loss_test =  2.302585988429871\n",
      "iter =  29 loss_train =  1.6309269227303271 loss_test =  2.3027682815475212\n",
      "iter =  30 loss_train =  1.6046681451893574 loss_test =  2.3873118214945426\n",
      "iter =  31 loss_train =  1.608878459954193 loss_test =  2.308344691240054\n",
      "iter =  32 loss_train =  1.5890788359371766 loss_test =  2.303151212403887\n",
      "iter =  33 loss_train =  1.5574375691572429 loss_test =  2.3032266657227987\n",
      "iter =  34 loss_train =  1.5445122816705612 loss_test =  2.5957652429013494\n",
      "iter =  35 loss_train =  1.5725030590678861 loss_test =  2.3039648467069425\n",
      "iter =  36 loss_train =  1.565920710647821 loss_test =  2.304200153256261\n",
      "iter =  37 loss_train =  1.5515135959813102 loss_test =  2.302613676242388\n",
      "iter =  38 loss_train =  1.5379386622805358 loss_test =  2.6637873663335685\n",
      "iter =  39 loss_train =  1.5202706049279229 loss_test =  2.937964566571292\n"
     ]
    },
    {
     "ename": "NameError",
     "evalue": "name 'vsegoEpochs' is not defined",
     "output_type": "error",
     "traceback": [
      "\u001b[0;31m---------------------------------------------------------------------------\u001b[0m",
      "\u001b[0;31mNameError\u001b[0m                                 Traceback (most recent call last)",
      "\u001b[0;32m<ipython-input-94-45c57c62be0b>\u001b[0m in \u001b[0;36m<module>\u001b[0;34m()\u001b[0m\n\u001b[1;32m     24\u001b[0m \u001b[0;34m\u001b[0m\u001b[0m\n\u001b[1;32m     25\u001b[0m \u001b[0;34m\u001b[0m\u001b[0m\n\u001b[0;32m---> 26\u001b[0;31m \u001b[0masixX\u001b[0m \u001b[0;34m=\u001b[0m \u001b[0mnp\u001b[0m\u001b[0;34m.\u001b[0m\u001b[0mlinspace\u001b[0m \u001b[0;34m(\u001b[0m\u001b[0;36m0\u001b[0m\u001b[0;34m,\u001b[0m \u001b[0mvsegoEpochs\u001b[0m\u001b[0;34m,\u001b[0m \u001b[0mvsegoEpochs\u001b[0m\u001b[0;34m)\u001b[0m\u001b[0;34m\u001b[0m\u001b[0m\n\u001b[0m\u001b[1;32m     27\u001b[0m \u001b[0mplt\u001b[0m\u001b[0;34m.\u001b[0m\u001b[0mtitle\u001b[0m \u001b[0;34m(\u001b[0m\u001b[0;34m'lossfunc'\u001b[0m\u001b[0;34m)\u001b[0m\u001b[0;34m\u001b[0m\u001b[0m\n\u001b[1;32m     28\u001b[0m \u001b[0mplt\u001b[0m\u001b[0;34m.\u001b[0m\u001b[0mplot\u001b[0m\u001b[0;34m(\u001b[0m\u001b[0masixX\u001b[0m\u001b[0;34m,\u001b[0m \u001b[0mL_train\u001b[0m\u001b[0;34m,\u001b[0m \u001b[0;34m'o'\u001b[0m\u001b[0;34m,\u001b[0m \u001b[0mlabel\u001b[0m\u001b[0;34m=\u001b[0m\u001b[0;34m'train'\u001b[0m\u001b[0;34m)\u001b[0m\u001b[0;34m\u001b[0m\u001b[0m\n",
      "\u001b[0;31mNameError\u001b[0m: name 'vsegoEpochs' is not defined"
     ]
    }
   ],
   "source": [
    "# Здесь процедура обучения\n",
    "net = MnistNet()\n",
    "loss = CrossEntropy()\n",
    "\n",
    "lRate = 0.01\n",
    "\n",
    "nEpochs = 40\n",
    "L_train = [0] * nEpochs\n",
    "L_test  = [0] * nEpochs\n",
    "epoch = 0\n",
    "for iter in tqdm.tqdm_notebook(range(nEpochs)):\n",
    "    for j in range (X_train.shape[0]):\n",
    "        y_hat = net.forward (X[j])\n",
    "        L_train[epoch] += loss.forward (y_train[j], y_hat)\n",
    "        dz = loss.backward (1, lRate)\n",
    "        net.backward (dz, lRate)\n",
    "    L_train[epoch] /= X_train.shape[0]\n",
    "    \n",
    "    for j in range (X_test.shape[0]):\n",
    "        L_test [epoch] += loss.forward (y_test [j], y_hat) \n",
    "    L_test [epoch] /= X_test.shape[0]\n",
    "    print ('iter = ', epoch, 'loss_train = ', L_train[epoch], 'loss_test = ', L_test[epoch])\n",
    "    epoch += 1\n",
    "    \n",
    "\n",
    "\n"
   ]
  },
  {
   "cell_type": "code",
   "execution_count": 95,
   "metadata": {},
   "outputs": [
    {
     "data": {
      "text/plain": [
       "<matplotlib.legend.Legend at 0x7fdfbfe7cdd8>"
      ]
     },
     "execution_count": 95,
     "metadata": {},
     "output_type": "execute_result"
    },
    {
     "data": {
      "image/png": "[encoded data removed]",
      "text/plain": [
       "<Figure size 432x288 with 1 Axes>"
      ]
     },
     "metadata": {},
     "output_type": "display_data"
    }
   ],
   "source": [
    "# Здесь необходимо отрисовать графики CrossEntropyLoss для обучающей и валидационной выборок\n",
    "# plot(L_train, label=\"train\")\n",
    "# ...\n",
    "\n",
    "asixX = np.linspace (0, nEpochs, nEpochs)\n",
    "plt.title ('lossfunc')\n",
    "plt.plot(asixX, L_train, 'o', label='train')\n",
    "plt.plot(asixX, L_test , 'x', label='test ')\n",
    "plt.legend()\n",
    "\n"
   ]
  },
  {
   "cell_type": "code",
   "execution_count": null,
   "metadata": {},
   "outputs": [],
   "source": [
    "# формируем сабмишшен и заливаем его на kaggle\n",
    "make_submission(X_test_norm, net)"
   ]
  }
 ],
 "metadata": {
  "kernelspec": {
   "display_name": "Python 3",
   "language": "python",
   "name": "python3"
  },
  "language_info": {
   "codemirror_mode": {
    "name": "ipython",
    "version": 3
   },
   "file_extension": ".py",
   "mimetype": "text/x-python",
   "name": "python",
   "nbconvert_exporter": "python",
   "pygments_lexer": "ipython3",
   "version": "3.6.5"
  }
 },
 "nbformat": 4,
 "nbformat_minor": 2
}
