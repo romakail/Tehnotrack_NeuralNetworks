{
 "cells": [
  {
   "cell_type": "code",
   "execution_count": 61,
   "metadata": {},
   "outputs": [],
   "source": [
    "import numpy as np\n",
    "import matplotlib.pyplot as plt\n",
    "import pickle\n",
    "import tqdm\n",
    "%matplotlib inline\n",
    "\n",
    "from sklearn.cross_validation import train_test_split"
   ]
  },
  {
   "cell_type": "code",
   "execution_count": 62,
   "metadata": {},
   "outputs": [],
   "source": [
    "# класс one-hot encoder'а для MNIST\n",
    "class OneHotEncoder:\n",
    "    def __init__(self):\n",
    "        self.transform_mapping = np.zeros((10,10))\n",
    "        for i in range(self.transform_mapping.shape[0]):\n",
    "            self.transform_mapping[i][i] = 1.0\n",
    "    def transform(self, y):\n",
    "        return self.transform_mapping[int(y)]"
   ]
  },
  {
   "cell_type": "code",
   "execution_count": 63,
   "metadata": {},
   "outputs": [],
   "source": [
    "def make_submission(X_test, net, fname=\"my_submission.csv\"):\n",
    "    with open(fname,'w') as fout:\n",
    "        fout.write('Id,Category')\n",
    "        for i in range(X_test.shape[0]):\n",
    "            y_h = net.forward(X_test[i])\n",
    "            y = np.argmax(y_h)\n",
    "            fout.write(\"\\n{},{}\".format(i, int(y)))"
   ]
  },
  {
   "cell_type": "code",
   "execution_count": 64,
   "metadata": {},
   "outputs": [],
   "source": [
    "# внимание, тут Y_test в обычном формате(не onehot)\n",
    "def compute_acc(X_test, Y_test, net):\n",
    "    acc = 0.0\n",
    "    for i in range(X_test.shape[0]):\n",
    "        y_h = net.forward(X_test[i])\n",
    "        y = np.argmax(y_h)\n",
    "        if(y == Y_test[i]):\n",
    "            acc += 1.0\n",
    "    return acc / Y_test.shape[0]"
   ]
  },
  {
   "cell_type": "code",
   "execution_count": 65,
   "metadata": {},
   "outputs": [],
   "source": [
    "train_data = None\n",
    "test_data = None\n",
    "encoder = OneHotEncoder()\n",
    "with open('data_train.pickle','rb') as fin:\n",
    "    train_data = pickle.load(fin)\n",
    "with open('data_test_no_labels.pickle','rb') as fin:\n",
    "    test_data = pickle.load(fin)\n",
    "    \n",
    "X = train_data['data']\n",
    "Y = train_data['target']\n",
    "Y = np.array(list(map(lambda x : encoder.transform(x), Y)))\n",
    "\n",
    "#print (X_train [9])\n",
    "#print (Y_train [9])\n",
    "#print (Y_train_oh [9])\n",
    "\n",
    "X_test_no_labels = test_data['data']"
   ]
  },
  {
   "cell_type": "code",
   "execution_count": 66,
   "metadata": {},
   "outputs": [
    {
     "data": {
      "image/png": "[encoded data removed]",
      "text/plain": [
       "<Figure size 432x288 with 16 Axes>"
      ]
     },
     "metadata": {},
     "output_type": "display_data"
    }
   ],
   "source": [
    "n=4\n",
    "for i in range(n*n):\n",
    "    plt.subplot(n,n,i+1)\n",
    "    I = train_data['data'][np.random.randint(0, X.shape[0]),:]\n",
    "    I = I.reshape((28, 28))\n",
    "    plt.imshow(I, cmap='gray')"
   ]
  },
  {
   "cell_type": "code",
   "execution_count": 67,
   "metadata": {},
   "outputs": [
    {
     "name": "stdout",
     "output_type": "stream",
     "text": [
      "mean =  [[33.38596474]]\n",
      "(1, 1)\n",
      "std =  [[78.65437363]]\n",
      "(1, 1)\n",
      "x0 = 52500, x1 = 10, x2 = 10\n",
      "X_train_shape0 = 42000\n",
      "X_train_shape1 = 784\n",
      "X_test _shape0 = 10500\n",
      "X_test _shape1 = 784\n",
      "Y_train_shape0 = 42000\n",
      "Y_test _shape0 = 10500\n"
     ]
    }
   ],
   "source": [
    "# Подготовка датасета\n",
    "UnitedX = np.concatenate((X, X_test_no_labels))\n",
    "mean = np.mean(UnitedX, keepdims = True)\n",
    "print ('mean = ', mean)\n",
    "std = np.std(UnitedX, keepdims = True)\n",
    "print ('std = ', std)\n",
    "X = (X - mean) / (std + 0.000001)\n",
    "\n",
    "#mean = np.mean(X_test_no_labels, axis=1, keepdims = True)\n",
    "#std = np.std(X_test_no_labels, axis=1, keepdims = True)\n",
    "X_test_no_labels = (X_test_no_labels - mean) / (std + 0.000001)\n",
    "\n",
    "\n",
    "print ('x0 = %s, x1 = %s, x2 = %s' % (Y.shape[0], Y.shape[1], Y.shape[1]))\n",
    "\n",
    "X_train, X_test, y_train, y_test = train_test_split(X, Y, test_size=0.2, random_state=10)\n",
    "\n",
    "print ('X_train_shape0 = %s' % (X_train.shape[0]))\n",
    "print ('X_train_shape1 = %s' % (X_train.shape[1]))\n",
    "\n",
    "print ('X_test _shape0 = %s' % (X_test.shape[0]))\n",
    "print ('X_test _shape1 = %s' % (X_test.shape[1]))\n",
    "\n",
    "print ('Y_train_shape0 = %s' % (y_train.shape[0]))\n",
    "print ('Y_test _shape0 = %s' % (y_test.shape[0]))"
   ]
  },
  {
   "cell_type": "code",
   "execution_count": 68,
   "metadata": {},
   "outputs": [],
   "source": [
    "# Определение слоев сети\n",
    "class Dense:\n",
    "    def __init__(self, in_size, out_size, rlambda = 0.0):\n",
    "        self.W = np.random.normal(scale=1, size=(out_size, in_size)) * np.sqrt(2/(out_size + in_size))\n",
    "        self.b = np.zeros(out_size)\n",
    "        #как здесь инициализируется лучше запомнить и самому так делать\n",
    "        self.rlambda = rlambda\n",
    "    def forward(self, x):\n",
    "        self.x = x # запоминаем для обратного прохода\n",
    "        return np.dot(self.W, x) + self.b\n",
    "    \n",
    "    def get_reg_loss(self):\n",
    "        return 0.5 * self.rlambda * (np.linalg.norm(self.W, ord='fro') ** 2)\n",
    "    \n",
    "    def backward(self, dz, lr=0.01):\n",
    "        # вычисляем градиенты по параметрам (запоминаем их для отладки)\n",
    "        self.dW = np.outer(dz, self.x)\n",
    "        self.db = dz\n",
    "        # вычисляем производную по входу\n",
    "        self.dx = np.matmul(dz, self.W)\n",
    "        # рассчитываем градиенты от регуляризатора\n",
    "        if(self.rlambda != 0):\n",
    "            self.dW += self.rlambda * self.W\n",
    "        # обновляем веса\n",
    "        self.W = self.W - lr * self.dW\n",
    "        self.b = self.b - lr * self.db\n",
    "        # возвращаем dx для продолжения алгоритма\n",
    "        return self.dx"
   ]
  },
  {
   "cell_type": "code",
   "execution_count": 69,
   "metadata": {},
   "outputs": [],
   "source": [
    "class Dropout:\n",
    "    def __init__(self, p = 0.5):\n",
    "        self.p = p\n",
    "        self.train = True\n",
    "    \n",
    "    def set_train(self, train = True):\n",
    "        self.train = train\n",
    "    \n",
    "    def forward(self, x):\n",
    "        if not self.train:\n",
    "            self.mask = np.ones(*x.shape) # распаковка duple\n",
    "            return x\n",
    "        self.mask = ( np.random.rand(*x.shape) > self.p ) / (1.0 - self.p)\n",
    "        #print (self.mask)\n",
    "        return x * self.mask\n",
    "        \n",
    "    def backward(self, dz, lr=0.001):\\\n",
    "        return dz * self.mask"
   ]
  },
  {
   "cell_type": "code",
   "execution_count": 70,
   "metadata": {},
   "outputs": [],
   "source": [
    "class MaxRelu:\n",
    "    #вычисляется покомпонетно\n",
    "    def forward(self, x):\n",
    "        self.x = x\n",
    "        return np.maximum(0, x)\n",
    "    \n",
    "    def backward(self, dz, lr=0.01):  #lr - для того чтоб интерфейс был унифицирован\n",
    "        dz[self.x < 0] = 0\n",
    "        return dz"
   ]
  },
  {
   "cell_type": "code",
   "execution_count": 71,
   "metadata": {},
   "outputs": [],
   "source": [
    "# нормировка -NPmax\n",
    "\n",
    "class Softmax: # не облаает изменяемыми параметрами\n",
    "    \n",
    "    def forward(self, x):\n",
    "        self.x = x\n",
    "        self.frw = np.exp(x) / sum(np.exp(x))\n",
    "        return self.frw\n",
    "    \n",
    "    def backward(self, dz, lr=0.01):\n",
    "        self.lp  = (np.eye(dz.shape[0]) - self.frw).T\n",
    "        self.lp2 = self.frw * self.lp\n",
    "        self.bcw = np.dot (dz, self.lp2)\n",
    "        return self.bcw"
   ]
  },
  {
   "cell_type": "code",
   "execution_count": 72,
   "metadata": {},
   "outputs": [],
   "source": [
    "class CrossEntropy:\n",
    "    \n",
    "    def forward(self, y_true, y_hat):\n",
    "        self.y_true = y_true\n",
    "        self.y_hat  = y_hat\n",
    "        return - sum(y_true * np.log (y_hat))\n",
    "    \n",
    "    def backward(self, dz, lr=0.01):\n",
    "        return - dz * (self.y_true / self.y_hat)\n"
   ]
  },
  {
   "cell_type": "code",
   "execution_count": 73,
   "metadata": {},
   "outputs": [],
   "source": [
    "class Mnistnet:\n",
    "    \n",
    "    def __init__ (self):\n",
    "        self.D1 = Dense (784, 10)\n",
    "        self.RL = MaxRelu ()\n",
    "        self.DO = Dropout ()\n",
    "        self.D2 = Dense (10, 10)\n",
    "        self.SM = Softmax ()\n",
    "        \n",
    "    def forward (self, x):\n",
    "        x = self.D1.forward(x)\n",
    "        x = self.RL.forward(x)\n",
    "        x = self.DO.forward(x)\n",
    "        x = self.D2.forward(x)\n",
    "        x = self.SM.forward(x)\n",
    "        return x\n",
    "    \n",
    "    def backward (self, dz, lr=0.01):\n",
    "        dz = self.SM.backward(dz, lr)\n",
    "        dz = self.D2.backward(dz, lr)\n",
    "        dz = self.DO.backward(dz, lr)\n",
    "        dz = self.RL.backward(dz, lr)\n",
    "        dz = self.D1.backward(dz, lr)\n",
    "        return dz\n",
    "    \n",
    "    "
   ]
  },
  {
   "cell_type": "code",
   "execution_count": 77,
   "metadata": {},
   "outputs": [
    {
     "data": {
      "application/vnd.jupyter.widget-view+json": {
       "model_id": "c1065a18a09a4064a52ca75017284463",
       "version_major": 2,
       "version_minor": 0
      },
      "text/plain": [
       "HBox(children=(IntProgress(value=0, max=16), HTML(value='')))"
      ]
     },
     "metadata": {},
     "output_type": "display_data"
    },
    {
     "name": "stdout",
     "output_type": "stream",
     "text": [
      "iter =  0 loss_train =  1.3958912711000082 loss_test =  1.288976432338924\n",
      "iter =  1 loss_train =  1.2363660915813457 loss_test =  1.2046919717020999\n",
      "iter =  2 loss_train =  1.2011834487829949 loss_test =  1.1897241667153116\n",
      "iter =  3 loss_train =  1.1836454723711631 loss_test =  1.193859150351018\n",
      "iter =  4 loss_train =  1.1486578345518306 loss_test =  1.1402551822662967\n",
      "iter =  5 loss_train =  1.1206260500639957 loss_test =  1.1207123350182324\n",
      "iter =  6 loss_train =  1.0913698256304225 loss_test =  1.1009198373394566\n",
      "iter =  7 loss_train =  1.0838397379366014 loss_test =  1.0850601467639\n",
      "iter =  8 loss_train =  1.0718911700495348 loss_test =  1.082118753715077\n",
      "iter =  9 loss_train =  1.0724730147165131 loss_test =  1.0900520435146823\n",
      "iter =  10 loss_train =  1.0646997336596418 loss_test =  1.083442035759302\n",
      "iter =  11 loss_train =  1.0686569019392116 loss_test =  1.083612290836028\n",
      "iter =  12 loss_train =  1.0655336400407274 loss_test =  1.0896295533876543\n",
      "iter =  13 loss_train =  1.0609051575584905 loss_test =  1.0797945719180735\n",
      "iter =  14 loss_train =  1.0707150247685229 loss_test =  1.0734970732856415\n",
      "iter =  15 loss_train =  1.061988044216981 loss_test =  1.0837889805115593\n",
      "\n"
     ]
    }
   ],
   "source": [
    "# Здесь процедура обучения\n",
    "net = Mnistnet()\n",
    "loss = CrossEntropy()\n",
    "\n",
    "lRate = 0.001\n",
    "\n",
    "nEpochs = 16\n",
    "L_train = [0] * nEpochs\n",
    "L_test  = [0] * nEpochs\n",
    "epoch = 0\n",
    "for iter in tqdm.tqdm_notebook(range(nEpochs)):\n",
    "    for j in range (X_train.shape[0]):\n",
    "        y_hat = net.forward (X_train[j])\n",
    "        L_train[epoch] += loss.forward (y_train[j], y_hat)\n",
    "        dz = loss.backward (1, lRate)\n",
    "        net.backward (dz, lRate)\n",
    "    L_train[epoch] /= X_train.shape[0]\n",
    "    \n",
    "    for j in range (X_test.shape[0]):\n",
    "        y_hat = net.forward (X_test [j])\n",
    "        L_test [epoch] += loss.forward (y_test [j], y_hat) \n",
    "    L_test [epoch] /= X_test.shape[0]\n",
    "    print ('iter = ', epoch, 'loss_train = ', L_train[epoch], 'loss_test = ', L_test[epoch])\n",
    "    epoch += 1\n",
    "    \n",
    "\n",
    "\n"
   ]
  },
  {
   "cell_type": "code",
   "execution_count": 78,
   "metadata": {},
   "outputs": [
    {
     "data": {
      "text/plain": [
       "<matplotlib.legend.Legend at 0x7f740d90ecf8>"
      ]
     },
     "execution_count": 78,
     "metadata": {},
     "output_type": "execute_result"
    },
    {
     "data": {
      "image/png": "[encoded data removed]",
      "text/plain": [
       "<Figure size 432x288 with 1 Axes>"
      ]
     },
     "metadata": {},
     "output_type": "display_data"
    }
   ],
   "source": [
    "# Здесь необходимо отрисовать графики CrossEntropyLoss для обучающей и валидационной выборок\n",
    "# plot(L_train, label=\"train\")\n",
    "# ...\n",
    "\n",
    "\n",
    "\n",
    "asixX = np.linspace (0, nEpochs, nEpochs)\n",
    "plt.title ('lossfunc')\n",
    "plt.plot(asixX, L_train, 'o', label='train')\n",
    "plt.plot(asixX, L_test , 'x', label='test ')\n",
    "plt.legend()\n",
    "\n"
   ]
  },
  {
   "cell_type": "code",
   "execution_count": 79,
   "metadata": {},
   "outputs": [],
   "source": [
    "# формируем сабмишшен и заливаем его на kaggle\n",
    "net.DO.set_train(train = False)\n",
    "make_submission(X_test_no_labels, net)"
   ]
  },
  {
   "cell_type": "code",
   "execution_count": null,
   "metadata": {},
   "outputs": [],
   "source": []
  }
 ],
 "metadata": {
  "kernelspec": {
   "display_name": "Python 3",
   "language": "python",
   "name": "python3"
  },
  "language_info": {
   "codemirror_mode": {
    "name": "ipython",
    "version": 3
   },
   "file_extension": ".py",
   "mimetype": "text/x-python",
   "name": "python",
   "nbconvert_exporter": "python",
   "pygments_lexer": "ipython3",
   "version": "3.6.5"
  }
 },
 "nbformat": 4,
 "nbformat_minor": 2
}
