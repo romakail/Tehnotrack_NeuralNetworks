{
 "cells": [
  {
   "cell_type": "markdown",
   "metadata": {},
   "source": [
    "# Персептрон и алгоритм обратного распространения ошибки.  "
   ]
  },
  {
   "cell_type": "markdown",
   "metadata": {},
   "source": [
    "Illustration of the Mark 1 perceptron hardware (1960).\n",
    "\n",
    "<img src=\"./imgs/0.png\">\n",
    "The photograph on the left shows how the inputs were obtained using a simple camera system in which an input scene, in this case a printed character, was illuminated by powerful lights, and an image focussed onto a 20 × 20 array of cadmium sulphide photocells, giving a primitive 400 pixel image. \n",
    "<img src=\"./imgs/1.png\">\n",
    "The perceptron also had a patch board, shown in the middle photograph,\n",
    "which allowed different configurations of input features to be tried. Often these were wired up at random to demonstrate the ability of the perceptron to learn without the need for precise wiring, in contrast to a modern digital computer. \n",
    "\n",
    "<img src=\"./imgs/2.png\">\n",
    "The photograph on the right shows one of the racks of adaptive weights. Each weight was\n",
    "implemented using a rotary variable resistor, also called a potentiometer, driven by an electric motor thereby\n",
    "allowing the value of the weight to be adjusted automatically by the learning algorithm.\n",
    "\n",
    "<img src=\"./imgs/2.jpg\">\n",
    "The Mark 1 Perceptron (Source: Arvin Calspan Advanced Technology Center; Hecht-Nielsen, R. Neurocomputing (Reading, Mass.: Addison-Wesley, 1990).)\n",
    "\n"
   ]
  },
  {
   "cell_type": "markdown",
   "metadata": {},
   "source": [
    "# Однослойный перцептрон"
   ]
  },
  {
   "cell_type": "markdown",
   "metadata": {},
   "source": [
    "<img src=\"./imgs/3.png\" width=400>"
   ]
  },
  {
   "cell_type": "markdown",
   "metadata": {},
   "source": [
    "$$\n",
    "\\large\n",
    "\\large OUT(x) = softmax(D_2(\\vec{x})) \\\\\n",
    "\\large D_2(\\vec{x}) = \\theta_2 + W_2 A_1(\\vec{x}) \\\\\n",
    "\\large A_1(x) = max(0, D_1(\\vec{x})) \\\\\n",
    "\\large D_1(\\vec{x}) = \\theta_1 + W_1 \\vec{x}\n",
    "$$\n",
    "\n",
    "Каждая сеть представима в виде акцикличного графа вычислений над тензорами. **Тензор** - в случае нейронных сетей это просто многомерный массив. В узлах графа находятся функции, осуществляющие операции. В теминах нейронных сетей вычислительные узлы называют **слоями**. В данной сети есть слои следующих видов:\n",
    "- dense (D) - полносвязный слой\n",
    "- max(0,x) - слой нелинейной активации\n",
    "- softmax - softmax \n",
    "- loss - функционал потерь, котороый тоже стоит рассматривать как слой.\n",
    "\n",
    "Обычно граф вычислений рисуется следующим образом"
   ]
  },
  {
   "cell_type": "markdown",
   "metadata": {},
   "source": [
    "<img src=\"./imgs/4.png\" width=700>"
   ]
  },
  {
   "cell_type": "markdown",
   "metadata": {},
   "source": [
    "Так как мы говорим про задачу многоклассовой классификации, то на выходе сети мы ожидаем набор вероятностей $p_i$, такие что $\\sum p_j = 1$. Для реализации этого используется softmax слой, физический смысл которого эквивалентен сигмойду в задаче бинарной классификации\n",
    "$$\n",
    "\\large softmax_i = p_i = \\frac{e^{a_i}}{\\sum_j e^{a_j}} \\\\\n",
    "$$"
   ]
  },
  {
   "cell_type": "markdown",
   "metadata": {},
   "source": [
    "# Loss функция"
   ]
  },
  {
   "cell_type": "markdown",
   "metadata": {},
   "source": [
    "Для того, чтобы получить loss функцию для нейронной сети, рассмотрим понятие перекрестной энтропии:\n",
    "$$\n",
    "\\large H(p, q) = \\operatorname{E}_p[-\\log q] = H(p) + D_{\\mathrm{KL}}(p \\| q)=-\\sum_x p(x)\\log q(x)\n",
    "$$\n",
    "где $D_{\\mathrm{KL}}(p||q)$ - расстояние Ку́льбака—Ле́йблера\n",
    "$$\n",
    "\\large D_{\\mathrm{KL}}(p||q)=\\sum \\limits _{i=1}^{n}p_{i}\\log {\\frac {p_{i}}{q_{i}}}\n",
    "$$\n",
    "Значение этого функционала можно понимать как количество неучтённой информации распределения $P$, если $Q$ было использовано для приближения $P$.\n",
    "\n",
    "Можно показать, что оптимизация кросс-энтропии в задаче многоклассовой оптимизации эквивалентно оптимизации правдоподобия.  Таким образом, loss для нашей сети будет:\n",
    "$$\n",
    "\\large L = -\\sum_i y_i \\log \\hat{y}_i\n",
    "$$"
   ]
  },
  {
   "cell_type": "markdown",
   "metadata": {},
   "source": [
    "# Концепция автоматического дифференцирования"
   ]
  },
  {
   "cell_type": "markdown",
   "metadata": {},
   "source": [
    "Давайте переместимся в слайды )\n",
    "<img src=\"./imgs/5.png\" width=700>"
   ]
  },
  {
   "cell_type": "markdown",
   "metadata": {},
   "source": [
    "# Обучаем персептрон"
   ]
  },
  {
   "cell_type": "markdown",
   "metadata": {},
   "source": [
    "Задача: нужно реализовать двухслойный персептрон и обучить его на наборе MNIST"
   ]
  },
  {
   "cell_type": "code",
   "execution_count": 1,
   "metadata": {},
   "outputs": [],
   "source": [
    "import numpy as np\n",
    "import matplotlib.pyplot as plt\n",
    "%matplotlib inline"
   ]
  },
  {
   "cell_type": "markdown",
   "metadata": {},
   "source": [
    "### Полносвязный слой (Dense)"
   ]
  },
  {
   "cell_type": "code",
   "execution_count": 10,
   "metadata": {},
   "outputs": [],
   "source": [
    "class Dense:\n",
    "    def __init__(self, in_size, out_size, rlambda = 0.0):\n",
    "        self.W = np.random.normal(scale=1, size=(out_size, in_size)) * np.sqrt(2/(out_size + in_size))\n",
    "        self.b = np.zeros(out_size)\n",
    "        #как здесь инициализируется лучше запомнить и самому так делать\n",
    "        self.rlambda = rlambda\n",
    "    def forward(self, x):\n",
    "        self.x = x # запоминаем для обратного прохода\n",
    "        return np.dot(self.W, x) + self.b\n",
    "    \n",
    "    def get_reg_loss(self):\n",
    "        return 0.5 * self.rlambda * (np.linalg.norm(self.W, ord='fro') ** 2)\n",
    "    \n",
    "    def backward(self, dz, lr=0.001):\n",
    "        # вычисляем градиенты по параметрам (запоминаем их для отладки)\n",
    "        self.dW = np.outer(dz, self.x)\n",
    "        self.db = dz\n",
    "        # вычисляем производную по входу\n",
    "        self.dx = np.matmul(dz, self.W)\n",
    "        # рассчитываем градиенты от регуляризатора\n",
    "        if(self.rlambda != 0):\n",
    "            self.dW += self.rlambda * self.W\n",
    "        # обновляем веса\n",
    "        self.W = self.W - lr * self.dW\n",
    "        self.b = self.b - lr * self.db\n",
    "        # возвращаем dx для продолжения алгоритма\n",
    "        return self.dx"
   ]
  },
  {
   "cell_type": "markdown",
   "metadata": {},
   "source": [
    "Проверяем используя пример из слайдов"
   ]
  },
  {
   "cell_type": "code",
   "execution_count": 12,
   "metadata": {},
   "outputs": [
    {
     "name": "stdout",
     "output_type": "stream",
     "text": [
      "z =  [1.22 0.76] must be [1.22 0.76] diff =  [0. 0.]\n",
      "dx =  [-0.112  0.636] must be [-0.112  0.636] diff =  [1.38777878e-17 0.00000000e+00]\n",
      "W\n",
      " [[ 0.099912  0.499824]\n",
      " [-0.300104  0.799792]]\n",
      "dW:\n",
      " [[0.088 0.176]\n",
      " [0.104 0.208]]\n",
      "db:\n",
      " [0.44 0.52]\n",
      "dx:\n",
      " [-0.112  0.636]\n"
     ]
    }
   ],
   "source": [
    "d = Dense(2, 2)\n",
    "x = np.array([0.2, 0.4])\n",
    "d.W = np.array([[0.1, 0.5], [-0.3, 0.8]])\n",
    "d.b = np.array([1, 0.5])\n",
    "dz = np.array([0.44, 0.52])\n",
    "\n",
    "z = d.forward(x)\n",
    "z_orig = np.array([1.22, 0.76])\n",
    "print('z = ',z, 'must be', z_orig, 'diff = ', z-z_orig)\n",
    "\n",
    "dx = d.backward(dz)\n",
    "dx_orig = np.array([-0.112, 0.636])\n",
    "print('dx = ', dx, 'must be', dx_orig, 'diff = ', dx-dx_orig)\n",
    "\n",
    "print('W\\n', d.W)\n",
    "print('dW:\\n', d.dW)\n",
    "print('db:\\n', d.db)\n",
    "print('dx:\\n', d.dx)"
   ]
  },
  {
   "cell_type": "markdown",
   "metadata": {},
   "source": [
    "В слайдах у нас вход и выход слоя имеют одинаковую размерность. Давайте проверим, что для разных размеров все считается правильно."
   ]
  },
  {
   "cell_type": "code",
   "execution_count": 13,
   "metadata": {},
   "outputs": [
    {
     "name": "stdout",
     "output_type": "stream",
     "text": [
      "(2,) must be (2,)\n",
      "(3,) must be (3,)\n"
     ]
    }
   ],
   "source": [
    "# Проверяем, что размерности соблюдаются правильно\n",
    "d = Dense(3, 2)\n",
    "x = np.array([0.1, 0.2, 0.3])\n",
    "r = d.forward(x)\n",
    "print(r.shape, 'must be', (2,))\n",
    "dz = np.array([0.4, 0.5])\n",
    "dz = d.backward(dz)\n",
    "print(dz.shape, 'must be', (3,))"
   ]
  },
  {
   "cell_type": "markdown",
   "metadata": {},
   "source": [
    "### Нелинейная функция активации: ReLu"
   ]
  },
  {
   "cell_type": "markdown",
   "metadata": {},
   "source": [
    "$$\n",
    "ReLu = max(0, x)\n",
    "$$"
   ]
  },
  {
   "cell_type": "code",
   "execution_count": 5,
   "metadata": {},
   "outputs": [],
   "source": [
    "class Max:\n",
    "    #вычисляется покомпонетно\n",
    "    def forward(self, x):\n",
    "        self.x = x\n",
    "        return np.maximum(0, x)\n",
    "    \n",
    "    def backward(self, dz, lr=0.1):  #lr - для того чтоб интерфейс был унифицирован\n",
    "        dz[self.x < 0] = 0\n",
    "        return dz"
   ]
  },
  {
   "cell_type": "markdown",
   "metadata": {},
   "source": [
    "### Softmax"
   ]
  },
  {
   "cell_type": "markdown",
   "metadata": {},
   "source": [
    "$$\n",
    "\\frac {\\partial }{\\partial x_{k}}\\sigma_i (x) =\\sigma_i (x)(\\delta _{ik}-\\sigma_k (x))\n",
    "$$\n",
    "где $\\delta _{ik}$ это дельта Кронекера\n",
    "$$\n",
    "\\delta _{{ij}}={\\begin{cases}0&{\\text{if }}i\\neq j,\\\\1&{\\text{if }}i=j.\\end{cases}}\n",
    "$$"
   ]
  },
  {
   "cell_type": "code",
   "execution_count": 80,
   "metadata": {},
   "outputs": [],
   "source": [
    "# TODO\n",
    "# нормировка -NPmax\n",
    "\n",
    "class Softmax: # не облаает изменяемыми параметрами\n",
    "    \n",
    "    def forward(self, x):\n",
    "        self.x = x\n",
    "        self.frw = np.exp(x) / sum(np.exp(x))\n",
    "        return self.frw\n",
    "    \n",
    "    def backward(self, dz, lr=0.001):\n",
    "        self.lp  = (np.eye(dz.shape[0]) - self.frw).T\n",
    "        self.lp2 = self.frw * self.lp\n",
    "        self.bcw = np.dot (dz, self.lp2)\n",
    "        return self.bcw"
   ]
  },
  {
   "cell_type": "code",
   "execution_count": 81,
   "metadata": {},
   "outputs": [
    {
     "name": "stdout",
     "output_type": "stream",
     "text": [
      "z =  [0.125 0.375 0.25  0.25 ]\n",
      "dz =  [-0.046875  0.234375 -0.09375  -0.09375 ]\n",
      "sh0 =  4 sh1 =  4\n",
      "lp =  [[ 0.875 -0.125 -0.125 -0.125]\n",
      " [-0.375  0.625 -0.375 -0.375]\n",
      " [-0.25  -0.25   0.75  -0.25 ]\n",
      " [-0.25  -0.25  -0.25   0.75 ]]\n",
      "lp2=  [[ 0.109375 -0.046875 -0.03125  -0.03125 ]\n",
      " [-0.046875  0.234375 -0.09375  -0.09375 ]\n",
      " [-0.03125  -0.09375   0.1875   -0.0625  ]\n",
      " [-0.03125  -0.09375  -0.0625    0.1875  ]]\n"
     ]
    }
   ],
   "source": [
    "# Код для проверки\n",
    "x = np.array([np.log(0.5), np.log(1.5), 0, 0])\n",
    "s = Softmax()\n",
    "sm = s.forward(x)\n",
    "print('z = ', sm)\n",
    "dz = np.array([1, 2, 1, 1])\n",
    "res = s.backward(dz)\n",
    "print('dz = ', res)\n",
    "print('sh0 = ', res.shape[0], 'sh1 = ', res.shape[0])\n",
    "print('lp = ', s.lp)\n",
    "print('lp2= ', s.lp2)\n"
   ]
  },
  {
   "cell_type": "markdown",
   "metadata": {},
   "source": [
    "### Loss: кросс-энтропия"
   ]
  },
  {
   "cell_type": "markdown",
   "metadata": {},
   "source": [
    "Напомню, кросс-энтропия выражается как\n",
    "$$\n",
    "L = -\\sum_i y_i \\log \\hat{y}_i\n",
    "$$\n",
    "\n",
    "Градиент вычисляется следующим образом:\n",
    "$$\n",
    "\\frac {\\partial }{\\partial \\hat{y}_{i}} L = -\\frac{y_i}{\\hat{y}_i}\n",
    "$$"
   ]
  },
  {
   "cell_type": "code",
   "execution_count": 95,
   "metadata": {},
   "outputs": [
    {
     "name": "stdout",
     "output_type": "stream",
     "text": [
      "-10.0\n",
      "[-0.36787944 -0.73575888 -1.10363832 -1.47151776]\n"
     ]
    }
   ],
   "source": [
    "# TODO\n",
    "class CrossEntropy:\n",
    "    \n",
    "    def forward(self, y_true, y_hat):\n",
    "        self.y_true = y_true\n",
    "        self.y_hat  = y_hat\n",
    "        return - sum(y_true * np.log (y_hat))\n",
    "    \n",
    "    def backward(self, dz, lr=0.001):\n",
    "        #dz * (self.y_true / self.y_hat)\n",
    "        #gradLoss = np.array (self.y_true.shape[0])\n",
    "        #for i in (self.y_true.shape[0]):\n",
    "        #    gradLoss [i] = self.y_true[i] / self.y_hat[i]\n",
    "        return - dz * (self.y_true / self.y_hat)\n",
    "\n",
    "y1 = np.array ([1, 2, 3, 4])\n",
    "y2 = np.array ([np.e, np.e, np.e, np.e])\n",
    "\n",
    "CE = CrossEntropy ()\n",
    "print (CE.forward(y1, y2))\n",
    "dz = 1\n",
    "print (CE.backward (dz))"
   ]
  },
  {
   "cell_type": "raw",
   "metadata": {},
   "source": [
    "### Инициализация параметров сети"
   ]
  },
  {
   "cell_type": "markdown",
   "metadata": {},
   "source": [
    "На практике часто используют, так называемое, правило  Xavier'a:\n",
    "$$\n",
    "W \\sim N(0,1)\\sqrt{\\frac{2}{n_{in} + n_{out}}}\n",
    "$$\n",
    "\n",
    "Почему так:\n",
    "$$\n",
    "Y = W_1X_1 + W_2X_2 + ... + W_nX_n\n",
    "$$\n",
    "\n",
    "$$\n",
    "\\text{Var}(W_iX_i) = E[X_i]^2 \\text{Var}(W_i) + E[W_i]^2 \\text{Var}(X_i) + \\text{Var}(W_i)\\text{Var}(X_i)\n",
    "$$\n",
    "\n",
    "$$\n",
    "\\text{Var}(W_iX_i) = \\text{Var}(W_i)\\text{Var}(X_i)\n",
    "$$\n",
    "\n",
    "$$\n",
    "\\text{Var}(Y) = \\text{Var}(W_1X_1 + W_2X_2 + \\dotsb + W_n X_n) = n\\text{Var}(W_i)\\text{Var}(X_i)\n",
    "$$\n",
    "\n",
    "$$\n",
    "\\text{Var}(W_i) = \\frac{1}{n} = \\frac{1}{n_\\text{in}} - \\text{но это работает, когда}, n_{in} = n_{out}\n",
    "$$\n",
    "\n",
    "$$\n",
    "\\text{Поэтому избавляются от требования через} - \\text{Var}(W_i) = \\frac{2}{n_\\text{in} + n_\\text{out}}\n",
    "$$"
   ]
  },
  {
   "cell_type": "markdown",
   "metadata": {},
   "source": [
    "###  Dropout (в дополнение к L1 и L2). \"Учиться меньше, чтобы учиться лучше\"(с)"
   ]
  },
  {
   "cell_type": "markdown",
   "metadata": {},
   "source": [
    "<img src=\"./imgs/18.png\" width=700>"
   ]
  },
  {
   "cell_type": "markdown",
   "metadata": {},
   "source": [
    "Суть: каждый из нейронов участвует в обучении с некоторой вероятностью __p__. Во время инференса все нейроны включены в работу сети."
   ]
  },
  {
   "cell_type": "code",
   "execution_count": 4,
   "metadata": {},
   "outputs": [],
   "source": [
    "class Dropout:\n",
    "    def __init__(self, p = 0.5):\n",
    "        self.p = p\n",
    "        self.train = True\n",
    "    \n",
    "    def set_train(self, train = True):\n",
    "        self.train = train\n",
    "    \n",
    "    def forward(self, x):\n",
    "        if not self.train:\n",
    "            self.mask = np.ones(*x.shape) # распаковка duple\n",
    "            return x\n",
    "        self.mask = ( np.random.rand(*x.shape) > self.p ) / (1.0 - self.p) # ???\n",
    "        return x * self.mask\n",
    "        \n",
    "    def backward(self, dz, lr=0.001):\n",
    "        return dz * self.mask\n"
   ]
  },
  {
   "cell_type": "code",
   "execution_count": 3,
   "metadata": {},
   "outputs": [
    {
     "ename": "NameError",
     "evalue": "name 'np' is not defined",
     "output_type": "error",
     "traceback": [
      "\u001b[0;31m---------------------------------------------------------------------------\u001b[0m",
      "\u001b[0;31mNameError\u001b[0m                                 Traceback (most recent call last)",
      "\u001b[0;32m<ipython-input-3-68bc9833638e>\u001b[0m in \u001b[0;36m<module>\u001b[0;34m()\u001b[0m\n\u001b[1;32m      1\u001b[0m \u001b[0;31m#np.random.seed()\u001b[0m\u001b[0;34m\u001b[0m\u001b[0;34m\u001b[0m\u001b[0m\n\u001b[0;32m----> 2\u001b[0;31m \u001b[0mx\u001b[0m \u001b[0;34m=\u001b[0m \u001b[0mnp\u001b[0m\u001b[0;34m.\u001b[0m\u001b[0marray\u001b[0m\u001b[0;34m(\u001b[0m\u001b[0;34m[\u001b[0m\u001b[0;36m1\u001b[0m\u001b[0;34m,\u001b[0m\u001b[0;36m2\u001b[0m\u001b[0;34m,\u001b[0m\u001b[0;36m3\u001b[0m\u001b[0;34m,\u001b[0m\u001b[0;36m4\u001b[0m\u001b[0;34m,\u001b[0m\u001b[0;36m5\u001b[0m\u001b[0;34m,\u001b[0m\u001b[0;36m6\u001b[0m\u001b[0;34m,\u001b[0m\u001b[0;36m7\u001b[0m\u001b[0;34m,\u001b[0m\u001b[0;36m8\u001b[0m\u001b[0;34m]\u001b[0m\u001b[0;34m)\u001b[0m\u001b[0;34m\u001b[0m\u001b[0m\n\u001b[0m\u001b[1;32m      3\u001b[0m \u001b[0md\u001b[0m \u001b[0;34m=\u001b[0m \u001b[0mDropout\u001b[0m\u001b[0;34m(\u001b[0m\u001b[0;36m0.5\u001b[0m\u001b[0;34m)\u001b[0m\u001b[0;34m\u001b[0m\u001b[0m\n\u001b[1;32m      4\u001b[0m \u001b[0mz\u001b[0m \u001b[0;34m=\u001b[0m \u001b[0md\u001b[0m\u001b[0;34m.\u001b[0m\u001b[0mforward\u001b[0m\u001b[0;34m(\u001b[0m\u001b[0mx\u001b[0m\u001b[0;34m)\u001b[0m\u001b[0;34m\u001b[0m\u001b[0m\n\u001b[1;32m      5\u001b[0m \u001b[0mprint\u001b[0m\u001b[0;34m(\u001b[0m\u001b[0mz\u001b[0m\u001b[0;34m)\u001b[0m\u001b[0;34m\u001b[0m\u001b[0m\n",
      "\u001b[0;31mNameError\u001b[0m: name 'np' is not defined"
     ]
    }
   ],
   "source": [
    "#np.random.seed()\n",
    "x = np.array([1,2,3,4,5,6,7,8])\n",
    "d = Dropout(0.5)\n",
    "z = d.forward(x)\n",
    "print(z)\n",
    "z = d.backward(z)\n",
    "print(z)"
   ]
  },
  {
   "cell_type": "markdown",
   "metadata": {},
   "source": [
    "# Тест 0 - самая тупая сеть\n",
    "\n",
    "Строим функцию $f(x)=x$"
   ]
  },
  {
   "cell_type": "code",
   "execution_count": 98,
   "metadata": {},
   "outputs": [],
   "source": [
    "X = np.array([[1., 0],\n",
    "              [0,  1.]])\n",
    "Y = np.array([[1., 0],\n",
    "              [0,  1.]])"
   ]
  },
  {
   "cell_type": "code",
   "execution_count": 99,
   "metadata": {},
   "outputs": [],
   "source": [
    "class IdentityNet:\n",
    "    \n",
    "    def __init__(self):\n",
    "        self.d = Dense(2, 2)\n",
    "        self.s = Softmax()\n",
    "        \n",
    "    def forward(self, x):\n",
    "        self.x = x\n",
    "        net = self.d.forward(x)\n",
    "        net = self.s.forward(net)\n",
    "        return net\n",
    "    \n",
    "    def backward(self, dz, lr=0.001):\n",
    "        dz = self.s.backward(dz, lr)\n",
    "        dz = self.d.backward(dz, lr)\n",
    "        return dz"
   ]
  },
  {
   "cell_type": "code",
   "execution_count": 100,
   "metadata": {},
   "outputs": [],
   "source": [
    "net = IdentityNet()\n",
    "L_iter = []"
   ]
  },
  {
   "cell_type": "code",
   "execution_count": 101,
   "metadata": {},
   "outputs": [
    {
     "name": "stdout",
     "output_type": "stream",
     "text": [
      "[0.94834572 0.05165428] [0.05089664 0.94910336]\n"
     ]
    },
    {
     "data": {
      "image/png": "[encoded data removed]",
      "text/plain": [
       "<Figure size 432x288 with 1 Axes>"
      ]
     },
     "metadata": {},
     "output_type": "display_data"
    }
   ],
   "source": [
    "# Инициализируем loss, его удобнее хранить в теле обучения\n",
    "loss = CrossEntropy() \n",
    "lr = 0.1 # скорость обучения\n",
    "for iter in range(100): # эпохи = полный проход по датасету\n",
    "    L_acc = 0.\n",
    "    for i in range(X.shape[0]):\n",
    "        x = X[i]\n",
    "        y = Y[i]\n",
    "        y_h = net.forward(x)\n",
    "        L = loss.forward(y, net.forward(x))\n",
    "        L_acc += L\n",
    "        dz = loss.backward(1, lr)\n",
    "        net.backward(dz, lr)\n",
    "    L_iter.append(L_acc) # коллекционируем loss\n",
    "plt.plot(L_iter) # посмотрим на кривую обучения\n",
    "print( net.forward(X[0]), net.forward(X[1])) # проверим глазами, что обучились"
   ]
  },
  {
   "cell_type": "markdown",
   "metadata": {},
   "source": [
    "# Тест 1 - XOR\n",
    "\n",
    "<img src=\"./imgs/10.png\" width=200>"
   ]
  },
  {
   "cell_type": "code",
   "execution_count": 102,
   "metadata": {},
   "outputs": [],
   "source": [
    "X = np.array([[-1, -1],\n",
    "              [1, -1],\n",
    "              [-1, 1],\n",
    "              [1, 1]], dtype='float')\n",
    "\n",
    "Y = np.array([[1, 0],\n",
    "              [0, 1],\n",
    "              [0, 1],\n",
    "              [1, 0]], dtype='float')\n"
   ]
  },
  {
   "cell_type": "code",
   "execution_count": 103,
   "metadata": {},
   "outputs": [],
   "source": [
    "class XorNet:\n",
    "    \n",
    "    def __init__(self):\n",
    "        self.d1 = Dense(2, 10)\n",
    "        self.a1 = Max()\n",
    "        self.d2 = Dense(10, 2)\n",
    "        self.sm = Softmax()\n",
    "        \n",
    "    def forward(self, x):\n",
    "        net = self.d1.forward(x)\n",
    "        net = self.a1.forward(net)\n",
    "        net = self.d2.forward(net)\n",
    "        net = self.sm.forward(net)\n",
    "        self.net = net\n",
    "        return net\n",
    "    \n",
    "    def backward(self, dz, lr=0.1):\n",
    "        dz = self.sm.backward(dz, lr)\n",
    "        dz = self.d2.backward(dz, lr)\n",
    "        dz = self.a1.backward(dz, lr)\n",
    "        dz = self.d1.backward(dz, lr)\n",
    "        return dz\n",
    "        "
   ]
  },
  {
   "cell_type": "code",
   "execution_count": 104,
   "metadata": {},
   "outputs": [],
   "source": [
    "net = XorNet()"
   ]
  },
  {
   "cell_type": "code",
   "execution_count": 105,
   "metadata": {},
   "outputs": [
    {
     "name": "stdout",
     "output_type": "stream",
     "text": [
      "[0.99253692 0.00746308] [1. 0.]\n",
      "[0.00567368 0.99432632] [0. 1.]\n",
      "[0.00635564 0.99364436] [0. 1.]\n",
      "[0.99413279 0.00586721] [1. 0.]\n"
     ]
    },
    {
     "data": {
      "image/png": "[encoded data removed]",
      "text/plain": [
       "<Figure size 432x288 with 1 Axes>"
      ]
     },
     "metadata": {},
     "output_type": "display_data"
    }
   ],
   "source": [
    "loss = CrossEntropy()\n",
    "lr = 0.1\n",
    "L_iter = []\n",
    "for iter in range(100):\n",
    "    L_acc = 0.\n",
    "    for i in range(X.shape[0]):\n",
    "        x = X[i]\n",
    "        y = Y[i]\n",
    "        y_h = net.forward(x)\n",
    "        L = loss.forward(y, y_h)\n",
    "        L_acc += L\n",
    "        dz = loss.backward(1, lr)\n",
    "        dz = net.backward(dz, lr)\n",
    "    L_iter.append(L_acc)\n",
    "plt.plot(L_iter)\n",
    "for i in range(4):\n",
    "    print(net.forward(X[i]), Y[i])"
   ]
  },
  {
   "cell_type": "markdown",
   "metadata": {},
   "source": [
    "# Тест 3 - MNIST"
   ]
  },
  {
   "cell_type": "code",
   "execution_count": 106,
   "metadata": {},
   "outputs": [
    {
     "name": "stdout",
     "output_type": "stream",
     "text": [
      "(70000, 784)\n"
     ]
    }
   ],
   "source": [
    "from sklearn.datasets import fetch_mldata\n",
    "mnist = fetch_mldata('MNIST original', data_home='./')\n",
    "X = mnist['data']\n",
    "print(X.shape)"
   ]
  },
  {
   "cell_type": "code",
   "execution_count": 107,
   "metadata": {},
   "outputs": [
    {
     "data": {
      "image/png": "[encoded data removed]",
      "text/plain": [
       "<Figure size 432x288 with 16 Axes>"
      ]
     },
     "metadata": {},
     "output_type": "display_data"
    }
   ],
   "source": [
    "n=4\n",
    "for i in range(n*n):\n",
    "    plt.subplot(n,n,i+1)\n",
    "    I = X[np.random.randint(0, X.shape[0]),:]\n",
    "    I = I.reshape((28, 28))\n",
    "    plt.imshow(I, cmap='gray')"
   ]
  },
  {
   "cell_type": "code",
   "execution_count": 108,
   "metadata": {},
   "outputs": [
    {
     "data": {
      "text/plain": [
       "[<matplotlib.lines.Line2D at 0x7f9c2ecf2e10>]"
      ]
     },
     "execution_count": 108,
     "metadata": {},
     "output_type": "execute_result"
    },
    {
     "data": {
      "image/png": "[encoded data removed]",
      "text/plain": [
       "<Figure size 432x288 with 1 Axes>"
      ]
     },
     "metadata": {},
     "output_type": "display_data"
    },
    {
     "data": {
      "image/png": "[encoded data removed]",
      "text/plain": [
       "<Figure size 432x288 with 1 Axes>"
      ]
     },
     "metadata": {},
     "output_type": "display_data"
    }
   ],
   "source": [
    "X = X.astype('float')\n",
    "Xm = np.mean(X, axis=0)\n",
    "Xs = np.std(X, axis=0)\n",
    "X=(X - Xm) / (Xs + 0.01)\n",
    "plt.imshow(Xm.reshape((28, 28)))\n",
    "plt.figure()\n",
    "plt.plot(X[0].reshape((28, 28))[14])"
   ]
  },
  {
   "cell_type": "code",
   "execution_count": 109,
   "metadata": {},
   "outputs": [
    {
     "name": "stdout",
     "output_type": "stream",
     "text": [
      "original [3. 3. 3. ... 7. 7. 7.]\n",
      "one hot [[1. 0.]\n",
      " [1. 0.]\n",
      " [1. 0.]\n",
      " ...\n",
      " [0. 1.]\n",
      " [0. 1.]\n",
      " [0. 1.]]\n"
     ]
    },
    {
     "name": "stderr",
     "output_type": "stream",
     "text": [
      "/home/roma/anaconda3/lib/python3.6/site-packages/sklearn/cross_validation.py:41: DeprecationWarning: This module was deprecated in version 0.18 in favor of the model_selection module into which all the refactored classes and functions are moved. Also note that the interface of the new CV iterators are different from that of this module. This module will be removed in 0.20.\n",
      "  \"This module will be removed in 0.20.\", DeprecationWarning)\n"
     ]
    }
   ],
   "source": [
    "from sklearn.preprocessing import OneHotEncoder\n",
    "from sklearn.cross_validation import train_test_split\n",
    "Y = mnist['target']\n",
    "\n",
    "idxs = np.where((Y == 3 ) | (Y == 7))\n",
    "\n",
    "X_n = X[idxs]\n",
    "Y_n = Y[idxs]\n",
    "\n",
    "print('original', Y_n)\n",
    "t = OneHotEncoder(sparse=False) #1->0001; 2->0010; 3->0100 ...\n",
    "Y_work = t.fit_transform(Y_n.reshape(-1, 1))\n",
    "print('one hot', Y_work)\n",
    "X_train, X_test, Y_train, Y_test = train_test_split(X_n, Y_work, test_size=0.33, stratify=Y_n)"
   ]
  },
  {
   "cell_type": "code",
   "execution_count": 110,
   "metadata": {},
   "outputs": [],
   "source": [
    "class MnistNet:\n",
    "    \n",
    "    def __init__(self, rlambda=0.0):\n",
    "        self.d = Dense(784, 2, rlambda)\n",
    "        self.m = Max()\n",
    "        self.s = Softmax()\n",
    "    \n",
    "    def forward(self, x):\n",
    "        net = self.d.forward(x)\n",
    "        net = self.m.forward(net)\n",
    "        net = self.s.forward(net)\n",
    "        return net\n",
    "    \n",
    "    def backward(self, dz, lr):\n",
    "        dz = self.s.backward(dz, lr)\n",
    "        dz = self.m.backward(dz, lr)\n",
    "        dz = self.d.backward(dz, lr)\n",
    "        return dz"
   ]
  },
  {
   "cell_type": "code",
   "execution_count": 111,
   "metadata": {},
   "outputs": [
    {
     "name": "stdout",
     "output_type": "stream",
     "text": [
      "0 iter loss. Train : 0.08838078074966976 . Test : 0.06407965658201441\n",
      "1 iter loss. Train : 0.044074752426509364 . Test : 0.05397544643480478\n",
      "2 iter loss. Train : 0.03684506072094384 . Test : 0.05015796022012381\n",
      "3 iter loss. Train : 0.033274575772317974 . Test : 0.04666727528038515\n",
      "4 iter loss. Train : 0.03015751454545467 . Test : 0.04524505552545892\n",
      "5 iter loss. Train : 0.028513296216554393 . Test : 0.04459973925131663\n",
      "6 iter loss. Train : 0.02706167133300219 . Test : 0.0426850100079871\n",
      "7 iter loss. Train : 0.025630584712663593 . Test : 0.042249885779198935\n",
      "8 iter loss. Train : 0.024386637715221527 . Test : 0.04220428592755133\n",
      "9 iter loss. Train : 0.02333344775310628 . Test : 0.041000449791556835\n",
      "10 iter loss. Train : 0.02281167010710972 . Test : 0.04150806799474859\n",
      "11 iter loss. Train : 0.02196558632445009 . Test : 0.04107056482806808\n",
      "12 iter loss. Train : 0.021403490291127807 . Test : 0.04058174716649379\n",
      "13 iter loss. Train : 0.02076050155483449 . Test : 0.041068975608657486\n",
      "14 iter loss. Train : 0.020299021241399134 . Test : 0.03962201982309109\n",
      "15 iter loss. Train : 0.019563917424875194 . Test : 0.03976211505489539\n",
      "16 iter loss. Train : 0.01936213430136528 . Test : 0.04034775342609839\n",
      "17 iter loss. Train : 0.018803452451526544 . Test : 0.03945065365953867\n",
      "18 iter loss. Train : 0.018498670167258948 . Test : 0.03968579898798949\n",
      "19 iter loss. Train : 0.017954078107108286 . Test : 0.039539639979033196\n",
      "20 iter loss. Train : 0.017486846642496338 . Test : 0.03966417574893886\n",
      "21 iter loss. Train : 0.017181684119857207 . Test : 0.040274607209097715\n",
      "22 iter loss. Train : 0.017088329443549252 . Test : 0.04000820547651569\n",
      "23 iter loss. Train : 0.01655194774857193 . Test : 0.03945046526454092\n",
      "24 iter loss. Train : 0.01625348021003617 . Test : 0.040023996098607316\n",
      "25 iter loss. Train : 0.015964006973769616 . Test : 0.04006584392542648\n",
      "26 iter loss. Train : 0.015734007872755824 . Test : 0.03989342462573953\n",
      "27 iter loss. Train : 0.015356868036454419 . Test : 0.04046410384052311\n",
      "28 iter loss. Train : 0.015145329434078737 . Test : 0.03999340744045536\n",
      "29 iter loss. Train : 0.014938015729881543 . Test : 0.04025870696388036\n",
      "30 iter loss. Train : 0.014709328129482302 . Test : 0.039699631182616456\n",
      "31 iter loss. Train : 0.01457156105793824 . Test : 0.0405771920510554\n",
      "32 iter loss. Train : 0.014396959746849115 . Test : 0.04014237067350498\n",
      "33 iter loss. Train : 0.014052064821546535 . Test : 0.04069306139150939\n",
      "34 iter loss. Train : 0.013874158156947243 . Test : 0.04029595371008007\n",
      "35 iter loss. Train : 0.013732343739602776 . Test : 0.04027212748562158\n",
      "36 iter loss. Train : 0.01358680603742002 . Test : 0.040589762649216245\n",
      "37 iter loss. Train : 0.01343700496779958 . Test : 0.040207013635789025\n",
      "38 iter loss. Train : 0.013362428195666395 . Test : 0.040038900679067894\n",
      "39 iter loss. Train : 0.013152120828868843 . Test : 0.04026090054925981\n",
      "40 iter loss. Train : 0.012992977407279144 . Test : 0.04028467285545037\n",
      "41 iter loss. Train : 0.012760450237561262 . Test : 0.039989701520838285\n",
      "42 iter loss. Train : 0.012639617627586981 . Test : 0.04082412322135538\n",
      "43 iter loss. Train : 0.012513068631304372 . Test : 0.04019587062000213\n",
      "44 iter loss. Train : 0.012336583673667698 . Test : 0.040043773181461406\n",
      "45 iter loss. Train : 0.01219285096063963 . Test : 0.04057611628642514\n",
      "46 iter loss. Train : 0.012086287673466468 . Test : 0.040099254509011056\n",
      "47 iter loss. Train : 0.011955983944030456 . Test : 0.039921674989029154\n",
      "48 iter loss. Train : 0.0118932469390629 . Test : 0.03985184972946949\n",
      "49 iter loss. Train : 0.011706311927114913 . Test : 0.0403947248649019\n",
      "50 iter loss. Train : 0.011616171170096773 . Test : 0.04041730944138866\n",
      "51 iter loss. Train : 0.011468305602625701 . Test : 0.04061812369816324\n",
      "52 iter loss. Train : 0.011428716663423377 . Test : 0.04050257129031652\n",
      "53 iter loss. Train : 0.0112826505369105 . Test : 0.04073256260724308\n",
      "54 iter loss. Train : 0.01124612464410718 . Test : 0.040414805401003576\n",
      "55 iter loss. Train : 0.011165795205616662 . Test : 0.04069135009516757\n",
      "56 iter loss. Train : 0.011034993590553873 . Test : 0.04013750367957833\n",
      "57 iter loss. Train : 0.010963712771395618 . Test : 0.04034396875011903\n",
      "58 iter loss. Train : 0.010904096032312079 . Test : 0.04087528507835313\n",
      "59 iter loss. Train : 0.010785173391788685 . Test : 0.0410242589136822\n",
      "60 iter loss. Train : 0.010658852867628783 . Test : 0.04065567417788183\n",
      "61 iter loss. Train : 0.01061404076246562 . Test : 0.0407610783884566\n",
      "62 iter loss. Train : 0.01057496031038242 . Test : 0.04102551067520977\n",
      "63 iter loss. Train : 0.010457614535598618 . Test : 0.04066897785467283\n",
      "64 iter loss. Train : 0.010406687556213651 . Test : 0.04116445205253701\n",
      "65 iter loss. Train : 0.010341480882578398 . Test : 0.041008062774751185\n",
      "66 iter loss. Train : 0.010296532088973695 . Test : 0.040957571470537545\n",
      "67 iter loss. Train : 0.010227268628687761 . Test : 0.04122909832845014\n",
      "68 iter loss. Train : 0.010155077040989563 . Test : 0.041235696813519115\n",
      "69 iter loss. Train : 0.010081247583319982 . Test : 0.04094026560153211\n",
      "70 iter loss. Train : 0.009991771542007524 . Test : 0.041382451315822924\n",
      "71 iter loss. Train : 0.00990193664351805 . Test : 0.041284311103119406\n",
      "72 iter loss. Train : 0.009912687232091972 . Test : 0.041713261026562136\n",
      "73 iter loss. Train : 0.009846124915733188 . Test : 0.04169032808008811\n",
      "74 iter loss. Train : 0.009744588092542894 . Test : 0.041515384995214344\n",
      "75 iter loss. Train : 0.009717498598273866 . Test : 0.041471314615222674\n",
      "76 iter loss. Train : 0.009632711528232989 . Test : 0.04142106783808449\n",
      "77 iter loss. Train : 0.009662932188404298 . Test : 0.04095092415928981\n",
      "78 iter loss. Train : 0.009587183095798368 . Test : 0.041199680579517\n",
      "79 iter loss. Train : 0.009547334565538784 . Test : 0.041227343771769384\n",
      "80 iter loss. Train : 0.009459230622870385 . Test : 0.04109250378023501\n",
      "81 iter loss. Train : 0.009493898499326824 . Test : 0.04139536326779121\n",
      "82 iter loss. Train : 0.009410462341347507 . Test : 0.041517692154797\n",
      "83 iter loss. Train : 0.00931207696624449 . Test : 0.04158978153566226\n",
      "84 iter loss. Train : 0.00924662046875034 . Test : 0.04118491970867035\n",
      "85 iter loss. Train : 0.009221462226325817 . Test : 0.04159801355751413\n",
      "86 iter loss. Train : 0.009204303527310578 . Test : 0.041497203837328155\n",
      "87 iter loss. Train : 0.009123192250416787 . Test : 0.041635342366657044\n",
      "88 iter loss. Train : 0.00910573066224475 . Test : 0.04169239653131687\n",
      "89 iter loss. Train : 0.009081753939828586 . Test : 0.04163322340600514\n",
      "90 iter loss. Train : 0.008976761076650465 . Test : 0.04194684070558373\n",
      "91 iter loss. Train : 0.008951105761496568 . Test : 0.04242460851985745\n",
      "92 iter loss. Train : 0.008901198660540776 . Test : 0.041772163562530544\n",
      "93 iter loss. Train : 0.0088422875794576 . Test : 0.04180623725332066\n",
      "94 iter loss. Train : 0.008781984141614541 . Test : 0.04236376244550977\n",
      "95 iter loss. Train : 0.008780877376753888 . Test : 0.04224324768903599\n",
      "96 iter loss. Train : 0.00872715987811397 . Test : 0.04194560583614089\n",
      "97 iter loss. Train : 0.00870684775194229 . Test : 0.04198713409585247\n",
      "98 iter loss. Train : 0.008677406672138479 . Test : 0.04179246306371542\n",
      "99 iter loss. Train : 0.008642060343928825 . Test : 0.041793940085737245\n",
      "100 iter loss. Train : 0.008573237699353854 . Test : 0.0421043693997977\n",
      "101 iter loss. Train : 0.008548525982865233 . Test : 0.04200009186039304\n",
      "102 iter loss. Train : 0.008501422535616195 . Test : 0.04206498524099762\n",
      "103 iter loss. Train : 0.008506920498240776 . Test : 0.04209725150655896\n",
      "104 iter loss. Train : 0.008449565710468739 . Test : 0.042168745410942746\n",
      "105 iter loss. Train : 0.00838619998818471 . Test : 0.042512138414522005\n",
      "106 iter loss. Train : 0.008367799327233421 . Test : 0.04247478032894765\n",
      "107 iter loss. Train : 0.008384176716367162 . Test : 0.0424508100295523\n",
      "108 iter loss. Train : 0.008308667538945871 . Test : 0.042535741022546335\n",
      "109 iter loss. Train : 0.008308278351658864 . Test : 0.04240139412142382\n",
      "110 iter loss. Train : 0.008245543898399155 . Test : 0.04262112853924895\n",
      "111 iter loss. Train : 0.008182788484935616 . Test : 0.042975524303821115\n",
      "112 iter loss. Train : 0.008208137346252904 . Test : 0.04243859826684455\n",
      "113 iter loss. Train : 0.008148942545723863 . Test : 0.04256923601185143\n",
      "114 iter loss. Train : 0.00814271030125435 . Test : 0.04277098804151093\n",
      "115 iter loss. Train : 0.008122703248054464 . Test : 0.042441567113791205\n",
      "116 iter loss. Train : 0.008054285017085707 . Test : 0.04256652806533081\n",
      "117 iter loss. Train : 0.008048409386177341 . Test : 0.04243440695133631\n",
      "118 iter loss. Train : 0.008039323123111074 . Test : 0.04250228566103754\n",
      "119 iter loss. Train : 0.008020463582031522 . Test : 0.04253496427136414\n",
      "120 iter loss. Train : 0.00800798944321626 . Test : 0.043016271929522135\n",
      "121 iter loss. Train : 0.007936393405801337 . Test : 0.04273283039785871\n",
      "122 iter loss. Train : 0.007991980938931496 . Test : 0.04302393273449695\n",
      "123 iter loss. Train : 0.00798127678562843 . Test : 0.04244381662024975\n",
      "124 iter loss. Train : 0.007934999144807367 . Test : 0.04240815275601006\n",
      "125 iter loss. Train : 0.007890047703465136 . Test : 0.04254063734901826\n",
      "126 iter loss. Train : 0.007818940025583167 . Test : 0.04250210639470651\n",
      "127 iter loss. Train : 0.007813875229686195 . Test : 0.0428226893993517\n",
      "128 iter loss. Train : 0.007800700841718112 . Test : 0.04291871759575109\n",
      "129 iter loss. Train : 0.007776901597987115 . Test : 0.042899551238796456\n",
      "130 iter loss. Train : 0.007752550380954338 . Test : 0.04319601326774156\n",
      "131 iter loss. Train : 0.007741193894977628 . Test : 0.04294365834825102\n",
      "132 iter loss. Train : 0.00772807406718602 . Test : 0.04285068365467069\n",
      "133 iter loss. Train : 0.007693988742177 . Test : 0.043095802222592294\n",
      "134 iter loss. Train : 0.0076534208559366265 . Test : 0.04321900524690176\n",
      "135 iter loss. Train : 0.0076616327361218916 . Test : 0.043411042362767834\n",
      "136 iter loss. Train : 0.007641452828583274 . Test : 0.043180888627332326\n",
      "137 iter loss. Train : 0.007628304838138808 . Test : 0.04324796873463419\n",
      "138 iter loss. Train : 0.007574657691809703 . Test : 0.04341127939833109\n",
      "139 iter loss. Train : 0.0075705765945151245 . Test : 0.04333112987683415\n",
      "140 iter loss. Train : 0.007568811386453884 . Test : 0.04310707572683086\n",
      "141 iter loss. Train : 0.0075505621565504786 . Test : 0.04333116443956669\n",
      "142 iter loss. Train : 0.007526692273615402 . Test : 0.04314139981869667\n",
      "143 iter loss. Train : 0.0074994732781307714 . Test : 0.0432180555238155\n",
      "144 iter loss. Train : 0.007490144709261316 . Test : 0.04311513698744998\n",
      "145 iter loss. Train : 0.0074478201758721415 . Test : 0.04336136788961861\n",
      "146 iter loss. Train : 0.007458739784722515 . Test : 0.043774673937993905\n",
      "147 iter loss. Train : 0.007452672259325664 . Test : 0.043704975628860984\n",
      "148 iter loss. Train : 0.007418523093278243 . Test : 0.04352371605357309\n",
      "149 iter loss. Train : 0.007412481675623542 . Test : 0.04354448098986854\n",
      "150 iter loss. Train : 0.007375585056129468 . Test : 0.04327348321619292\n",
      "151 iter loss. Train : 0.007391968799926403 . Test : 0.04350724190651339\n",
      "152 iter loss. Train : 0.007339058258300418 . Test : 0.04370258900366124\n",
      "153 iter loss. Train : 0.007355635097154729 . Test : 0.04371361922411866\n",
      "154 iter loss. Train : 0.007339515402423761 . Test : 0.04365828339129194\n",
      "155 iter loss. Train : 0.0073244329555783565 . Test : 0.04411747178366413\n",
      "156 iter loss. Train : 0.007423608932068387 . Test : 0.04340500307601153\n",
      "157 iter loss. Train : 0.007392226887615583 . Test : 0.04329480501978812\n",
      "158 iter loss. Train : 0.007350210968403014 . Test : 0.043202932947595266\n",
      "159 iter loss. Train : 0.007320105898787614 . Test : 0.043577439590890506\n",
      "160 iter loss. Train : 0.007311525765364621 . Test : 0.04334691658746278\n",
      "161 iter loss. Train : 0.007331508187356838 . Test : 0.04364914284490761\n",
      "162 iter loss. Train : 0.007302610967794247 . Test : 0.04348543983258598\n",
      "163 iter loss. Train : 0.007263906119498049 . Test : 0.0436354844380896\n",
      "164 iter loss. Train : 0.007244099582553573 . Test : 0.043244602063621296\n",
      "165 iter loss. Train : 0.007195528912422282 . Test : 0.04334140917043297\n",
      "166 iter loss. Train : 0.007210457866829773 . Test : 0.043592416386571645\n",
      "167 iter loss. Train : 0.007173406645976278 . Test : 0.04348355204278348\n",
      "168 iter loss. Train : 0.007127679887141833 . Test : 0.04347006279907019\n",
      "169 iter loss. Train : 0.007130549600673752 . Test : 0.0435249493562907\n",
      "170 iter loss. Train : 0.007127568025473217 . Test : 0.043732901762709525\n",
      "171 iter loss. Train : 0.0071173475784667845 . Test : 0.04384711267798204\n",
      "172 iter loss. Train : 0.0070935322590425865 . Test : 0.043872829151012545\n",
      "173 iter loss. Train : 0.007056461809399211 . Test : 0.04421076716061455\n",
      "174 iter loss. Train : 0.0070904723164816425 . Test : 0.04362181293485885\n",
      "175 iter loss. Train : 0.007082454257554232 . Test : 0.043506586462402574\n",
      "176 iter loss. Train : 0.007051945414470247 . Test : 0.0438084563732935\n",
      "177 iter loss. Train : 0.007039671232005524 . Test : 0.04400394492738406\n",
      "178 iter loss. Train : 0.007051522872236837 . Test : 0.04397436156862748\n",
      "179 iter loss. Train : 0.0070210384226820945 . Test : 0.043958542798657615\n",
      "180 iter loss. Train : 0.006995550803764441 . Test : 0.04392756698599848\n",
      "181 iter loss. Train : 0.007013368579435016 . Test : 0.04408611783339533\n",
      "182 iter loss. Train : 0.006965398996985348 . Test : 0.044168262298511916\n",
      "183 iter loss. Train : 0.00696082399222257 . Test : 0.044129642717964\n",
      "184 iter loss. Train : 0.006953748666791923 . Test : 0.04424601928012814\n",
      "185 iter loss. Train : 0.0069394185347732805 . Test : 0.04416284482938444\n",
      "186 iter loss. Train : 0.0069136744097050866 . Test : 0.044386232573663045\n",
      "187 iter loss. Train : 0.006934167211613669 . Test : 0.04437783048663789\n",
      "188 iter loss. Train : 0.006892601143665601 . Test : 0.04437249653580587\n",
      "189 iter loss. Train : 0.006895439025638982 . Test : 0.04439396020410906\n",
      "190 iter loss. Train : 0.006877090545280451 . Test : 0.044552658937546834\n",
      "191 iter loss. Train : 0.006852692908550559 . Test : 0.04481708385059919\n",
      "192 iter loss. Train : 0.006859920826543511 . Test : 0.04505465331416255\n",
      "193 iter loss. Train : 0.006863176248671697 . Test : 0.04469936897291219\n",
      "194 iter loss. Train : 0.006839991519236766 . Test : 0.04479671997771454\n",
      "195 iter loss. Train : 0.006819824835435546 . Test : 0.04477246393042764\n",
      "196 iter loss. Train : 0.006795074617056005 . Test : 0.04471392896610538\n",
      "197 iter loss. Train : 0.006804772461079335 . Test : 0.044904403064399336\n",
      "198 iter loss. Train : 0.006804565111635948 . Test : 0.04467883027592252\n",
      "199 iter loss. Train : 0.0067882580891019725 . Test : 0.04462813984493814\n",
      "200 iter loss. Train : 0.006784563090813203 . Test : 0.044788008052134974\n",
      "201 iter loss. Train : 0.006751387973186142 . Test : 0.044806356884650386\n",
      "202 iter loss. Train : 0.0067834475486063936 . Test : 0.04456933762496943\n",
      "203 iter loss. Train : 0.006754972653527905 . Test : 0.04476586444904682\n",
      "204 iter loss. Train : 0.006741819152177259 . Test : 0.044555834783345745\n",
      "205 iter loss. Train : 0.006741400013476166 . Test : 0.04456226780769932\n",
      "206 iter loss. Train : 0.006725936002650481 . Test : 0.04453754971966901\n",
      "207 iter loss. Train : 0.0067260952793732915 . Test : 0.04458635130114255\n",
      "208 iter loss. Train : 0.006702304712527747 . Test : 0.04482707747224214\n",
      "209 iter loss. Train : 0.006713493787860367 . Test : 0.04458670747496745\n",
      "210 iter loss. Train : 0.006708145290552588 . Test : 0.04465965297635306\n",
      "211 iter loss. Train : 0.006686213199442226 . Test : 0.044939418468864505\n",
      "212 iter loss. Train : 0.006677774327651176 . Test : 0.044712599145436474\n",
      "213 iter loss. Train : 0.006666085712520377 . Test : 0.04487628490553401\n",
      "214 iter loss. Train : 0.006656829934166644 . Test : 0.04518919727043351\n",
      "215 iter loss. Train : 0.006673960781084258 . Test : 0.044911990138732864\n",
      "216 iter loss. Train : 0.006664161269009897 . Test : 0.045067165528450026\n",
      "217 iter loss. Train : 0.006642208204964526 . Test : 0.04510859821756438\n",
      "218 iter loss. Train : 0.006623605742646185 . Test : 0.04498432802730435\n",
      "219 iter loss. Train : 0.006623763820473359 . Test : 0.04523289864807394\n",
      "220 iter loss. Train : 0.006616437605231699 . Test : 0.04523132222325173\n",
      "221 iter loss. Train : 0.006588659455116155 . Test : 0.04523914884486119\n",
      "222 iter loss. Train : 0.006622007272300604 . Test : 0.04515717581223398\n",
      "223 iter loss. Train : 0.00659110947971187 . Test : 0.0452576560543942\n",
      "224 iter loss. Train : 0.006606780046470656 . Test : 0.04520166685484592\n",
      "225 iter loss. Train : 0.0065825427356922825 . Test : 0.04523816813516473\n",
      "226 iter loss. Train : 0.006587865140659765 . Test : 0.04512415394393687\n",
      "227 iter loss. Train : 0.0065601741098087205 . Test : 0.04558417045751986\n",
      "228 iter loss. Train : 0.006564224560510913 . Test : 0.045595988348593304\n",
      "229 iter loss. Train : 0.006601942356717564 . Test : 0.0451158600689751\n",
      "230 iter loss. Train : 0.006576328117657354 . Test : 0.045054660408247814\n",
      "231 iter loss. Train : 0.006557603251976641 . Test : 0.04523850673567125\n",
      "232 iter loss. Train : 0.006541204747135962 . Test : 0.04519521655831663\n",
      "233 iter loss. Train : 0.006528524504839943 . Test : 0.045173510563528606\n",
      "234 iter loss. Train : 0.0065213942446263815 . Test : 0.04544506750663657\n",
      "235 iter loss. Train : 0.006522831487265816 . Test : 0.0454008034561711\n",
      "236 iter loss. Train : 0.006517163822507471 . Test : 0.04547509895780601\n",
      "237 iter loss. Train : 0.006507154517533522 . Test : 0.045621292579261216\n",
      "238 iter loss. Train : 0.006514714681627392 . Test : 0.045331407171620826\n",
      "239 iter loss. Train : 0.0064974404741473275 . Test : 0.045392529583215054\n",
      "240 iter loss. Train : 0.00649614384454179 . Test : 0.04530018439636034\n",
      "241 iter loss. Train : 0.0064957973710526706 . Test : 0.04509920924284874\n",
      "242 iter loss. Train : 0.006488162779860331 . Test : 0.04507564421720623\n",
      "243 iter loss. Train : 0.006479429678173483 . Test : 0.04498853988742922\n",
      "244 iter loss. Train : 0.006463387016386635 . Test : 0.04521673210777804\n",
      "245 iter loss. Train : 0.006478616266447298 . Test : 0.045640202508601124\n",
      "246 iter loss. Train : 0.006457189371116625 . Test : 0.045504235843769746\n",
      "247 iter loss. Train : 0.0064594054309451525 . Test : 0.045484239717683415\n",
      "248 iter loss. Train : 0.006451122755194118 . Test : 0.045141063721469754\n",
      "249 iter loss. Train : 0.006444532060549191 . Test : 0.04534596250794225\n",
      "250 iter loss. Train : 0.006459606595404171 . Test : 0.04546133468420365\n",
      "251 iter loss. Train : 0.006427632489686421 . Test : 0.04557961083636434\n",
      "252 iter loss. Train : 0.006437653311906911 . Test : 0.04564438140044706\n",
      "253 iter loss. Train : 0.006415763492197335 . Test : 0.04555812385552664\n",
      "254 iter loss. Train : 0.006419093752038509 . Test : 0.0456812038509443\n",
      "255 iter loss. Train : 0.006420704690893916 . Test : 0.045457342012812\n",
      "256 iter loss. Train : 0.006402751097515637 . Test : 0.04575113441306815\n",
      "257 iter loss. Train : 0.006395078494658143 . Test : 0.04575909686061917\n",
      "258 iter loss. Train : 0.006391910821125334 . Test : 0.0457059707996358\n",
      "259 iter loss. Train : 0.006393894033920366 . Test : 0.04589772902308968\n",
      "260 iter loss. Train : 0.0064083949670480245 . Test : 0.045659067947411563\n",
      "261 iter loss. Train : 0.0063993663885506214 . Test : 0.045705733663901515\n",
      "262 iter loss. Train : 0.00638337348095624 . Test : 0.045861797058184536\n",
      "263 iter loss. Train : 0.0063646921704760126 . Test : 0.04585754436110215\n",
      "264 iter loss. Train : 0.0063784571203585345 . Test : 0.045902474218158754\n",
      "265 iter loss. Train : 0.006378998709554455 . Test : 0.04566946658345668\n",
      "266 iter loss. Train : 0.006359116742776663 . Test : 0.04579768945716171\n",
      "267 iter loss. Train : 0.006361410318046604 . Test : 0.04584956503020227\n",
      "268 iter loss. Train : 0.006351976682422304 . Test : 0.04579612879693626\n",
      "269 iter loss. Train : 0.0063594502063148255 . Test : 0.04589256733328735\n",
      "270 iter loss. Train : 0.00634630303592583 . Test : 0.04600758572306925\n",
      "271 iter loss. Train : 0.006333482398652199 . Test : 0.04580379260711056\n",
      "272 iter loss. Train : 0.006351310862011274 . Test : 0.04612376551565583\n",
      "273 iter loss. Train : 0.006330752554498402 . Test : 0.04611988522296438\n",
      "274 iter loss. Train : 0.006329717325228537 . Test : 0.0460726972868048\n",
      "275 iter loss. Train : 0.006318829797434927 . Test : 0.046168008174157636\n",
      "276 iter loss. Train : 0.006337041964744181 . Test : 0.04609440614431788\n",
      "277 iter loss. Train : 0.006317278833426252 . Test : 0.0463125267919399\n",
      "278 iter loss. Train : 0.006302515481296476 . Test : 0.04575518102727676\n",
      "279 iter loss. Train : 0.006315334295157159 . Test : 0.045537976551445286\n",
      "280 iter loss. Train : 0.0063186152982935406 . Test : 0.04574323870155394\n",
      "281 iter loss. Train : 0.006321189894821 . Test : 0.04595064251737809\n",
      "282 iter loss. Train : 0.006299415258154352 . Test : 0.04585698243897681\n",
      "283 iter loss. Train : 0.006284034729818148 . Test : 0.045652868214436884\n",
      "284 iter loss. Train : 0.006292242906047481 . Test : 0.04586549861393845\n",
      "285 iter loss. Train : 0.006283391387538009 . Test : 0.045985968787667114\n",
      "286 iter loss. Train : 0.006297236778982856 . Test : 0.045881640294176525\n",
      "287 iter loss. Train : 0.00627381113280449 . Test : 0.04590739240098473\n",
      "288 iter loss. Train : 0.006281351962679586 . Test : 0.04628432355242474\n",
      "289 iter loss. Train : 0.006277367333983634 . Test : 0.04629101471310319\n",
      "290 iter loss. Train : 0.006271949079935107 . Test : 0.04611852626052907\n",
      "291 iter loss. Train : 0.006259226009605749 . Test : 0.046298264387541144\n",
      "292 iter loss. Train : 0.0062733787664064344 . Test : 0.04607684216584133\n",
      "293 iter loss. Train : 0.006257032049607598 . Test : 0.046120866755528823\n",
      "294 iter loss. Train : 0.006251310605283284 . Test : 0.04599994956750805\n",
      "295 iter loss. Train : 0.006252389339408644 . Test : 0.04607127668157075\n",
      "296 iter loss. Train : 0.0063246522418543855 . Test : 0.046296587881044474\n",
      "297 iter loss. Train : 0.0062939096138065805 . Test : 0.04582624298108095\n",
      "298 iter loss. Train : 0.006259271029329017 . Test : 0.045770729142098024\n",
      "299 iter loss. Train : 0.006243394007477011 . Test : 0.04586504992801073\n",
      "300 iter loss. Train : 0.006224137959282463 . Test : 0.045853964811637414\n",
      "301 iter loss. Train : 0.0062239029945564935 . Test : 0.045851364939288694\n",
      "302 iter loss. Train : 0.006238991785852103 . Test : 0.046175448313899685\n",
      "303 iter loss. Train : 0.006225995590648915 . Test : 0.04629779027547866\n",
      "304 iter loss. Train : 0.006219947045829751 . Test : 0.046346528094319446\n",
      "305 iter loss. Train : 0.006211270298671576 . Test : 0.046449856759268514\n",
      "306 iter loss. Train : 0.006216444959592557 . Test : 0.04613681942522961\n",
      "307 iter loss. Train : 0.006220268316276802 . Test : 0.046152867091846\n",
      "308 iter loss. Train : 0.006197340253954251 . Test : 0.0462302099112155\n",
      "309 iter loss. Train : 0.006194847149254591 . Test : 0.04657132787039111\n",
      "310 iter loss. Train : 0.006195439942415451 . Test : 0.04651722484199462\n",
      "311 iter loss. Train : 0.0061897734063952915 . Test : 0.046465559067720055\n",
      "312 iter loss. Train : 0.006182545206092056 . Test : 0.04633743273327201\n",
      "313 iter loss. Train : 0.006154333447072207 . Test : 0.04650789091363358\n",
      "314 iter loss. Train : 0.006164831993200979 . Test : 0.04650816855279508\n",
      "315 iter loss. Train : 0.006158548121191888 . Test : 0.046678119985686155\n",
      "316 iter loss. Train : 0.006157645157915971 . Test : 0.046330954377711835\n",
      "317 iter loss. Train : 0.006146292219761958 . Test : 0.046639259615964684\n",
      "318 iter loss. Train : 0.006142151433059903 . Test : 0.04701224200351115\n",
      "319 iter loss. Train : 0.006151237415226197 . Test : 0.046736923067461925\n",
      "320 iter loss. Train : 0.006140008465170169 . Test : 0.04669088015122078\n",
      "321 iter loss. Train : 0.006130326974035181 . Test : 0.04689363160814511\n",
      "322 iter loss. Train : 0.006133691762285179 . Test : 0.046682127744786805\n",
      "323 iter loss. Train : 0.006116739344623686 . Test : 0.046162760996260786\n",
      "324 iter loss. Train : 0.006130864876842952 . Test : 0.046411273998461566\n",
      "325 iter loss. Train : 0.006122424628352203 . Test : 0.0463883855120185\n",
      "326 iter loss. Train : 0.006115324249690704 . Test : 0.046357508353881784\n",
      "327 iter loss. Train : 0.006106549318609401 . Test : 0.04639515337345568\n",
      "328 iter loss. Train : 0.006112395901086508 . Test : 0.0467037874609168\n",
      "329 iter loss. Train : 0.006097121120266801 . Test : 0.046611457207190655\n",
      "330 iter loss. Train : 0.00610853453610218 . Test : 0.046692819863860084\n",
      "331 iter loss. Train : 0.006113238747871003 . Test : 0.0462992870934056\n",
      "332 iter loss. Train : 0.006095155666469768 . Test : 0.04642954443675772\n",
      "333 iter loss. Train : 0.006092069431676206 . Test : 0.04667856325587218\n",
      "334 iter loss. Train : 0.006088159776108568 . Test : 0.04652422312993465\n",
      "335 iter loss. Train : 0.006079080070869162 . Test : 0.04663514037540809\n",
      "336 iter loss. Train : 0.006078697797388882 . Test : 0.04673068396646422\n",
      "337 iter loss. Train : 0.00608898781848298 . Test : 0.04681097559758287\n",
      "338 iter loss. Train : 0.006087029789480891 . Test : 0.04658519073315259\n",
      "339 iter loss. Train : 0.006075532617463578 . Test : 0.046676233779718405\n",
      "340 iter loss. Train : 0.00606376500751823 . Test : 0.0467204994349765\n",
      "341 iter loss. Train : 0.00607390231446337 . Test : 0.04672827362459293\n",
      "342 iter loss. Train : 0.006053729222262734 . Test : 0.0469428862126066\n",
      "343 iter loss. Train : 0.006065172935390869 . Test : 0.04734205427076904\n",
      "344 iter loss. Train : 0.00607001442261243 . Test : 0.04707478980654161\n",
      "345 iter loss. Train : 0.006066367560626975 . Test : 0.047168111814097295\n",
      "346 iter loss. Train : 0.006070251037381531 . Test : 0.04685029985098201\n",
      "347 iter loss. Train : 0.0060381107747575465 . Test : 0.04708657716801452\n",
      "348 iter loss. Train : 0.0060476307929387026 . Test : 0.04722637335340256\n",
      "349 iter loss. Train : 0.006040886120461482 . Test : 0.04751647150196814\n",
      "350 iter loss. Train : 0.006052709360087592 . Test : 0.04713450350385526\n",
      "351 iter loss. Train : 0.006047246106670815 . Test : 0.0470097909842547\n",
      "352 iter loss. Train : 0.006037259807088663 . Test : 0.047016546055957724\n",
      "353 iter loss. Train : 0.00603747753553302 . Test : 0.04712585023303013\n",
      "354 iter loss. Train : 0.006128954900590959 . Test : 0.04715818290779914\n",
      "355 iter loss. Train : 0.006065833966991852 . Test : 0.046704934365655905\n",
      "356 iter loss. Train : 0.0060163994136661104 . Test : 0.0469698274532845\n",
      "357 iter loss. Train : 0.006037243497251382 . Test : 0.046770512591923115\n",
      "358 iter loss. Train : 0.006024422891087704 . Test : 0.046820046815966965\n",
      "359 iter loss. Train : 0.006022681400638334 . Test : 0.046810959199825766\n",
      "360 iter loss. Train : 0.006022357812591356 . Test : 0.04700845640783078\n",
      "361 iter loss. Train : 0.006020054410739529 . Test : 0.04712183268555706\n",
      "362 iter loss. Train : 0.006009583297728575 . Test : 0.047102573215854426\n",
      "363 iter loss. Train : 0.006022842148248605 . Test : 0.04697422074387393\n",
      "364 iter loss. Train : 0.006002022309416144 . Test : 0.04712861239758789\n",
      "365 iter loss. Train : 0.00599667934872416 . Test : 0.04721291503727094\n",
      "366 iter loss. Train : 0.006014491723735819 . Test : 0.04707002480377699\n",
      "367 iter loss. Train : 0.006002059100404968 . Test : 0.047156335577293464\n",
      "368 iter loss. Train : 0.006005377914231039 . Test : 0.04696400268899396\n",
      "369 iter loss. Train : 0.005999258633543077 . Test : 0.04711342947948934\n",
      "370 iter loss. Train : 0.006002389989597821 . Test : 0.047250572155369625\n",
      "371 iter loss. Train : 0.00599026535146986 . Test : 0.047147612286078215\n",
      "372 iter loss. Train : 0.005978214816895348 . Test : 0.04700621521353822\n",
      "373 iter loss. Train : 0.006005891134195308 . Test : 0.04683270420323301\n",
      "374 iter loss. Train : 0.005997307337503169 . Test : 0.04730176375267856\n",
      "375 iter loss. Train : 0.005995649102548226 . Test : 0.04717410878012673\n",
      "376 iter loss. Train : 0.005989818715652825 . Test : 0.04706593680515504\n",
      "377 iter loss. Train : 0.005985958037706284 . Test : 0.04699253399937524\n",
      "378 iter loss. Train : 0.005975160071438361 . Test : 0.046936402375722434\n",
      "379 iter loss. Train : 0.005967200145209309 . Test : 0.047159569862221896\n",
      "380 iter loss. Train : 0.005987023962458661 . Test : 0.04691716634221112\n",
      "381 iter loss. Train : 0.0059782794921142135 . Test : 0.046735826479715574\n",
      "382 iter loss. Train : 0.0059735349350409405 . Test : 0.046846359135977365\n",
      "383 iter loss. Train : 0.005964281537470171 . Test : 0.04720096328611047\n",
      "384 iter loss. Train : 0.0059601807955439005 . Test : 0.047088333821820066\n",
      "385 iter loss. Train : 0.0059668088282627384 . Test : 0.047059829410097\n",
      "386 iter loss. Train : 0.00596748364919702 . Test : 0.047288997334841716\n",
      "387 iter loss. Train : 0.0059681974219400104 . Test : 0.047248483908908505\n",
      "388 iter loss. Train : 0.005956954521848507 . Test : 0.04757930017764917\n",
      "389 iter loss. Train : 0.005962164894893832 . Test : 0.04718236727394473\n",
      "390 iter loss. Train : 0.005961188723435604 . Test : 0.047221967434945764\n",
      "391 iter loss. Train : 0.0059440748977210595 . Test : 0.04726298426980674\n",
      "392 iter loss. Train : 0.005956981641444206 . Test : 0.0469403979886256\n",
      "393 iter loss. Train : 0.005958135612728636 . Test : 0.047284325327068166\n",
      "394 iter loss. Train : 0.005946965925003262 . Test : 0.047301200443362404\n",
      "395 iter loss. Train : 0.005940569615345485 . Test : 0.04720565115304758\n",
      "396 iter loss. Train : 0.005946831019836435 . Test : 0.04713826333544667\n",
      "397 iter loss. Train : 0.005943873901269283 . Test : 0.047447202870987214\n",
      "398 iter loss. Train : 0.00593173207616341 . Test : 0.047600552606517035\n",
      "399 iter loss. Train : 0.005941373586934264 . Test : 0.04729894666086302\n",
      "400 iter loss. Train : 0.005934850302268272 . Test : 0.04733671750721092\n",
      "401 iter loss. Train : 0.005923251621210495 . Test : 0.04743359392100179\n",
      "402 iter loss. Train : 0.005933266890852271 . Test : 0.04756981754220758\n",
      "403 iter loss. Train : 0.005939986514144374 . Test : 0.04743437848622555\n",
      "404 iter loss. Train : 0.005943431418463796 . Test : 0.04762661223686693\n",
      "405 iter loss. Train : 0.005924726752279352 . Test : 0.04760851369294258\n",
      "406 iter loss. Train : 0.005932943614183402 . Test : 0.047806115685737074\n",
      "407 iter loss. Train : 0.005928239469004294 . Test : 0.04774679164243599\n",
      "408 iter loss. Train : 0.005930759540342451 . Test : 0.047338689078662476\n",
      "409 iter loss. Train : 0.005916747497992438 . Test : 0.04748273030983272\n",
      "410 iter loss. Train : 0.005915313763263316 . Test : 0.04751890564481642\n",
      "411 iter loss. Train : 0.005908582696012347 . Test : 0.047633088226964625\n",
      "412 iter loss. Train : 0.005911804541196904 . Test : 0.04754538382124859\n",
      "413 iter loss. Train : 0.005924327979103117 . Test : 0.04760501528130885\n",
      "414 iter loss. Train : 0.005913393135332613 . Test : 0.04762474696593605\n",
      "415 iter loss. Train : 0.005898003136502413 . Test : 0.04782382609411052\n",
      "416 iter loss. Train : 0.005911055350226776 . Test : 0.04720903576357974\n",
      "417 iter loss. Train : 0.005912563431041963 . Test : 0.04726748602018207\n",
      "418 iter loss. Train : 0.005910943494032479 . Test : 0.047707353594174745\n",
      "419 iter loss. Train : 0.0059203552390005056 . Test : 0.04737596507743542\n",
      "420 iter loss. Train : 0.005913304241099631 . Test : 0.04741760882672907\n",
      "421 iter loss. Train : 0.005910524517221276 . Test : 0.0473731820397079\n",
      "422 iter loss. Train : 0.005897149904783125 . Test : 0.04733625008563002\n",
      "423 iter loss. Train : 0.005897379086184107 . Test : 0.04746277582985237\n",
      "424 iter loss. Train : 0.00590713302537315 . Test : 0.04714197329343081\n",
      "425 iter loss. Train : 0.005894848125005118 . Test : 0.04775759233553228\n",
      "426 iter loss. Train : 0.0059831145705413116 . Test : 0.047321133957286515\n",
      "427 iter loss. Train : 0.005932355292090302 . Test : 0.04700758040384153\n",
      "428 iter loss. Train : 0.005898047787515746 . Test : 0.04721664761893051\n",
      "429 iter loss. Train : 0.0058930011391479225 . Test : 0.046960024326591715\n",
      "430 iter loss. Train : 0.00588833677959216 . Test : 0.04720960504613779\n",
      "431 iter loss. Train : 0.0058841822883611205 . Test : 0.04726837573522535\n",
      "432 iter loss. Train : 0.005892712827189779 . Test : 0.04762073440010116\n",
      "433 iter loss. Train : 0.005881941332471911 . Test : 0.047433126984668166\n",
      "434 iter loss. Train : 0.005888523882261548 . Test : 0.047365211728005\n",
      "435 iter loss. Train : 0.005888688098334603 . Test : 0.047412780265411285\n",
      "436 iter loss. Train : 0.005869285388634966 . Test : 0.04731922443208614\n",
      "437 iter loss. Train : 0.0058814089868775244 . Test : 0.04725929540255239\n",
      "438 iter loss. Train : 0.005874642912348527 . Test : 0.04725360843751125\n",
      "439 iter loss. Train : 0.005881596300837666 . Test : 0.04742266334222293\n",
      "440 iter loss. Train : 0.005875255497375762 . Test : 0.047531559399175055\n",
      "441 iter loss. Train : 0.0058842020488081405 . Test : 0.04740565787305777\n",
      "442 iter loss. Train : 0.005868653854840572 . Test : 0.0475274821108348\n",
      "443 iter loss. Train : 0.005870310904606164 . Test : 0.047332555548076756\n",
      "444 iter loss. Train : 0.005860520390175505 . Test : 0.04753941055429374\n",
      "445 iter loss. Train : 0.00586809169667095 . Test : 0.04759974301849668\n",
      "446 iter loss. Train : 0.005861887185807003 . Test : 0.047648854573602274\n",
      "447 iter loss. Train : 0.005875663708020614 . Test : 0.04748621116717159\n",
      "448 iter loss. Train : 0.005866654210847208 . Test : 0.04772148027232454\n",
      "449 iter loss. Train : 0.0058591509910938915 . Test : 0.047793565309706056\n",
      "450 iter loss. Train : 0.005869820764027696 . Test : 0.047665507735527156\n",
      "451 iter loss. Train : 0.005854788405078363 . Test : 0.04772832674197034\n",
      "452 iter loss. Train : 0.0058573687677081 . Test : 0.04768214624818313\n",
      "453 iter loss. Train : 0.0058505529204089845 . Test : 0.0475695197286767\n",
      "454 iter loss. Train : 0.005869186490836049 . Test : 0.04772530543070447\n",
      "455 iter loss. Train : 0.005854716731338211 . Test : 0.047740097869724885\n",
      "456 iter loss. Train : 0.005852939265410207 . Test : 0.04748273891093931\n",
      "457 iter loss. Train : 0.005855767545539262 . Test : 0.04749560910973429\n",
      "458 iter loss. Train : 0.005852899596506416 . Test : 0.04778543918528089\n",
      "459 iter loss. Train : 0.005845966202299641 . Test : 0.04778784739167594\n",
      "460 iter loss. Train : 0.005853025768171858 . Test : 0.04769027254227497\n",
      "461 iter loss. Train : 0.0058440761794349635 . Test : 0.0477663451064733\n",
      "462 iter loss. Train : 0.00584237964956879 . Test : 0.04761743402212349\n",
      "463 iter loss. Train : 0.0058463065382543125 . Test : 0.047837248054804014\n",
      "464 iter loss. Train : 0.005852098932071433 . Test : 0.0480717659919161\n",
      "465 iter loss. Train : 0.005839691627114393 . Test : 0.047966744084086375\n",
      "466 iter loss. Train : 0.005834156760311498 . Test : 0.0479649975802351\n",
      "467 iter loss. Train : 0.005832950618674307 . Test : 0.047817405491669615\n",
      "468 iter loss. Train : 0.005866670342914694 . Test : 0.04743310747899175\n",
      "469 iter loss. Train : 0.005843557874163596 . Test : 0.04740989380306318\n",
      "470 iter loss. Train : 0.005833393428670468 . Test : 0.04719333241304019\n",
      "471 iter loss. Train : 0.005842515822975535 . Test : 0.04728803874005264\n",
      "472 iter loss. Train : 0.0058335180228358185 . Test : 0.04758193204018392\n",
      "473 iter loss. Train : 0.005826271406651482 . Test : 0.047568783649598004\n",
      "474 iter loss. Train : 0.005841202445912234 . Test : 0.047532561553154\n",
      "475 iter loss. Train : 0.005830503995458937 . Test : 0.04726991948539126\n",
      "476 iter loss. Train : 0.005828377272492617 . Test : 0.047502789250473826\n",
      "477 iter loss. Train : 0.005823805476848785 . Test : 0.0474707950636236\n",
      "478 iter loss. Train : 0.00583495094021298 . Test : 0.047568892140355916\n",
      "479 iter loss. Train : 0.005834198522887301 . Test : 0.047591919875160885\n",
      "480 iter loss. Train : 0.005831056713093395 . Test : 0.04752097378017465\n",
      "481 iter loss. Train : 0.005825573123886295 . Test : 0.04751551126019272\n",
      "482 iter loss. Train : 0.005830456463384318 . Test : 0.04755260163594821\n",
      "483 iter loss. Train : 0.005820697536475224 . Test : 0.04765462639477346\n",
      "484 iter loss. Train : 0.005817098223203192 . Test : 0.047683731857072455\n",
      "485 iter loss. Train : 0.005822316725321104 . Test : 0.04780059072170683\n",
      "486 iter loss. Train : 0.005830822499971061 . Test : 0.047654048933202\n",
      "487 iter loss. Train : 0.005814646440444471 . Test : 0.0477015234569037\n",
      "488 iter loss. Train : 0.005817992053658103 . Test : 0.0477315005784359\n",
      "489 iter loss. Train : 0.005812769472608809 . Test : 0.04761035654548455\n",
      "490 iter loss. Train : 0.005815021614590655 . Test : 0.04776952475548239\n",
      "491 iter loss. Train : 0.005814111581422748 . Test : 0.04801401271393427\n",
      "492 iter loss. Train : 0.0059166630103427 . Test : 0.04710213995826037\n",
      "493 iter loss. Train : 0.005942019620201152 . Test : 0.04667086783733869\n",
      "494 iter loss. Train : 0.005901630141553679 . Test : 0.04686219255587162\n",
      "495 iter loss. Train : 0.005897703234082365 . Test : 0.046817603624614394\n",
      "496 iter loss. Train : 0.005887804718111165 . Test : 0.0463882032490537\n",
      "497 iter loss. Train : 0.005841716315417267 . Test : 0.04654646937831344\n",
      "498 iter loss. Train : 0.005814641727230286 . Test : 0.0466177583767069\n",
      "499 iter loss. Train : 0.005815597575830679 . Test : 0.046751288061401115\n"
     ]
    }
   ],
   "source": [
    "net = MnistNet(0.0001)\n",
    "loss = CrossEntropy()\n",
    "lr = 0.001\n",
    "L_train = []\n",
    "L_test = []\n",
    "for iter in range(500):\n",
    "    L_acc = 0.\n",
    "    sh = list(range(X_train.shape[0])) # больше рандома богу рандома\n",
    "    np.random.shuffle(sh)\n",
    "    for i in range(X_train.shape[0]):\n",
    "        x = X_train[sh[i]]\n",
    "        y = Y_train[sh[i]]\n",
    "        y_h = net.forward(x)\n",
    "        L = loss.forward(y, y_h) #+ net.get_reg_loss()\n",
    "        L_acc += L \n",
    "        dz = loss.backward(1, lr)\n",
    "        dz = net.backward(dz, lr)\n",
    "    L_acc /= Y_train.shape[0]\n",
    "    L_train.append(L_acc)\n",
    "    L_e_acc = 0.\n",
    "    for i in range(X_test.shape[0]):\n",
    "        x = X_test[i]\n",
    "        y = Y_test[i]\n",
    "        y_h = net.forward(x)\n",
    "        L = loss.forward(y, y_h) #+ net.get_reg_loss()\n",
    "        L_e_acc += L\n",
    "    L_e_acc /= Y_test.shape[0]\n",
    "    L_test.append(L_e_acc)\n",
    "    print(\"{} iter loss. Train : {} . Test : {}\".format(iter, L_acc, L_e_acc))"
   ]
  },
  {
   "cell_type": "code",
   "execution_count": 114,
   "metadata": {},
   "outputs": [
    {
     "data": {
      "text/plain": [
       "<matplotlib.legend.Legend at 0x7f9c237c48d0>"
      ]
     },
     "execution_count": 114,
     "metadata": {},
     "output_type": "execute_result"
    },
    {
     "data": {
      "image/png": "[encoded data removed]",
      "text/plain": [
       "<Figure size 432x288 with 1 Axes>"
      ]
     },
     "metadata": {},
     "output_type": "display_data"
    }
   ],
   "source": [
    "plt.plot(L_train, label='train')\n",
    "plt.plot(L_test, label='test')\n",
    "plt.legend ()"
   ]
  },
  {
   "cell_type": "code",
   "execution_count": 115,
   "metadata": {},
   "outputs": [
    {
     "data": {
      "image/png": "[encoded data removed]",
      "text/plain": [
       "<Figure size 432x432 with 9 Axes>"
      ]
     },
     "metadata": {},
     "output_type": "display_data"
    }
   ],
   "source": [
    "plt.figure(figsize=(6,6))\n",
    "\n",
    "sh = list(range(X_test.shape[0]))\n",
    "np.random.shuffle(sh)\n",
    "\n",
    "n = 3\n",
    "for i in range(n*n):\n",
    "    ax = plt.subplot(n, n, i+1)\n",
    "\n",
    "    j = sh[i]\n",
    "    R = np.argmax(Y_test[j])\n",
    "    P = net.forward(X_test[j])\n",
    "    Rp = np.argmax(P)\n",
    "\n",
    "    ax.set_title('%s = %.2f R:%s' % (Rp, P[Rp], R))\n",
    "    ax.set_axis_off()\n",
    "    plt.imshow(X_test[j].reshape((28, 28)))\n"
   ]
  },
  {
   "cell_type": "code",
   "execution_count": 116,
   "metadata": {},
   "outputs": [
    {
     "data": {
      "image/png": "[encoded data removed]",
      "text/plain": [
       "<Figure size 432x432 with 2 Axes>"
      ]
     },
     "metadata": {},
     "output_type": "display_data"
    }
   ],
   "source": [
    "plt.figure(figsize=(6,6))\n",
    "\n",
    "for i in range(0, 2):\n",
    "    ax = plt.subplot(1, 2, i + 1)\n",
    "    ax.set_title('%s' % (i))\n",
    "    ax.set_axis_off()\n",
    "    plt.imshow( net.d.W[i].reshape((28, 28)).T, cmap='gray' )"
   ]
  },
  {
   "cell_type": "markdown",
   "metadata": {},
   "source": [
    "# Pytorch. Autograd.\n",
    "\n",
    "Переходим в другой ноутбук."
   ]
  },
  {
   "cell_type": "markdown",
   "metadata": {},
   "source": [
    "# Чеклист"
   ]
  },
  {
   "cell_type": "markdown",
   "metadata": {},
   "source": [
    "- устройство многослойного персептрона\n",
    "- слои: полносвязный, ReLu, Softmax, Dropout, CrossEntropy\n",
    "- chain rule\n",
    "- правило дифференцирования сложной функции\n",
    "- алгоритм обратного распространения ошибки\n",
    "- Xavier's initialization\n",
    "- почему при обучении сеть потребляет больше памяти, чем при выводе"
   ]
  },
  {
   "cell_type": "markdown",
   "metadata": {},
   "source": [
    "# Почитать"
   ]
  },
  {
   "cell_type": "markdown",
   "metadata": {},
   "source": [
    "Backprop: лекция в cs231n\n",
    "- почитать: http://cs231n.github.io/optimization-2/\n",
    "- посмотреть: https://www.youtube.com/watch?v=d14TUNcbn1k\n",
    "\n",
    "Устройство мозга\n",
    "- медицина: https://www.coursera.org/learn/medical-neuroscience\n",
    "- информатика: https://www.coursera.org/learn/computational-neuroscience\n",
    "\n",
    "Нейроморфные процессоры\n",
    "- IBM SyNAPSE chip: http://research.ibm.com/cognitive-computing/neurosynaptic-chips.shtml"
   ]
  },
  {
   "cell_type": "code",
   "execution_count": null,
   "metadata": {},
   "outputs": [],
   "source": []
  },
  {
   "cell_type": "code",
   "execution_count": null,
   "metadata": {},
   "outputs": [],
   "source": []
  },
  {
   "cell_type": "code",
   "execution_count": null,
   "metadata": {},
   "outputs": [],
   "source": []
  }
 ],
 "metadata": {
  "kernelspec": {
   "display_name": "Python 3",
   "language": "python",
   "name": "python3"
  },
  "language_info": {
   "codemirror_mode": {
    "name": "ipython",
    "version": 3
   },
   "file_extension": ".py",
   "mimetype": "text/x-python",
   "name": "python",
   "nbconvert_exporter": "python",
   "pygments_lexer": "ipython3",
   "version": "3.6.5"
  }
 },
 "nbformat": 4,
 "nbformat_minor": 2
}
