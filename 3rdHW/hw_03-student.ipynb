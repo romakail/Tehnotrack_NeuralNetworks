{
 "cells": [
  {
   "cell_type": "markdown",
   "metadata": {},
   "source": [
    "# Домашнее задание №3\n",
    "Домашнее задание включает в себя следующие пункты:\n",
    "1. Написать собственную свертку\n",
    "2. Написать модуль батч нормализации для картинок\n",
    "3. Написать модули для оптимизации SGD+momentum, RMSProp, Adam\n",
    "4. Построить графики и обучения и сделать выводы по сравнению обучения, c различными гиперпараметрами (коэффициент обучения и betas)\n",
    "    * SGD, SGD+momentum, Adam\n",
    "    \n",
    "За все три задания 1 бал, срок выполнения 2 недели, после 0.5 бала."
   ]
  },
  {
   "cell_type": "markdown",
   "metadata": {},
   "source": [
    "# 1. Реализация собственной свертки\n",
    "В этом пункте Вам нужно реализовать модуль необучаемой свертки 2D. Используем только библиотеку pytorch. Получаем на вход тензор размером $(B, C_{in}, H, W)$, на выходе получаем тензор $(B, C_{out}, H_{out}, W_{out})$.\n",
    "$$\n",
    "B \\ - \\ размерность\\ батча. \\\\\n",
    "H - высота. \\\\\n",
    "W - ширина. \\\\\n",
    "С - количество\\ каналов \\\\\n",
    "$$\n",
    "Реализуем операцию свертки:\n",
    "$$\n",
    "\\begin{equation*}\n",
    "\\text{out}(B_i, C_{out_j}) = \\text{bias}(C_{out_j}) +\n",
    "                        \\sum_{k = 0}^{C_{in} - 1} \\text{kernel}(C_{out_j}, k) \\star \\text{x}(B_i, k)\n",
    "\\end{equation*},\n",
    "$$\n",
    "\n",
    "где $\\large k $ - ядро свертки, с парамерами $C_{in}, H_k, W_k, stride_{H,W}, padding_{H,W}  $.\n",
    "\n",
    "Формулы расчета размера выходной картинки\n",
    "$$\n",
    "\\begin{align}\\begin{aligned}H_{out} = \\left\\lfloor\\frac{H_{in}  + 2 \\times \\text{padding}_H- \\text{kernel_size}_H}{\\text{stride}_H} + 1\\right\\rfloor\\\\W_{out} = \\left\\lfloor\\frac{W_{in}  + 2 \\times \\text{padding}_W - \\text{kernel_size}_W}{\\text{stride}_W} + 1\\right\\rfloor\\end{aligned}\\end{align}\n",
    "$$\n",
    "Графическое представление 2D свертки\n",
    "### Представление свертки\n",
    "Параметры: kernel=3x3, padding=0,0\n",
    "<img src=\"./imgs/18.jpg\">\n",
    "\n",
    "### Stride\n",
    "Параметры: kernel=2x2, padding=0,0, stride=2,2\n",
    "<img src=\"./imgs/22.gif\" width=300>\n",
    "\n",
    "### Padding\n",
    "Параметры: kernel=2x2, padding=1,1, stride=1,1\n",
    "<img src=\"./imgs/23.gif\" width=400>\n",
    "\n",
    "\n",
    "\n",
    "### Для проверки работоспособности сверки можно использовать \n",
    "\n",
    "```python \n",
    "from torch.nn.functional import conv2d\n",
    "```\n",
    "### Добавление дополнительной размерности в тензор\n",
    "B - размер батча в нашем случае 1, размер картинки $C\\times H \\times W$. Для добавления и схлопывания размерностей используем\n",
    "  - squeeze() - убирает размерность\n",
    "  - unsqueeze() - добавляет размерность"
   ]
  },
  {
   "cell_type": "code",
   "execution_count": 164,
   "metadata": {
    "collapsed": true
   },
   "outputs": [
    {
     "name": "stdout",
     "output_type": "stream",
     "text": [
      "newTensor:\n",
      " tensor([[[[-2., -2., -2., -2.],\n",
      "          [-2., -2., -2., -2.],\n",
      "          [-2., -2., -2., -2.]],\n",
      "\n",
      "         [[-2., -2., -2., -2.],\n",
      "          [-2., -2., -2., -2.],\n",
      "          [-2., -2., -2., -2.]],\n",
      "\n",
      "         [[-2., -2., -2., -2.],\n",
      "          [-2., -2., -2., -2.],\n",
      "          [-2., -2., -2., -2.]]]])\n",
      "nT.size =  torch.Size([1, 3, 3, 4]) \n",
      "\n",
      "newKernal:\n",
      " tensor([[[3., 3., 3.],\n",
      "         [3., 3., 3.],\n",
      "         [3., 3., 3.]],\n",
      "\n",
      "        [[3., 3., 3.],\n",
      "         [3., 3., 3.],\n",
      "         [3., 3., 3.]],\n",
      "\n",
      "        [[3., 3., 3.],\n",
      "         [3., 3., 3.],\n",
      "         [3., 3., 3.]]])\n",
      "nK.size =  torch.Size([3, 3, 3]) \n",
      "\n",
      "changed x:\n",
      " tensor([[[[ 0.,  0.,  0.,  0.,  0.,  0.],\n",
      "          [ 0.,  0.,  0.,  0.,  0.,  0.],\n",
      "          [ 0., -2., -2., -2., -2.,  0.],\n",
      "          [ 0., -2., -2., -2., -2.,  0.],\n",
      "          [ 0., -2., -2., -2., -2.,  0.],\n",
      "          [ 0.,  0.,  0.,  0.,  0.,  0.],\n",
      "          [ 0.,  0.,  0.,  0.,  0.,  0.]],\n",
      "\n",
      "         [[ 0.,  0.,  0.,  0.,  0.,  0.],\n",
      "          [ 0.,  0.,  0.,  0.,  0.,  0.],\n",
      "          [ 0., -2., -2., -2., -2.,  0.],\n",
      "          [ 0., -2., -2., -2., -2.,  0.],\n",
      "          [ 0., -2., -2., -2., -2.,  0.],\n",
      "          [ 0.,  0.,  0.,  0.,  0.,  0.],\n",
      "          [ 0.,  0.,  0.,  0.,  0.,  0.]],\n",
      "\n",
      "         [[ 0.,  0.,  0.,  0.,  0.,  0.],\n",
      "          [ 0.,  0.,  0.,  0.,  0.,  0.],\n",
      "          [ 0., -2., -2., -2., -2.,  0.],\n",
      "          [ 0., -2., -2., -2., -2.,  0.],\n",
      "          [ 0., -2., -2., -2., -2.,  0.],\n",
      "          [ 0.,  0.,  0.,  0.,  0.,  0.],\n",
      "          [ 0.,  0.,  0.,  0.,  0.,  0.]]]])\n",
      "convex :\n",
      " tensor([[[0., 0., 0., 0.],\n",
      "         [0., 0., 0., 0.],\n",
      "         [0., 0., 0., 0.]]])\n",
      "convex2 :\n",
      " tensor([[[ -36.,  -54.,  -54.,  -36.],\n",
      "         [-108., -162., -162., -108.],\n",
      "         [ -36.,  -54.,  -54.,  -36.]]])\n"
     ]
    },
    {
     "data": {
      "text/plain": [
       "tensor([[[ -36.,  -54.,  -54.,  -36.],\n",
       "         [-108., -162., -162., -108.],\n",
       "         [ -36.,  -54.,  -54.,  -36.]]])"
      ]
     },
     "execution_count": 164,
     "metadata": {},
     "output_type": "execute_result"
    }
   ],
   "source": [
    "# прототип функции \n",
    "newTensor = torch.FloatTensor(1, 3, 3, 4)\n",
    "newTensor.fill_(-2)\n",
    "\n",
    "print ('newTensor:\\n', newTensor)\n",
    "print ('nT.size = ', newTensor.size(), '\\n')\n",
    "\n",
    "newKernal = torch.FloatTensor(3, 3, 3)\n",
    "newKernal.fill_(3)\n",
    "\n",
    "print ('newKernal:\\n', newKernal)\n",
    "print ('nK.size = ', newKernal.size(), '\\n')\n",
    "\n",
    "def my_conv2d(x,\n",
    "              kernel,\n",
    "              stride=(1,1), padding=(0,0), bias=None):\n",
    "\n",
    "    \n",
    "    \"\"\"\n",
    "    Arguments:\n",
    "    :param  x: входной тензор 4d, тип tensor.FloatTensor, размерность BxCxHxW\n",
    "    :param  kernel: входной тензор ядра 3d, тип tensor.FloatTensor, CxHxW\n",
    "    :param  stride: tuple - параметры страйда\n",
    "    :param  padding:  tuple - параметры паддинга\n",
    "    :param  bias : входной тензор bias добавляется к выходному тензору.  \n",
    "    \"\"\"\n",
    "        \n",
    "    convex = torch.FloatTensor ( 1,\n",
    "                            (x.size(2) - kernel.size(1) + 2*padding[0]) // stride[0] + 1,\n",
    "                            (x.size(3) - kernel.size(2) + 2*padding[1]) // stride[1] + 1)\n",
    "    convex.fill_(0)\n",
    "    \n",
    "    if (padding[0] != 0):\n",
    "        zeroes = torch.FloatTensor(x.size(0), x.size(1), padding[0], x.size(3))\n",
    "        zeroes.fill_(0)\n",
    "        x = torch.cat((x, zeroes), 2)\n",
    "        x = torch.cat((zeroes, x), 2)\n",
    "\n",
    "    if (padding[1] != 0):\n",
    "        zeroes = torch.FloatTensor(x.size(0), x.size(1), x.size(2), padding[1])\n",
    "        zeroes.fill_(0)\n",
    "        x = torch.cat((x, zeroes), 3)\n",
    "        x = torch.cat((zeroes, x), 3)\n",
    "\n",
    "    print ('changed x:\\n', x)\n",
    "    print ('convex :\\n', convex)\n",
    "    \n",
    "    \n",
    "    for i in range(convex.size(1)):\n",
    "        for j in range(convex.size(2)):\n",
    "            a = i * stride[0]\n",
    "            b = j * stride[1]\n",
    "            convex[0, i, j] = torch.sum(\n",
    "            torch.mul(x[:, :, a:(a + kernel.size(1)), b:(b + kernel.size(2))], kernel))\n",
    "    \n",
    "    print ('convex2 :\\n', convex)\n",
    "    return convex\n",
    "\n",
    "            \n",
    "my_conv2d(newTensor, newKernal, padding=(2, 1), stride=(2, 1))"
   ]
  },
  {
   "cell_type": "markdown",
   "metadata": {},
   "source": [
    "## Тестируем функцию свертки"
   ]
  },
  {
   "cell_type": "markdown",
   "metadata": {},
   "source": [
    "### Загружаем картинку "
   ]
  },
  {
   "cell_type": "code",
   "execution_count": 165,
   "metadata": {},
   "outputs": [
    {
     "data": {
      "text/plain": [
       "<matplotlib.image.AxesImage at 0x7f6c30a4eb00>"
      ]
     },
     "execution_count": 165,
     "metadata": {},
     "output_type": "execute_result"
    },
    {
     "data": {
      "image/png": "[encoded data removed]",
      "text/plain": [
       "<Figure size 432x288 with 1 Axes>"
      ]
     },
     "metadata": {
      "needs_background": "light"
     },
     "output_type": "display_data"
    }
   ],
   "source": [
    "import torch\n",
    "import torchvision as tv\n",
    "\n",
    "# библиотека для отрисовки графиков, картинок .... \n",
    "import matplotlib.pyplot as plt\n",
    "%matplotlib inline\n",
    "\n",
    "# загрузка изображений\n",
    "from PIL import Image\n",
    "cat_convolve= Image.open('./imgs/cat_convolve.jpg')\n",
    "plt.imshow(cat_convolve)"
   ]
  },
  {
   "cell_type": "markdown",
   "metadata": {},
   "source": [
    "### Превращаем кота в тензор"
   ]
  },
  {
   "cell_type": "code",
   "execution_count": 166,
   "metadata": {},
   "outputs": [
    {
     "name": "stdout",
     "output_type": "stream",
     "text": [
      "torch.Size([1, 3, 372, 560])\n",
      "tensor([[[[0.9137, 0.9137, 0.9137,  ..., 0.9098, 0.9098, 0.9098],\n",
      "          [0.9137, 0.9137, 0.9137,  ..., 0.9098, 0.9098, 0.9098],\n",
      "          [0.9137, 0.9137, 0.9137,  ..., 0.9098, 0.9098, 0.9098],\n",
      "          ...,\n",
      "          [0.9686, 0.9686, 0.9686,  ..., 0.9725, 0.9725, 0.9725],\n",
      "          [0.9686, 0.9686, 0.9686,  ..., 0.9725, 0.9725, 0.9725],\n",
      "          [0.9686, 0.9686, 0.9686,  ..., 0.9725, 0.9725, 0.9725]],\n",
      "\n",
      "         [[0.9333, 0.9333, 0.9333,  ..., 0.9373, 0.9373, 0.9373],\n",
      "          [0.9333, 0.9333, 0.9333,  ..., 0.9373, 0.9373, 0.9373],\n",
      "          [0.9333, 0.9333, 0.9333,  ..., 0.9373, 0.9373, 0.9373],\n",
      "          ...,\n",
      "          [0.9725, 0.9725, 0.9725,  ..., 0.9765, 0.9765, 0.9765],\n",
      "          [0.9725, 0.9725, 0.9725,  ..., 0.9765, 0.9765, 0.9765],\n",
      "          [0.9725, 0.9725, 0.9725,  ..., 0.9765, 0.9765, 0.9765]],\n",
      "\n",
      "         [[0.9569, 0.9569, 0.9569,  ..., 0.9686, 0.9686, 0.9686],\n",
      "          [0.9569, 0.9569, 0.9569,  ..., 0.9686, 0.9686, 0.9686],\n",
      "          [0.9569, 0.9569, 0.9569,  ..., 0.9686, 0.9686, 0.9686],\n",
      "          ...,\n",
      "          [0.9882, 0.9882, 0.9882,  ..., 0.9922, 0.9922, 0.9922],\n",
      "          [0.9882, 0.9882, 0.9882,  ..., 0.9922, 0.9922, 0.9922],\n",
      "          [0.9882, 0.9882, 0.9882,  ..., 0.9922, 0.9922, 0.9922]]]])\n"
     ]
    }
   ],
   "source": [
    "cat_tensor = tv.transforms.ToTensor()(cat_convolve)\n",
    "cat_tensor = torch.unsqueeze (cat_tensor, 0)\n",
    "print (cat_tensor.size())\n",
    "print (cat_tensor)"
   ]
  },
  {
   "cell_type": "markdown",
   "metadata": {},
   "source": [
    "### Сворачиваем картинку ядром, детектор границ\n",
    "$$\n",
    "\\begin{bmatrix}\n",
    "    -1       & -1 & -1  \\\\\n",
    "    -1       & 8 & -1 \\\\\n",
    "    -1       & -1 & -1\n",
    "\\end{bmatrix}\n",
    "$$"
   ]
  },
  {
   "cell_type": "markdown",
   "metadata": {},
   "source": [
    "### Создаем фильтр ядра и заполняем его -1 & 8"
   ]
  },
  {
   "cell_type": "code",
   "execution_count": 167,
   "metadata": {},
   "outputs": [
    {
     "name": "stdout",
     "output_type": "stream",
     "text": [
      "torch.Size([3, 3, 3])\n",
      "filter kernel :\n",
      " tensor([[[-1., -1., -1.],\n",
      "         [-1.,  8., -1.],\n",
      "         [-1., -1., -1.]],\n",
      "\n",
      "        [[-1., -1., -1.],\n",
      "         [-1.,  8., -1.],\n",
      "         [-1., -1., -1.]],\n",
      "\n",
      "        [[-1., -1., -1.],\n",
      "         [-1.,  8., -1.],\n",
      "         [-1., -1., -1.]]])\n"
     ]
    }
   ],
   "source": [
    "filter_kernel = torch.FloatTensor(3,3,3).fill_(-1)\n",
    "filter_kernel[:,1,1] = 8\n",
    "print(filter_kernel.size())\n",
    "print ('filter kernel :\\n', filter_kernel)"
   ]
  },
  {
   "cell_type": "markdown",
   "metadata": {},
   "source": [
    "### Делаем свертку картинки ядром"
   ]
  },
  {
   "cell_type": "code",
   "execution_count": 168,
   "metadata": {},
   "outputs": [
    {
     "name": "stdout",
     "output_type": "stream",
     "text": [
      "changed x:\n",
      " tensor([[[[0.9137, 0.9137, 0.9137,  ..., 0.9098, 0.9098, 0.9098],\n",
      "          [0.9137, 0.9137, 0.9137,  ..., 0.9098, 0.9098, 0.9098],\n",
      "          [0.9137, 0.9137, 0.9137,  ..., 0.9098, 0.9098, 0.9098],\n",
      "          ...,\n",
      "          [0.9686, 0.9686, 0.9686,  ..., 0.9725, 0.9725, 0.9725],\n",
      "          [0.9686, 0.9686, 0.9686,  ..., 0.9725, 0.9725, 0.9725],\n",
      "          [0.9686, 0.9686, 0.9686,  ..., 0.9725, 0.9725, 0.9725]],\n",
      "\n",
      "         [[0.9333, 0.9333, 0.9333,  ..., 0.9373, 0.9373, 0.9373],\n",
      "          [0.9333, 0.9333, 0.9333,  ..., 0.9373, 0.9373, 0.9373],\n",
      "          [0.9333, 0.9333, 0.9333,  ..., 0.9373, 0.9373, 0.9373],\n",
      "          ...,\n",
      "          [0.9725, 0.9725, 0.9725,  ..., 0.9765, 0.9765, 0.9765],\n",
      "          [0.9725, 0.9725, 0.9725,  ..., 0.9765, 0.9765, 0.9765],\n",
      "          [0.9725, 0.9725, 0.9725,  ..., 0.9765, 0.9765, 0.9765]],\n",
      "\n",
      "         [[0.9569, 0.9569, 0.9569,  ..., 0.9686, 0.9686, 0.9686],\n",
      "          [0.9569, 0.9569, 0.9569,  ..., 0.9686, 0.9686, 0.9686],\n",
      "          [0.9569, 0.9569, 0.9569,  ..., 0.9686, 0.9686, 0.9686],\n",
      "          ...,\n",
      "          [0.9882, 0.9882, 0.9882,  ..., 0.9922, 0.9922, 0.9922],\n",
      "          [0.9882, 0.9882, 0.9882,  ..., 0.9922, 0.9922, 0.9922],\n",
      "          [0.9882, 0.9882, 0.9882,  ..., 0.9922, 0.9922, 0.9922]]]])\n",
      "convex :\n",
      " tensor([[[0., 0., 0.,  ..., 0., 0., 0.],\n",
      "         [0., 0., 0.,  ..., 0., 0., 0.],\n",
      "         [0., 0., 0.,  ..., 0., 0., 0.],\n",
      "         ...,\n",
      "         [0., 0., 0.,  ..., 0., 0., 0.],\n",
      "         [0., 0., 0.,  ..., 0., 0., 0.],\n",
      "         [0., 0., 0.,  ..., 0., 0., 0.]]])\n",
      "convex2 :\n",
      " tensor([[[ 0.0000,  0.0000,  0.0000,  ...,  0.0000,  0.0000,  0.0000],\n",
      "         [ 0.0000,  0.0000,  0.0000,  ...,  0.0000,  0.0000,  0.0000],\n",
      "         [ 0.0000,  0.0000,  0.0000,  ...,  0.0000,  0.0000,  0.0000],\n",
      "         ...,\n",
      "         [ 0.0000,  0.0000,  0.0000,  ...,  0.0118,  0.0118,  0.0118],\n",
      "         [ 0.0000,  0.0000,  0.0000,  ..., -0.0000, -0.0000, -0.0000],\n",
      "         [ 0.0000,  0.0000,  0.0000,  ..., -0.0000, -0.0000, -0.0000]]])\n",
      "torch.Size([370, 558])\n"
     ]
    },
    {
     "data": {
      "text/plain": [
       "<matplotlib.image.AxesImage at 0x7f6c30a2ae10>"
      ]
     },
     "execution_count": 168,
     "metadata": {},
     "output_type": "execute_result"
    },
    {
     "data": {
      "image/png": "[encoded data removed]",
      "text/plain": [
       "<Figure size 432x288 with 1 Axes>"
      ]
     },
     "metadata": {
      "needs_background": "light"
     },
     "output_type": "display_data"
    }
   ],
   "source": [
    "o_image = my_conv2d(cat_tensor, filter_kernel)\n",
    "o_image = torch.squeeze (o_image, 0)\n",
    "o_image[o_image >= 0.5] = 1  # бустим границы\n",
    "o_image[o_image < 0.5] = 0\n",
    "print(o_image.size())\n",
    "plt.imshow(o_image.numpy(), cmap='gray')"
   ]
  },
  {
   "cell_type": "markdown",
   "metadata": {},
   "source": [
    "### Горизонтальные границы\n",
    "$$\n",
    "\\begin{bmatrix}\n",
    "    1       & 1 & 1  \\\\\n",
    "    0       & 0 & 0 \\\\\n",
    "    -1       & -1 & -1\n",
    "\\end{bmatrix}\n",
    "$$"
   ]
  },
  {
   "cell_type": "code",
   "execution_count": 169,
   "metadata": {},
   "outputs": [
    {
     "name": "stdout",
     "output_type": "stream",
     "text": [
      "torch.Size([3, 3, 3])\n"
     ]
    }
   ],
   "source": [
    "filter_kernel = torch.FloatTensor(3,3,3).fill_(1)\n",
    "filter_kernel[:,1,:] = 0\n",
    "filter_kernel[:,2,:] = -1\n",
    "print(filter_kernel.size())"
   ]
  },
  {
   "cell_type": "code",
   "execution_count": 170,
   "metadata": {},
   "outputs": [
    {
     "name": "stdout",
     "output_type": "stream",
     "text": [
      "changed x:\n",
      " tensor([[[[0.9137, 0.9137, 0.9137,  ..., 0.9098, 0.9098, 0.9098],\n",
      "          [0.9137, 0.9137, 0.9137,  ..., 0.9098, 0.9098, 0.9098],\n",
      "          [0.9137, 0.9137, 0.9137,  ..., 0.9098, 0.9098, 0.9098],\n",
      "          ...,\n",
      "          [0.9686, 0.9686, 0.9686,  ..., 0.9725, 0.9725, 0.9725],\n",
      "          [0.9686, 0.9686, 0.9686,  ..., 0.9725, 0.9725, 0.9725],\n",
      "          [0.9686, 0.9686, 0.9686,  ..., 0.9725, 0.9725, 0.9725]],\n",
      "\n",
      "         [[0.9333, 0.9333, 0.9333,  ..., 0.9373, 0.9373, 0.9373],\n",
      "          [0.9333, 0.9333, 0.9333,  ..., 0.9373, 0.9373, 0.9373],\n",
      "          [0.9333, 0.9333, 0.9333,  ..., 0.9373, 0.9373, 0.9373],\n",
      "          ...,\n",
      "          [0.9725, 0.9725, 0.9725,  ..., 0.9765, 0.9765, 0.9765],\n",
      "          [0.9725, 0.9725, 0.9725,  ..., 0.9765, 0.9765, 0.9765],\n",
      "          [0.9725, 0.9725, 0.9725,  ..., 0.9765, 0.9765, 0.9765]],\n",
      "\n",
      "         [[0.9569, 0.9569, 0.9569,  ..., 0.9686, 0.9686, 0.9686],\n",
      "          [0.9569, 0.9569, 0.9569,  ..., 0.9686, 0.9686, 0.9686],\n",
      "          [0.9569, 0.9569, 0.9569,  ..., 0.9686, 0.9686, 0.9686],\n",
      "          ...,\n",
      "          [0.9882, 0.9882, 0.9882,  ..., 0.9922, 0.9922, 0.9922],\n",
      "          [0.9882, 0.9882, 0.9882,  ..., 0.9922, 0.9922, 0.9922],\n",
      "          [0.9882, 0.9882, 0.9882,  ..., 0.9922, 0.9922, 0.9922]]]])\n",
      "convex :\n",
      " tensor([[[0., 0., 0.,  ..., 0., 0., 0.],\n",
      "         [0., 0., 0.,  ..., 0., 0., 0.],\n",
      "         [0., 0., 0.,  ..., 0., 0., 0.],\n",
      "         ...,\n",
      "         [0., 0., 0.,  ..., 0., 0., 0.],\n",
      "         [0., 0., 0.,  ..., 0., 0., 0.],\n",
      "         [0., 0., 0.,  ..., 0., 0., 0.]]])\n",
      "convex2 :\n",
      " tensor([[[ 0.0000,  0.0000,  0.0000,  ...,  0.0000,  0.0000,  0.0000],\n",
      "         [ 0.0000,  0.0000,  0.0000,  ...,  0.0000,  0.0000,  0.0000],\n",
      "         [ 0.0000,  0.0000,  0.0000,  ...,  0.0000,  0.0000,  0.0000],\n",
      "         ...,\n",
      "         [ 0.0000,  0.0000,  0.0000,  ..., -0.0118, -0.0118, -0.0118],\n",
      "         [ 0.0000,  0.0000,  0.0000,  ...,  0.0000,  0.0000,  0.0000],\n",
      "         [ 0.0000,  0.0000,  0.0000,  ...,  0.0000,  0.0000,  0.0000]]])\n",
      "torch.Size([370, 558])\n"
     ]
    },
    {
     "data": {
      "text/plain": [
       "<matplotlib.image.AxesImage at 0x7f6c305ce940>"
      ]
     },
     "execution_count": 170,
     "metadata": {},
     "output_type": "execute_result"
    },
    {
     "data": {
      "image/png": "[encoded data removed]",
      "text/plain": [
       "<Figure size 432x288 with 1 Axes>"
      ]
     },
     "metadata": {
      "needs_background": "light"
     },
     "output_type": "display_data"
    }
   ],
   "source": [
    "o_image = my_conv2d(cat_tensor, filter_kernel)\n",
    "o_image = torch.squeeze (o_image, 0)\n",
    "o_image[o_image >= 0.5] = 1  # бустим границы\n",
    "o_image[o_image < 0.5] = 0\n",
    "print(o_image.size())\n",
    "plt.imshow(o_image.numpy(), cmap='gray')"
   ]
  },
  {
   "cell_type": "markdown",
   "metadata": {},
   "source": [
    "### Вертикальные границы\n",
    "$$\n",
    "\\begin{bmatrix}\n",
    "    1       & 0 & -1  \\\\\n",
    "    1       & 0 & -1 \\\\\n",
    "    1       & 0 & -1\n",
    "\\end{bmatrix}\n",
    "$$"
   ]
  },
  {
   "cell_type": "code",
   "execution_count": 171,
   "metadata": {},
   "outputs": [
    {
     "name": "stdout",
     "output_type": "stream",
     "text": [
      "torch.Size([3, 3, 3])\n"
     ]
    }
   ],
   "source": [
    "filter_kernel = torch.FloatTensor(3,3,3).fill_(1)\n",
    "filter_kernel[:,:,1] = 0\n",
    "filter_kernel[:,:,2] = -1\n",
    "print(filter_kernel.size())"
   ]
  },
  {
   "cell_type": "code",
   "execution_count": 172,
   "metadata": {},
   "outputs": [
    {
     "name": "stdout",
     "output_type": "stream",
     "text": [
      "changed x:\n",
      " tensor([[[[0.9137, 0.9137, 0.9137,  ..., 0.9098, 0.9098, 0.9098],\n",
      "          [0.9137, 0.9137, 0.9137,  ..., 0.9098, 0.9098, 0.9098],\n",
      "          [0.9137, 0.9137, 0.9137,  ..., 0.9098, 0.9098, 0.9098],\n",
      "          ...,\n",
      "          [0.9686, 0.9686, 0.9686,  ..., 0.9725, 0.9725, 0.9725],\n",
      "          [0.9686, 0.9686, 0.9686,  ..., 0.9725, 0.9725, 0.9725],\n",
      "          [0.9686, 0.9686, 0.9686,  ..., 0.9725, 0.9725, 0.9725]],\n",
      "\n",
      "         [[0.9333, 0.9333, 0.9333,  ..., 0.9373, 0.9373, 0.9373],\n",
      "          [0.9333, 0.9333, 0.9333,  ..., 0.9373, 0.9373, 0.9373],\n",
      "          [0.9333, 0.9333, 0.9333,  ..., 0.9373, 0.9373, 0.9373],\n",
      "          ...,\n",
      "          [0.9725, 0.9725, 0.9725,  ..., 0.9765, 0.9765, 0.9765],\n",
      "          [0.9725, 0.9725, 0.9725,  ..., 0.9765, 0.9765, 0.9765],\n",
      "          [0.9725, 0.9725, 0.9725,  ..., 0.9765, 0.9765, 0.9765]],\n",
      "\n",
      "         [[0.9569, 0.9569, 0.9569,  ..., 0.9686, 0.9686, 0.9686],\n",
      "          [0.9569, 0.9569, 0.9569,  ..., 0.9686, 0.9686, 0.9686],\n",
      "          [0.9569, 0.9569, 0.9569,  ..., 0.9686, 0.9686, 0.9686],\n",
      "          ...,\n",
      "          [0.9882, 0.9882, 0.9882,  ..., 0.9922, 0.9922, 0.9922],\n",
      "          [0.9882, 0.9882, 0.9882,  ..., 0.9922, 0.9922, 0.9922],\n",
      "          [0.9882, 0.9882, 0.9882,  ..., 0.9922, 0.9922, 0.9922]]]])\n",
      "convex :\n",
      " tensor([[[0., 0., 0.,  ..., 0., 0., 0.],\n",
      "         [0., 0., 0.,  ..., 0., 0., 0.],\n",
      "         [0., 0., 0.,  ..., 0., 0., 0.],\n",
      "         ...,\n",
      "         [0., 0., 0.,  ..., 0., 0., 0.],\n",
      "         [0., 0., 0.,  ..., 0., 0., 0.],\n",
      "         [0., 0., 0.,  ..., 0., 0., 0.]]])\n",
      "convex2 :\n",
      " tensor([[[ 0.0000,  0.0000,  0.0000,  ...,  0.0000,  0.0000,  0.0000],\n",
      "         [ 0.0000,  0.0000,  0.0000,  ...,  0.0000,  0.0000,  0.0000],\n",
      "         [ 0.0000,  0.0000,  0.0000,  ...,  0.0000,  0.0000,  0.0000],\n",
      "         ...,\n",
      "         [ 0.0000,  0.0000,  0.0000,  ...,  0.0000,  0.0000,  0.0000],\n",
      "         [ 0.0000,  0.0000,  0.0000,  ...,  0.0000,  0.0000,  0.0000],\n",
      "         [ 0.0000,  0.0000,  0.0000,  ...,  0.0000,  0.0000,  0.0000]]])\n",
      "torch.Size([370, 558])\n"
     ]
    },
    {
     "data": {
      "text/plain": [
       "<matplotlib.image.AxesImage at 0x7f6c30532470>"
      ]
     },
     "execution_count": 172,
     "metadata": {},
     "output_type": "execute_result"
    },
    {
     "data": {
      "image/png": "[encoded data removed]",
      "text/plain": [
       "<Figure size 432x288 with 1 Axes>"
      ]
     },
     "metadata": {
      "needs_background": "light"
     },
     "output_type": "display_data"
    }
   ],
   "source": [
    "o_image = my_conv2d(cat_tensor, filter_kernel)\n",
    "o_image = torch.squeeze (o_image, 0)\n",
    "o_image[o_image >= 0.5] = 1  # бустим границы\n",
    "o_image[o_image < 0.5] = 0\n",
    "print(o_image.size())\n",
    "plt.imshow(o_image.numpy(), cmap='gray')"
   ]
  },
  {
   "cell_type": "markdown",
   "metadata": {},
   "source": [
    "### Используем ядро \n",
    "\n",
    "$$ \\begin{bmatrix}\n",
    "    1 & 1 \\\\\n",
    "    1 & 1\n",
    "\\end{bmatrix}$$\n",
    "\n",
    "### и stride 2"
   ]
  },
  {
   "cell_type": "code",
   "execution_count": 173,
   "metadata": {},
   "outputs": [
    {
     "name": "stdout",
     "output_type": "stream",
     "text": [
      "changed x:\n",
      " tensor([[[[0.9137, 0.9137, 0.9137,  ..., 0.9098, 0.9098, 0.9098],\n",
      "          [0.9137, 0.9137, 0.9137,  ..., 0.9098, 0.9098, 0.9098],\n",
      "          [0.9137, 0.9137, 0.9137,  ..., 0.9098, 0.9098, 0.9098],\n",
      "          ...,\n",
      "          [0.9686, 0.9686, 0.9686,  ..., 0.9725, 0.9725, 0.9725],\n",
      "          [0.9686, 0.9686, 0.9686,  ..., 0.9725, 0.9725, 0.9725],\n",
      "          [0.9686, 0.9686, 0.9686,  ..., 0.9725, 0.9725, 0.9725]],\n",
      "\n",
      "         [[0.9333, 0.9333, 0.9333,  ..., 0.9373, 0.9373, 0.9373],\n",
      "          [0.9333, 0.9333, 0.9333,  ..., 0.9373, 0.9373, 0.9373],\n",
      "          [0.9333, 0.9333, 0.9333,  ..., 0.9373, 0.9373, 0.9373],\n",
      "          ...,\n",
      "          [0.9725, 0.9725, 0.9725,  ..., 0.9765, 0.9765, 0.9765],\n",
      "          [0.9725, 0.9725, 0.9725,  ..., 0.9765, 0.9765, 0.9765],\n",
      "          [0.9725, 0.9725, 0.9725,  ..., 0.9765, 0.9765, 0.9765]],\n",
      "\n",
      "         [[0.9569, 0.9569, 0.9569,  ..., 0.9686, 0.9686, 0.9686],\n",
      "          [0.9569, 0.9569, 0.9569,  ..., 0.9686, 0.9686, 0.9686],\n",
      "          [0.9569, 0.9569, 0.9569,  ..., 0.9686, 0.9686, 0.9686],\n",
      "          ...,\n",
      "          [0.9882, 0.9882, 0.9882,  ..., 0.9922, 0.9922, 0.9922],\n",
      "          [0.9882, 0.9882, 0.9882,  ..., 0.9922, 0.9922, 0.9922],\n",
      "          [0.9882, 0.9882, 0.9882,  ..., 0.9922, 0.9922, 0.9922]]]])\n",
      "convex :\n",
      " tensor([[[0., 0., 0.,  ..., 0., 0., 0.],\n",
      "         [0., 0., 0.,  ..., 0., 0., 0.],\n",
      "         [0., 0., 0.,  ..., 0., 0., 0.],\n",
      "         ...,\n",
      "         [0., 0., 0.,  ..., 0., 0., 0.],\n",
      "         [0., 0., 0.,  ..., 0., 0., 0.],\n",
      "         [0., 0., 0.,  ..., 0., 0., 0.]]])\n",
      "convex2 :\n",
      " tensor([[[11.2157, 11.2157, 11.2157,  ..., 11.2627, 11.2627, 11.2627],\n",
      "         [11.2157, 11.2157, 11.2157,  ..., 11.2627, 11.2627, 11.2627],\n",
      "         [11.2157, 11.2157, 11.2157,  ..., 11.2627, 11.2627, 11.2627],\n",
      "         ...,\n",
      "         [11.7176, 11.7176, 11.7176,  ..., 11.7490, 11.7490, 11.7490],\n",
      "         [11.7176, 11.7176, 11.7176,  ..., 11.7647, 11.7647, 11.7647],\n",
      "         [11.7176, 11.7176, 11.7176,  ..., 11.7647, 11.7647, 11.7647]]])\n",
      "torch.Size([186, 280])\n"
     ]
    },
    {
     "data": {
      "text/plain": [
       "<matplotlib.image.AxesImage at 0x7f6c304cbf28>"
      ]
     },
     "execution_count": 173,
     "metadata": {},
     "output_type": "execute_result"
    },
    {
     "data": {
      "image/png": "[encoded data removed]",
      "text/plain": [
       "<Figure size 432x288 with 1 Axes>"
      ]
     },
     "metadata": {
      "needs_background": "light"
     },
     "output_type": "display_data"
    }
   ],
   "source": [
    "filter_kernelx2 = torch.FloatTensor(3,2,2).fill_(1)\n",
    "o_image = my_conv2d(cat_tensor, filter_kernelx2, stride=(2,2))\n",
    "o_image /= 4 # усредняем\n",
    "\n",
    "o_image = torch.squeeze (o_image, 0)\n",
    "print(o_image.size())\n",
    "plt.imshow(o_image.numpy(), cmap='gray')"
   ]
  },
  {
   "cell_type": "markdown",
   "metadata": {},
   "source": [
    "### Ядро свертки с гаусовым распределением"
   ]
  },
  {
   "cell_type": "code",
   "execution_count": 174,
   "metadata": {},
   "outputs": [
    {
     "data": {
      "text/plain": [
       "<matplotlib.image.AxesImage at 0x7f6c309f3438>"
      ]
     },
     "execution_count": 174,
     "metadata": {},
     "output_type": "execute_result"
    },
    {
     "data": {
      "image/png": "[encoded data removed]",
      "text/plain": [
       "<Figure size 432x288 with 1 Axes>"
      ]
     },
     "metadata": {
      "needs_background": "light"
     },
     "output_type": "display_data"
    }
   ],
   "source": [
    "import scipy.ndimage as ndi\n",
    "import numpy as np\n",
    "sigma = 10    # параметр распределение\n",
    "patern_size = 101 # максимальный размер ядра свертки\n",
    "kernel_size = 10  # реальный размер свертки\n",
    "x = np.zeros((patern_size, patern_size))\n",
    "x [patern_size//2,patern_size//2]= 1\n",
    "\n",
    "# делаем ядро с гаусовым распределением\n",
    "gause_kernel = ndi.filters.gaussian_filter(x, sigma=sigma)\n",
    "# вырезаем из центра наш кернел\n",
    "gause_kernel = gause_kernel[(patern_size//2-(kernel_size//2)):(patern_size//2+(kernel_size//2))+1, \\\n",
    "                (patern_size//2-(kernel_size//2)):(patern_size//2+(kernel_size//2))+1]\n",
    "# вот он\n",
    "plt.imshow(gause_kernel, interpolation='none', cmap=plt.get_cmap('gray'))"
   ]
  },
  {
   "cell_type": "markdown",
   "metadata": {},
   "source": [
    "# Делаем сверку "
   ]
  },
  {
   "cell_type": "code",
   "execution_count": 175,
   "metadata": {},
   "outputs": [
    {
     "name": "stdout",
     "output_type": "stream",
     "text": [
      "changed x:\n",
      " tensor([[[[0.9137, 0.9137, 0.9137,  ..., 0.9098, 0.9098, 0.9098],\n",
      "          [0.9137, 0.9137, 0.9137,  ..., 0.9098, 0.9098, 0.9098],\n",
      "          [0.9137, 0.9137, 0.9137,  ..., 0.9098, 0.9098, 0.9098],\n",
      "          ...,\n",
      "          [0.9686, 0.9686, 0.9686,  ..., 0.9725, 0.9725, 0.9725],\n",
      "          [0.9686, 0.9686, 0.9686,  ..., 0.9725, 0.9725, 0.9725],\n",
      "          [0.9686, 0.9686, 0.9686,  ..., 0.9725, 0.9725, 0.9725]],\n",
      "\n",
      "         [[0.9333, 0.9333, 0.9333,  ..., 0.9373, 0.9373, 0.9373],\n",
      "          [0.9333, 0.9333, 0.9333,  ..., 0.9373, 0.9373, 0.9373],\n",
      "          [0.9333, 0.9333, 0.9333,  ..., 0.9373, 0.9373, 0.9373],\n",
      "          ...,\n",
      "          [0.9725, 0.9725, 0.9725,  ..., 0.9765, 0.9765, 0.9765],\n",
      "          [0.9725, 0.9725, 0.9725,  ..., 0.9765, 0.9765, 0.9765],\n",
      "          [0.9725, 0.9725, 0.9725,  ..., 0.9765, 0.9765, 0.9765]],\n",
      "\n",
      "         [[0.9569, 0.9569, 0.9569,  ..., 0.9686, 0.9686, 0.9686],\n",
      "          [0.9569, 0.9569, 0.9569,  ..., 0.9686, 0.9686, 0.9686],\n",
      "          [0.9569, 0.9569, 0.9569,  ..., 0.9686, 0.9686, 0.9686],\n",
      "          ...,\n",
      "          [0.9882, 0.9882, 0.9882,  ..., 0.9922, 0.9922, 0.9922],\n",
      "          [0.9882, 0.9882, 0.9882,  ..., 0.9922, 0.9922, 0.9922],\n",
      "          [0.9882, 0.9882, 0.9882,  ..., 0.9922, 0.9922, 0.9922]]]])\n",
      "convex :\n",
      " tensor([[[0., 0., 0.,  ..., 0., 0., 0.],\n",
      "         [0., 0., 0.,  ..., 0., 0., 0.],\n",
      "         [0., 0., 0.,  ..., 0., 0., 0.],\n",
      "         ...,\n",
      "         [0., 0., 0.,  ..., 0., 0., 0.],\n",
      "         [0., 0., 0.,  ..., 0., 0., 0.],\n",
      "         [0., 0., 0.,  ..., 0., 0., 0.]]])\n",
      "convex2 :\n",
      " tensor([[[0.4901, 0.4901, 0.4901,  ..., 0.4907, 0.4909, 0.4911],\n",
      "         [0.4903, 0.4903, 0.4903,  ..., 0.4907, 0.4909, 0.4911],\n",
      "         [0.4905, 0.4905, 0.4905,  ..., 0.4907, 0.4909, 0.4911],\n",
      "         ...,\n",
      "         [0.5115, 0.5115, 0.5115,  ..., 0.5130, 0.5130, 0.5130],\n",
      "         [0.5115, 0.5115, 0.5115,  ..., 0.5130, 0.5130, 0.5130],\n",
      "         [0.5115, 0.5115, 0.5115,  ..., 0.5131, 0.5131, 0.5131]]])\n",
      "torch.Size([362, 550])\n"
     ]
    },
    {
     "data": {
      "text/plain": [
       "<matplotlib.image.AxesImage at 0x7f6c23acb2e8>"
      ]
     },
     "execution_count": 175,
     "metadata": {},
     "output_type": "execute_result"
    },
    {
     "data": {
      "image/png": "[encoded data removed]",
      "text/plain": [
       "<Figure size 432x288 with 1 Axes>"
      ]
     },
     "metadata": {
      "needs_background": "light"
     },
     "output_type": "display_data"
    }
   ],
   "source": [
    "o_image = my_conv2d(cat_tensor, torch.from_numpy(gause_kernel).float().unsqueeze(0))\n",
    "o_image = torch.squeeze (o_image, 0)\n",
    "print(o_image.size())\n",
    "plt.imshow(o_image.numpy(), cmap='gray')"
   ]
  },
  {
   "cell_type": "markdown",
   "metadata": {},
   "source": [
    "# 2. Написать модуль батч нормализации для картинок\n",
    "<img src=\"./imgs/37.png\" width=400>\n",
    "\n",
    "- Как выглядит формула финальной батч нормализации в слое при прямом проходе в процессе тренеровки сети, используем формулу для экспоненциального скользящего среднего:\n",
    "$$\n",
    "\\large\n",
    "\\begin{align}\n",
    "v_t = \\beta \\times v_{t-1} - (1-\\beta)\\times \\mu_t \\leftarrow для \\ каждой \\ ФИЧИ \\ в \\ батче \\ расчитываем \\ ее \\ среднее \\\\ \n",
    "s_t = \\beta \\times s_{t-1} - (1-\\beta)\\times \\sigma^2_t \\leftarrow для \\ каждой \\ ФИЧИ \\ в \\ батче \\ расчитываем \\ ее \\ дисперсию \\\\ \\\\\n",
    "\\hat{\\mathbf{x}} = \\frac{\\mathbf{x_t} - v_t}{ \\sqrt{s_t + \\epsilon}} \\times \\gamma + b \\leftarrow финальная \\ формула \\ для \\ расчета  \\ выхода\\ слоя\n",
    "\\end{align}\n",
    "$$\n",
    "\n",
    "где $ \\large \\gamma, b $ - параметры, афинного преобразования, размерность - количество фичей во входном тензоре, эти параметры обучаются вместе с батч нормализацией\n",
    "\n",
    "- Как выглядит правило для расчета выхода в процессе инференса:\n",
    "$$\n",
    "\\large\n",
    "\\begin{align}\n",
    "\\hat{\\mathbf{x}} = \\frac{\\mathbf{x_t} - v_t}{ \\sqrt{s_t + \\epsilon}} \\times \\gamma + b \\leftarrow финальная \\ формула \\ для \\ расчета  \\ выхода\\ слоя\n",
    "\\end{align}\n",
    "$$\n",
    "\n",
    "$\\large s_t, v_t, \\gamma, b $ - параметры расчитанные в процессе тренировки слоя.\n",
    "\n",
    "### Задание:\n",
    "Реализовать модуль 2d батч нормализации и проверить его работу на входных изображениях.\n",
    "\n",
    "P.S. Каждый канал входной картинки считается отдельной фичёй\n",
    "\n",
    "Нужные функции\n",
    "```python\n",
    "import torch\n",
    "torch.zeros #- создать тензор заполненный нулями\n",
    "torch.ones #- создать тензор заполненный единицами\n",
    "torch.Tensor #- создать тензор(1, in_channels, 1, 1)\n",
    "torch.mean, torch.var  #- среднее и дисперсия\n",
    "x.uniform_ #- заполнить тензор случайными числами из равномерного распределения\n",
    "y.expand_as(x) #- разширить тензор y до размера x, по расширяемым направлениям размерность тензора x должна быть равна 1 \n",
    "```"
   ]
  },
  {
   "cell_type": "code",
   "execution_count": 176,
   "metadata": {
    "collapsed": true
   },
   "outputs": [],
   "source": [
    "import torch.nn as nn\n",
    "\n",
    "class BatchNorm2d(nn.Module):\n",
    "    \n",
    "    def __init__(self, in_channels, afine=True, beta=0.9, epsilon=1e-8):\n",
    "        \"\"\"\n",
    "        :param in_channels: количество входных каналов предыдущего слоя\n",
    "        :param afine: делать ли афинное преобразование.\n",
    "        :param beta: параметр сглаживания\n",
    "        :param epsilon: параметр исключающий деление на ноль\n",
    "        \"\"\"\n",
    "        super().__init__()\n",
    "\n",
    "        pass\n",
    "        \n",
    "    def forward(self, x):\n",
    "        \"\"\"\n",
    "        Считаем параметры нормализации в режиме обучения, и нормализуем x в обоих режимах\n",
    "        \"\"\"\n",
    "\n",
    "        if self.training:\n",
    "           # находимся в режиме обучения\n",
    "           pass\n"
   ]
  },
  {
   "cell_type": "markdown",
   "metadata": {},
   "source": [
    "### Проверяем работу батч нормадлизации на котэ"
   ]
  },
  {
   "cell_type": "code",
   "execution_count": 177,
   "metadata": {},
   "outputs": [
    {
     "ename": "AttributeError",
     "evalue": "'NoneType' object has no attribute 'squeeze'",
     "output_type": "error",
     "traceback": [
      "\u001b[0;31m---------------------------------------------------------------------------\u001b[0m",
      "\u001b[0;31mAttributeError\u001b[0m                            Traceback (most recent call last)",
      "\u001b[0;32m<ipython-input-177-b55e69b7037e>\u001b[0m in \u001b[0;36m<module>\u001b[0;34m()\u001b[0m\n\u001b[1;32m      5\u001b[0m \u001b[0mo_image\u001b[0m \u001b[0;34m=\u001b[0m \u001b[0mbn\u001b[0m\u001b[0;34m(\u001b[0m\u001b[0mcat_tensor\u001b[0m\u001b[0;34m.\u001b[0m\u001b[0munsqueeze\u001b[0m\u001b[0;34m(\u001b[0m\u001b[0;36m0\u001b[0m\u001b[0;34m)\u001b[0m\u001b[0;34m)\u001b[0m\u001b[0;34m\u001b[0m\u001b[0m\n\u001b[1;32m      6\u001b[0m \u001b[0;31m# убираем размерность батча\u001b[0m\u001b[0;34m\u001b[0m\u001b[0;34m\u001b[0m\u001b[0m\n\u001b[0;32m----> 7\u001b[0;31m \u001b[0mo_image\u001b[0m \u001b[0;34m=\u001b[0m \u001b[0mo_image\u001b[0m\u001b[0;34m.\u001b[0m\u001b[0msqueeze\u001b[0m\u001b[0;34m(\u001b[0m\u001b[0;34m)\u001b[0m\u001b[0;34m\u001b[0m\u001b[0m\n\u001b[0m\u001b[1;32m      8\u001b[0m \u001b[0mprint\u001b[0m \u001b[0;34m(\u001b[0m\u001b[0mo_image\u001b[0m\u001b[0;34m.\u001b[0m\u001b[0msize\u001b[0m\u001b[0;34m(\u001b[0m\u001b[0;34m)\u001b[0m\u001b[0;34m)\u001b[0m\u001b[0;34m\u001b[0m\u001b[0m\n\u001b[1;32m      9\u001b[0m \u001b[0;31m# для вывода картинки транспонируем тензор и превращаем его в numpy\u001b[0m\u001b[0;34m\u001b[0m\u001b[0;34m\u001b[0m\u001b[0m\n",
      "\u001b[0;31mAttributeError\u001b[0m: 'NoneType' object has no attribute 'squeeze'"
     ]
    }
   ],
   "source": [
    "# Без афинных преобразований, за один проход не должно быть значительных изменений, потому что начальные значеня среднего 0 \n",
    "# и дисперсии 1 \n",
    "bn = BatchNorm2d(3, afine=False)\n",
    "# добавляем размерность батча\n",
    "o_image = bn(cat_tensor.unsqueeze(0))\n",
    "# убираем размерность батча\n",
    "o_image = o_image.squeeze()\n",
    "print (o_image.size())\n",
    "# для вывода картинки транспонируем тензор и превращаем его в numpy\n",
    "plt.imshow(o_image.transpose(0,2).transpose(0,1).numpy())"
   ]
  },
  {
   "cell_type": "code",
   "execution_count": null,
   "metadata": {},
   "outputs": [],
   "source": [
    "# C афинными преобразованиями, должен нагладыватья uniform_ шум при каждом новом запуске\n",
    "bn = BatchNorm2d(3, afine=True)\n",
    "# добавляем размерность батча\n",
    "o_image = bn(cat_tensor.unsqueeze(0))\n",
    "# убираем размерность батча\n",
    "o_image = o_image.squeeze()\n",
    "print (o_image.size())\n",
    "# для вывода картинки транспонируем тензор и превращаем его в numpy\n",
    "plt.imshow(o_image.transpose(0,2).transpose(0,1).numpy())"
   ]
  },
  {
   "cell_type": "markdown",
   "metadata": {},
   "source": [
    "### Проверим как реализация работает на большом сете картинок"
   ]
  },
  {
   "cell_type": "code",
   "execution_count": null,
   "metadata": {
    "collapsed": true
   },
   "outputs": [],
   "source": [
    "import numpy as np\n",
    "import matplotlib.pylab as plt\n",
    "%matplotlib inline"
   ]
  },
  {
   "cell_type": "code",
   "execution_count": null,
   "metadata": {},
   "outputs": [],
   "source": [
    "# Загружаем MNIST\n",
    "from sklearn.datasets import fetch_mldata\n",
    "mnist = fetch_mldata('MNIST original', data_home='./')\n",
    "X = mnist['data']\n",
    "# переходим к формату тензоров pytorch\n",
    "X = X.reshape((-1, 1, 28, 28))\n",
    "X = X.astype('float')\n",
    "print(X.shape)"
   ]
  },
  {
   "cell_type": "code",
   "execution_count": null,
   "metadata": {},
   "outputs": [],
   "source": [
    "n=4\n",
    "for i in range(n*n):\n",
    "    plt.subplot(n,n,i+1)\n",
    "    I = X[np.random.randint(0, X.shape[0]),0]\n",
    "    plt.imshow(I, cmap='gray')"
   ]
  },
  {
   "cell_type": "markdown",
   "metadata": {},
   "source": [
    "### Тестируем модуль батч нормализации на мнисте\n",
    "Прогоняем весь поток картинок (1 эпоха) с размером батча 32, и смотрим как расчитываются средние значения в процессе тренировки"
   ]
  },
  {
   "cell_type": "code",
   "execution_count": null,
   "metadata": {
    "collapsed": true
   },
   "outputs": [],
   "source": [
    "# функция тестирования BN\n",
    "def test_batch_norm(bn):\n",
    "    bn.train(True)\n",
    "    # количество эпох и размер батча\n",
    "    c_epoch = 1\n",
    "    batch_size = 32\n",
    "    # данные для отчета\n",
    "    mean_curve = []\n",
    "    var_curve = []\n",
    "    for iter in range(c_epoch):\n",
    "        Xperm = np.random.permutation(X.shape[0])\n",
    "        loss_acc = 0\n",
    "        nbatches = X.shape[0]//batch_size\n",
    "        for b in range(nbatches):\n",
    "            batch_idxs = Xperm[b*batch_size:(b+1)*batch_size]\n",
    "            x = torch.Tensor(X[batch_idxs])\n",
    "            bn(x)\n",
    "            mean_curve += [ bn.runing_mean ] \n",
    "            var_curve +=  [ bn.runing_var ]\n",
    "    return mean_curve, var_curve"
   ]
  },
  {
   "cell_type": "code",
   "execution_count": null,
   "metadata": {
    "collapsed": true
   },
   "outputs": [],
   "source": [
    "# параметры beta = 0.9, 0.99, 0.5\n",
    "bn_09 = BatchNorm2d(1, beta=0.9)\n",
    "bn_099 = BatchNorm2d(1, beta=0.99)\n",
    "bn_05 = BatchNorm2d(1, beta=0.5)\n",
    "# ставим обучение в True\n",
    "bn.train(True)\n",
    "# количество эпох и размер батча\n",
    "c_epoch = 1\n",
    "batch_size = 32\n",
    "# данные для отчета\n",
    "mean_curve_09, var_curve_09 = test_batch_norm(bn_09)\n",
    "mean_curve_099, var_curve_099 = test_batch_norm(bn_099)\n",
    "mean_curve_05, var_curve_05 = test_batch_norm(bn_05)"
   ]
  },
  {
   "cell_type": "markdown",
   "metadata": {},
   "source": [
    "Смотрим какие значения средних и дисперсий у нас получились"
   ]
  },
  {
   "cell_type": "code",
   "execution_count": null,
   "metadata": {},
   "outputs": [],
   "source": [
    "plt.figure(figsize=(20,10))\n",
    "ax = plt.subplot(4,2,1)\n",
    "ax.plot(mean_curve_09,label=\"mean_09\")\n",
    "ax.plot(mean_curve_099,label=\"mean_099\")\n",
    "ax.legend()\n",
    "ax = plt.subplot(2,2,2)\n",
    "ax.plot(mean_curve_05,label=\"mean_05\",  color='g')\n",
    "ax.legend()\n",
    "ax = plt.subplot(2,2,3)\n",
    "ax.plot(var_curve_09,label=\"var_09\",)\n",
    "ax.plot(var_curve_099,label=\"var_099\",)\n",
    "ax.legend()\n",
    "ax = plt.subplot(2,2,4)\n",
    "ax.plot(var_curve_05,label=\"var_05\",  color='g')\n",
    "ax.legend()"
   ]
  },
  {
   "cell_type": "markdown",
   "metadata": {},
   "source": [
    "Посмотрим как повлияла батч нормализация на изображения"
   ]
  },
  {
   "cell_type": "code",
   "execution_count": null,
   "metadata": {},
   "outputs": [],
   "source": [
    "n=4\n",
    "bn = bn_09\n",
    "bn.train(False)\n",
    "for i in range(n*n):\n",
    "    plt.subplot(n,n,i+1)\n",
    "    I = X[np.random.randint(0, X.shape[0]),0]\n",
    "    x = torch.Tensor(I)\n",
    "    I = bn(x.unsqueeze(0)).squeeze(0).squeeze()\n",
    "    plt.imshow(I, cmap='gray')"
   ]
  },
  {
   "cell_type": "markdown",
   "metadata": {},
   "source": [
    "## Done"
   ]
  },
  {
   "cell_type": "markdown",
   "metadata": {},
   "source": [
    "# Реализуем свой Adam и SGD c моментом"
   ]
  },
  {
   "cell_type": "markdown",
   "metadata": {},
   "source": [
    "Для реализации своего алгоритма оптимизации в pytorch нужно отнаслеловаться от базового класса Optimizer. При начальной инициализации алгоритма оптимизации он получает в качестве параматра все веса сети. Веса сети можно молучить через \n",
    "net.parameters(). По весам сети расчитывается градиент в функции loss.backward(). Веса сети организуются в группы, \n",
    "каждая группа образует словарь с сохраненными параметрами обучения, задаются в конструкторе, и самими параметрами, которые доступны по ключу \"params\". Параметры сети описываются классом Parameters. Для доступа к градиентам используется свойство grad.\n",
    "Это тензор. Для сохранения параметров оптимизатор имеет свойство state, которое является словарем. Используется для\n",
    "хранения промежуточных значений средних, дисперсий между шагами итераций.\n",
    "\n",
    "**Задача** - реализовать функци step() для SGD и Adam, сравнить кривые обучения в зависимости от гиперпараметров (коэффициент обучения, betas), сделать выводы\n"
   ]
  },
  {
   "cell_type": "markdown",
   "metadata": {},
   "source": [
    "## Adam (Adaptive Moment Estimation) \n",
    "\n",
    "Adam = SGD + Momentum + RMSProp\n",
    "\n",
    "$$\n",
    "\\large\n",
    "\\begin{align}\n",
    "m_t &= \\alpha \\times \\ m_{t-1} + (1 - \\alpha)\\times g - момент \\\\ \n",
    "v_t &= \\beta \\times v_{t-1} +  (1-\\beta)\\times g_{t}^2  - скользящее\\ среднее \\ по \\ квадрату \\ градиента \\\\\n",
    "\\\\\n",
    "\\hat{m_t} &= \\frac{m_t}{1 - \\alpha^t}\\\\\n",
    "\\hat{v_t} &= \\frac{v_t}{1 - \\beta^t}\\\\\n",
    "\\theta_t &= \\theta_{t-1} -  \\frac{\\lambda}{\\sqrt{\\hat{v_t} + \\epsilon}}\\times \\hat{m_t} \\\\\n",
    "\\ выразим\\ step\\_size \\ через \\ \\alpha \\ и \\ \\beta \\\\\n",
    "\\ step\\_size =  \\lambda \\frac {({1 - \\beta^t})^2}{{1 - \\alpha^t}} \\\\ \n",
    "\\theta_t &= \\theta_{t-1} -  \\frac{step\\_size}{\\sqrt{v_t + \\epsilon}}\\times m_t \n",
    "\\end{align}\n",
    "$$\n",
    "\n",
    "Полезные функции\n",
    "\n",
    "```python\n",
    "import torch\n",
    "torch.zeros_like(x)  # сделать тензор нулей такойже как x\n",
    "tensor.addcmul_, addcdiv_, mul_  # все функции операции с тензорами, которые заканчиваются на _ присваивают результат в self тензор \n",
    "```\n"
   ]
  },
  {
   "cell_type": "code",
   "execution_count": null,
   "metadata": {
    "collapsed": true
   },
   "outputs": [],
   "source": [
    "from torch.optim import Optimizer\n",
    "import math\n",
    "\n",
    "class Adam(Optimizer):\n",
    "    def __init__(self, params, lr=1e-3, betas=(0.9, 0.999), eps=1e-8):\n",
    "        \"\"\"\n",
    "        :param params: - параметры оптимизируемой сети\n",
    "        :param betas: - коэффициенты сглаживания\n",
    "        :param eps: - \n",
    "        \"\"\"\n",
    "        defaults = dict(lr=lr, betas=betas, eps=eps)\n",
    "        # тут вызываем конструктор базового класса и сохраняем параметры обучения\n",
    "        # их можно достать через self.param_groups\n",
    "        super(Adam, self).__init__(params, defaults)\n",
    "\n",
    "    def step(self):\n",
    "        \"\"\"\n",
    "        Выполняем оптимизационный шаг\n",
    "        \"\"\"\n",
    "        loss = None\n",
    "\n",
    "        for group in self.param_groups:\n",
    "            # итерируемся по всем группам параметров нашей сети\n",
    "            # тут можно вытащить сохраненные параметры в группе\n",
    "            beta1, beta2 = group['betas'] # betas\n",
    "            eps = group['eps'] # эпсилон\n",
    "            lr = group['lr'] # коэффициент обучения\n",
    "            \n",
    "            for p in group['params']:\n",
    "                # итерируемся по всем парамерам в данно группе\n",
    "                # если нет градиента по параметрам скипаем его\n",
    "                if p.grad is None:\n",
    "                    continue\n",
    "                    \n",
    "                # забираем тензор градиента    \n",
    "                grad = p.grad.data\n",
    "                # сами параметры для обновления лежат тут\n",
    "                # p.data\n",
    "                \n",
    "                # тут храняться значения, которые мы расчитываем в процессе \n",
    "                # по каждому параметру в группе нужно расчитывать свои значения\n",
    "                state = self.state[p]\n",
    "\n",
    "                # если параметры мы еще не записали инициализируем их значения\n",
    "                if len(state) == 0:\n",
    "                    state['step'] = 0\n",
    "                    # скользящее среднее по градинтам\n",
    "                    state['avg'] = None # нужно проинициализировать TODO\n",
    "                    # скользящее среднее по квадрату градиентов\n",
    "                    state['avg_sq'] = None # нужно проинициализировать TODO\n",
    "\n",
    "                # тут можем достать сохраненные состояния\n",
    "                exp_avg, exp_avg_sq = state['avg'], state['avg_sq']\n",
    "                        \n",
    "                # запоминаем шаг \n",
    "                state['step'] += 1\n",
    "\n",
    "                # Считаем параметры. Записывать обратно в state не нужно, ибо мы получаем ссылку\n",
    "                # TODO\n",
    "\n",
    "                # обновляем веса в p.data, \n",
    "                # TODO\n",
    "\n",
    "        return loss"
   ]
  },
  {
   "cell_type": "markdown",
   "metadata": {},
   "source": [
    "## SGD + Momentum\n",
    "$$\n",
    "\\Large\n",
    "\\begin{align}\n",
    "g_t &= \\nabla_{\\theta} \\overset{\\wedge}{\\large J}\\left(x,y,\\theta \\right) - градиент \\\\\n",
    "m_t &= \\beta \\times m_{t-1} - (1- \\beta) \\times g_t, \\ где \\  \\beta - параметр\\ обучения \\\\\n",
    "m_t &= \\alpha \\times m_{t-1} - \\lambda \\times g_t, \\ альтернативная \\ форма \\ записи \\\\\n",
    "\\theta_t &= \\theta_{t-1} + m_t\n",
    "\\end{align}\n",
    "$$"
   ]
  },
  {
   "cell_type": "code",
   "execution_count": null,
   "metadata": {
    "collapsed": true
   },
   "outputs": [],
   "source": [
    "\n",
    "class SGD(Optimizer):\n",
    "    def __init__(self, params, lr, beta=0.9):\n",
    "        \"\"\"\n",
    "        :param params: - параметры оптимизируемой сети\n",
    "        :param beta: - коэффициент сглаживания, если 0, получаем обычный SGD\n",
    "        :param eps: - \n",
    "        \"\"\"        \n",
    "        defaults = dict(lr=lr, beta=beta)\n",
    "        # тут вызываем конструктор базового класса и сохраняем параметры обучения\n",
    "        # их можно достать через self.param_groups \n",
    "        super(SGD, self).__init__(params, defaults)\n",
    "\n",
    "    def step(self):\n",
    "        \"\"\"\n",
    "        Выполняем оптимизационный шаг\n",
    "        \"\"\"\n",
    "\n",
    "        loss = None\n",
    "\n",
    "        for group in self.param_groups:\n",
    "            # итерируемся по всем группам параметров нашей сети\n",
    "            # тут можно вытащить сохраненные параметры в группе            \n",
    "            beta = group['beta']\n",
    "            lr = group['lr']\n",
    "            for p in group['params']:\n",
    "                if p.grad is None:\n",
    "                    continue\n",
    "                # gradient                                \n",
    "                grad = p.grad.data\n",
    "                \n",
    "                if beta != 0:\n",
    "                    # тут добавляем момент если он указан\n",
    "                    # todo\n",
    "                    pass\n",
    "\n",
    "                # обновляем веса\n",
    "                # to do\n",
    "                # p.data\n",
    "\n",
    "        return loss\n"
   ]
  },
  {
   "cell_type": "markdown",
   "metadata": {},
   "source": [
    "Тут векторизуем наш выход как OneHotEncoder вектор. Если объект принадлежит классу значение 1 нет 0."
   ]
  },
  {
   "cell_type": "code",
   "execution_count": null,
   "metadata": {},
   "outputs": [],
   "source": [
    "from sklearn.preprocessing import OneHotEncoder\n",
    "\n",
    "Y = mnist['target'].astype('int')\n",
    "print('original', Y)\n"
   ]
  },
  {
   "cell_type": "code",
   "execution_count": null,
   "metadata": {
    "collapsed": true
   },
   "outputs": [],
   "source": [
    "USE_CUDA=False"
   ]
  },
  {
   "cell_type": "markdown",
   "metadata": {},
   "source": [
    "## Определение нашей модели\n",
    "Параметры инициализации\n",
    "- Без параметров - конволюции и активации\n",
    "- dropout = True - c dropout\n",
    "- batchnorm = True - включаем  batch normalization"
   ]
  },
  {
   "cell_type": "code",
   "execution_count": null,
   "metadata": {
    "collapsed": true
   },
   "outputs": [],
   "source": [
    "import torch\n",
    "import torch.nn as nn\n",
    "import torch.nn.functional as F\n",
    "\n",
    "class Net(nn.Module):\n",
    "\n",
    "    # Слои, в которых нет параметров для обучения можно не создавать, а брать из переменной F\n",
    "    def __init__(self, dropout=False, batchnorm=False):\n",
    "        super(Net, self).__init__()\n",
    "        #\n",
    "        # спецальный модуль, который позволяет \n",
    "        # объединять компоненты\n",
    "        self.net = nn.Sequential(nn.BatchNorm2d(1))\n",
    "        \n",
    "        # вход 28x28, выход 24x24 (28-5)/1 + 1 = 24\n",
    "        self.net.add_module('conv_1', nn.Conv2d(1, 8, kernel_size=5, stride=1))\n",
    "        self.net.add_module('relu_1', nn.ReLU())  \n",
    "        \n",
    "        # добавляем дропаут и бн\n",
    "        if batchnorm: self.net.add_module('bn_1', nn.BatchNorm2d(8))\n",
    "        if dropout: self.net.add_module('do_1', nn.Dropout(0.5))\n",
    "            \n",
    "\n",
    "        \n",
    "        # конволюция, которая уменьшает размер картинки в два раза \n",
    "        # (24+2-3)/2+1 = 13, либо используем nn.MaxPool2d\n",
    "        self.net.add_module('pool_1', nn.Conv2d(8, 8, kernel_size=2, stride=2)) \n",
    "        \n",
    "        # далее conv->relu->pool\n",
    "        self.net.add_module('conv_2', nn.Conv2d(8, 16, 5)) # in 12x12, out 8x8\n",
    "        self.net.add_module('relu_2', nn.ReLU() ) \n",
    "        \n",
    "        # добавляем дропаут и бн\n",
    "        if batchnorm: self.net.add_module('bn_2', nn.BatchNorm2d(16))\n",
    "        if dropout: self.net.add_module('do_2', nn.Dropout(0.5))\n",
    "            \n",
    "\n",
    "        self.net.add_module('pool_2', nn.MaxPool2d(kernel_size=2, stride=2))                  \n",
    "        self.fc1 = nn.Linear(16 * 4 * 4, 10)\n",
    "        # relu\n",
    "\n",
    "    def forward(self, x):\n",
    "        x = self.net(x)\n",
    "        # Вытягиваем многомерный тензор катринки в одну линию\n",
    "        x = x.view(-1, 16 * 4 * 4)\n",
    "        x = self.fc1(x)\n",
    "        x = F.relu(x)\n",
    "        return x"
   ]
  },
  {
   "cell_type": "markdown",
   "metadata": {},
   "source": [
    "## Функция обучения модели"
   ]
  },
  {
   "cell_type": "code",
   "execution_count": null,
   "metadata": {
    "collapsed": true
   },
   "outputs": [],
   "source": [
    "def fit_net(c_epoch, network, optimizer):\n",
    "    loss_fn = torch.nn.CrossEntropyLoss()\n",
    "    if USE_CUDA:\n",
    "        loss_fn = loss_fn.cuda()\n",
    "\n",
    "    batch_size = 32\n",
    "    loss_curve = []\n",
    "\n",
    "    for iter in range(c_epoch):\n",
    "        Xperm = np.random.permutation(X.shape[0])\n",
    "        loss_acc = 0\n",
    "        nbatches = X.shape[0]//batch_size\n",
    "        for b in range(nbatches):\n",
    "            optimizer.zero_grad()  \n",
    "            batch_idxs = Xperm[b*batch_size:(b+1)*batch_size]\n",
    "            x = torch.Tensor(X[batch_idxs])\n",
    "            y = torch.from_numpy(Y[batch_idxs]).long()\n",
    "            if USE_CUDA:\n",
    "                x = x.cuda()\n",
    "                y = y.cuda()\n",
    "            y_pred = network(x)\n",
    "            loss = loss_fn(y_pred, y)\n",
    "            loss_acc += float( loss[0] )\n",
    "            loss.backward() # <-- тут расчитывается градиент\n",
    "            optimizer.step()  # <-- тут происходит обновление весов\n",
    "        avg_epoch_loss = loss_acc / (nbatches)\n",
    "        print('Do epoch %s with loss %s' % (iter, avg_epoch_loss ))\n",
    "        loss_curve.append(avg_epoch_loss)\n",
    "    \n",
    "    return loss_curve"
   ]
  },
  {
   "cell_type": "markdown",
   "metadata": {},
   "source": [
    "## SGD без момента"
   ]
  },
  {
   "cell_type": "code",
   "execution_count": null,
   "metadata": {},
   "outputs": [],
   "source": [
    "learning_rate = 1e-1 # \n",
    "net = Net(batchnorm=True) # инициализация сети\n",
    "net = net.cuda() if USE_CUDA else net № если нужно тащим ее на GPU\n",
    "optimizer = SGD(net.parameters(), lr=learning_rate, beta=0.0) # создаем оптимизатор с параметрами\n",
    "loss_curve_sgd = fit_net(20, net, optimizer) # обучаем сеть"
   ]
  },
  {
   "cell_type": "markdown",
   "metadata": {},
   "source": [
    "## SGD с моментом"
   ]
  },
  {
   "cell_type": "code",
   "execution_count": null,
   "metadata": {},
   "outputs": [],
   "source": [
    "learning_rate = 1e-1\n",
    "net = Net(batchnorm=True)\n",
    "net = net.cuda() if USE_CUDA else net\n",
    "optimizer = SGD(net.parameters(), lr=learning_rate, beta=0.9)\n",
    "loss_curve_sgd_momentum = fit_net(20, net, optimizer)"
   ]
  },
  {
   "cell_type": "markdown",
   "metadata": {},
   "source": [
    "## Adam"
   ]
  },
  {
   "cell_type": "code",
   "execution_count": null,
   "metadata": {},
   "outputs": [],
   "source": [
    "learning_rate = 1e-3\n",
    "net = Net(batchnorm=True)\n",
    "net = net.cuda() if USE_CUDA else net\n",
    "optimizer = Adam(net.parameters(), lr=learning_rate, betas=(0.9, 0.999))\n",
    "loss_curve_adam = fit_net(20, net, optimizer)"
   ]
  },
  {
   "cell_type": "markdown",
   "metadata": {},
   "source": [
    "# Кривые обучения"
   ]
  },
  {
   "cell_type": "code",
   "execution_count": null,
   "metadata": {},
   "outputs": [],
   "source": [
    "ax = plt.subplot(1,1,1)\n",
    "ax.plot(loss_curve_sgd,label=\"SGD\")\n",
    "ax.plot(loss_curve_sgd_momentum,label=\"SGD+Momentum\")\n",
    "ax.plot(loss_curve_adam, label='Adam' )\n",
    "ax.legend()"
   ]
  },
  {
   "cell_type": "markdown",
   "metadata": {},
   "source": [
    "### Выводы"
   ]
  },
  {
   "cell_type": "markdown",
   "metadata": {},
   "source": [
    "_пишем выводы по сходимости и скорости обучения: Adam, SGD, SGD+momentum, с различными параметрами обучения lr и betas_"
   ]
  },
  {
   "cell_type": "code",
   "execution_count": null,
   "metadata": {
    "collapsed": true
   },
   "outputs": [],
   "source": []
  }
 ],
 "metadata": {
  "kernelspec": {
   "display_name": "Python 3",
   "language": "python",
   "name": "python3"
  },
  "language_info": {
   "codemirror_mode": {
    "name": "ipython",
    "version": 3
   },
   "file_extension": ".py",
   "mimetype": "text/x-python",
   "name": "python",
   "nbconvert_exporter": "python",
   "pygments_lexer": "ipython3",
   "version": "3.6.6"
  }
 },
 "nbformat": 4,
 "nbformat_minor": 2
}
